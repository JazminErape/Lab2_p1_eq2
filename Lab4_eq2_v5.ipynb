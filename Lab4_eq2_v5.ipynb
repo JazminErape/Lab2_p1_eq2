{
 "cells": [
  {
   "cell_type": "markdown",
   "metadata": {},
   "source": [
    "___\n",
    "<img style=\"float: right; margin: 0px 0px 15px 15px;\" src=\"https://www.carrerasenlinea.mx/logos/original/logo-instituto-tecnologico-y-de-estudios-superiores-de-occidente.png\" width=\"150px\" height=\"100px\" />\n",
    "\n",
    "\n",
    "\n",
    "# <font color= paletvioletred > Laboratorio 4 - Analisis Fundamental</font>\n",
    "\n",
    "\n",
    "\n",
    "\n",
    "### Integrantes: \n",
    "- <Strong> Chavez Jacobo Diana Teresa </Strong> \n",
    "\n",
    "\n",
    "- <Strong> Calderón Erape Jazmín </Strong>\n",
    "\n",
    "#### 14 Abril 2019"
   ]
  },
  {
   "cell_type": "markdown",
   "metadata": {},
   "source": [
    "___\n",
    "### <Strong> <font color = skyblue> I. Motivación del Laboratorio </Strong>"
   ]
  },
  {
   "cell_type": "markdown",
   "metadata": {},
   "source": [
    "___\n",
    "### <Strong> <font color = skyblue> II. Objetivos específicos </Strong>"
   ]
  },
  {
   "cell_type": "code",
   "execution_count": 1,
   "metadata": {
    "collapsed": true
   },
   "outputs": [],
   "source": [
    "# -- ------------------ Importar modulos a utilizar ------------------ -- #\n",
    "\n",
    "import pandas as pd\n",
    "from oandapyV20 import API\n",
    "import oandapyV20.endpoints.instruments as instruments\n",
    "#import plotly.graph_objs as go\n",
    "#import plotly as py\n",
    "from datetime import datetime, date, time, timedelta\n",
    "import calendar"
   ]
  },
  {
   "cell_type": "code",
   "execution_count": 2,
   "metadata": {
    "collapsed": true
   },
   "outputs": [],
   "source": [
    "# -- ------------------ Parametros para Data Frame ------------------ -- #\n",
    "\n",
    "pd.set_option('display.max_rows', 10)\n",
    "pd.set_option('display.max_columns', 200)\n",
    "pd.set_option('display.width', 1000)"
   ]
  },
  {
   "cell_type": "code",
   "execution_count": 3,
   "metadata": {
    "collapsed": true
   },
   "outputs": [],
   "source": [
    "# -- ------------------ Parametros para OANDA ------------------ -- #\n",
    "\n",
    "A1_OA_Da = 16                     # Day Align\n",
    "A1_OA_Ta = \"America/Mexico_City\"  # Time Align\n",
    "\n",
    "A1_OA_Ai = \"101-004-2221697-001\"  # Id de cuenta\n",
    "A1_OA_At = \"practice\"             # Tipo de cuenta\n",
    "\n",
    "A1_OA_In = \"USD_MXN\"              # Instrumento\n",
    "A1_OA_Gn = \"M5\"                   # Granularidad de velas\n",
    "\n",
    "A1_OA_Ak =  \"6ff\" + \"6703d22fd972709992df543492afe\" + \"-f954a9914f9b39f72fba177a23eb243\" + \"b\" #mi api\n"
   ]
  },
  {
   "cell_type": "code",
   "execution_count": 4,
   "metadata": {
    "collapsed": true
   },
   "outputs": [],
   "source": [
    "# -- ------------------ Estructuras de datos ------------------ -- #\n",
    "\n",
    "\n",
    "\n",
    "# -- Paso 1 -- Data Frame (df1_precios) descargando todos los precios, segun fechas y granularidad\n",
    "# -- -- Fecha, Apertura, Maximo, Minimo, Cierre.\n",
    "\n",
    "# -- Paso 2 -- en Data Frame (df2_operaciones)\n",
    "# -- -- Fecha, Folio (1 a n), Operacion (1 = compra, -1 = venta), Unidades (0 a n),\n",
    "# -- -- Margen (0 a n), Comentario (\"razon con base al indicador\")\n",
    "# -- -- Precio_apertura, Precio_cierre\n",
    "\n",
    "# -- Paso 3 -- en Data Frame Cuenta (df3_cuenta)\n",
    "# -- -- Fecha, Capital (Efectivo $), Flotante ($),\n",
    "# -- -- Balance (Capital+Flotante), Rend_Balance_acm, Comentario (\"Se abrio operacion: compra/venta\",\n",
    "# -- -- \"Se cerro operacion: Con perdia de: / Con ganancia de: \", \n",
    "\n",
    "# -- Paso 4 -- Generar un vector de fechas, de F1 hasta F2\n",
    "\n",
    "par0_cap = 100000   # Capital a utilizar $100,000 Usd\n",
    "par1_mar = 1000000  # Unidades por operacion maximo 1'000,000\n",
    "\n",
    "\n",
    "# -- Criterios para trading\n",
    "# -- para cerrar una operacion: 1) TP o SL, 2) Regla con indicador\n",
    "\n",
    "indice = [1, 2, 3, 4, 5]\n",
    "columnas = ['A','B', 'C', 'D']\n",
    "df = pd.DataFrame(index=indice, columns=columnas)\n",
    "df = df.fillna(0) # -- llenar todas las celdas con 0s"
   ]
  },
  {
   "cell_type": "code",
   "execution_count": 5,
   "metadata": {
    "collapsed": true
   },
   "outputs": [],
   "source": [
    "# -- ------------------ Inicializar API de OANDA ------------------ -- #\n",
    "\n",
    "api = API(access_token=A1_OA_Ak)"
   ]
  },
  {
   "cell_type": "code",
   "execution_count": 6,
   "metadata": {
    "collapsed": true
   },
   "outputs": [],
   "source": [
    "# -- ------------------ Función de fechas para descargar precios ------------------ -- #\n",
    "\n",
    "from datetime import date, datetime, timedelta\n",
    "from dateutil.relativedelta import relativedelta\n",
    "\n",
    "def date_range(start_date, end_date, increment, period):\n",
    "    result = []\n",
    "    nxt = start_date\n",
    "    delta = relativedelta(**{period:increment})\n",
    "    while nxt <= end_date:\n",
    "        result.append(nxt)\n",
    "        nxt += delta\n",
    "    return result"
   ]
  },
  {
   "cell_type": "code",
   "execution_count": 7,
   "metadata": {
    "collapsed": true
   },
   "outputs": [],
   "source": [
    "# -- ------------------ vector de fechas por periodos de 15 dias ------------------ -- #\n",
    "\n",
    "start_date = date(2017, 4, 14)\n",
    "end_date = date(2019, 4, 10)\n",
    "fechas = date_range(start_date, end_date, 15, 'days')\n",
    "\n",
    "F1 = fechas[0].strftime('%Y-%m-%dT%H:%M:%S')\n",
    "F2 = fechas[1].strftime('%Y-%m-%dT%H:%M:%S')"
   ]
  },
  {
   "cell_type": "markdown",
   "metadata": {},
   "source": [
    "___\n",
    "### <Strong> <font color = skyblue> DataFrame1 Precios peso-dólar </Strong>"
   ]
  },
  {
   "cell_type": "code",
   "execution_count": 8,
   "metadata": {
    "collapsed": true
   },
   "outputs": [],
   "source": [
    "params = {\"granularity\": A1_OA_Gn, \"price\": \"M\", \"dailyAlignment\": A1_OA_Da,\n",
    "          \"alignmentTimezone\": A1_OA_Ta, \"from\": F1, \"to\": F2}\n",
    "\n",
    "A1_Req1 = instruments.InstrumentsCandles(instrument=A1_OA_In, params=params)\n",
    "A1_Hist = api.request(A1_Req1)"
   ]
  },
  {
   "cell_type": "code",
   "execution_count": 9,
   "metadata": {
    "collapsed": true
   },
   "outputs": [],
   "source": [
    "lis = []\n",
    "for i in range(len(A1_Hist['candles'])-1):\n",
    "        lis.append({'TimeStamp': A1_Hist['candles'][i]['time'],\n",
    "                      'Open': A1_Hist['candles'][i]['mid']['o'],\n",
    "                      'High': A1_Hist['candles'][i]['mid']['h'],\n",
    "                      'Low': A1_Hist['candles'][i]['mid']['l'],\n",
    "                      'Close': A1_Hist['candles'][i]['mid']['c']})\n",
    "\n",
    "pd_hist = pd.DataFrame(lis)\n",
    "pd_hist = pd_hist[['TimeStamp', 'Open', 'High', 'Low', 'Close']]\n",
    "pd_hist['TimeStamp'] = pd.to_datetime(pd_hist['TimeStamp'])"
   ]
  },
  {
   "cell_type": "code",
   "execution_count": 10,
   "metadata": {},
   "outputs": [
    {
     "data": {
      "text/html": [
       "<div>\n",
       "<style scoped>\n",
       "    .dataframe tbody tr th:only-of-type {\n",
       "        vertical-align: middle;\n",
       "    }\n",
       "\n",
       "    .dataframe tbody tr th {\n",
       "        vertical-align: top;\n",
       "    }\n",
       "\n",
       "    .dataframe thead th {\n",
       "        text-align: right;\n",
       "    }\n",
       "</style>\n",
       "<table border=\"1\" class=\"dataframe\">\n",
       "  <thead>\n",
       "    <tr style=\"text-align: right;\">\n",
       "      <th></th>\n",
       "      <th>TimeStamp</th>\n",
       "      <th>Open</th>\n",
       "      <th>High</th>\n",
       "      <th>Low</th>\n",
       "      <th>Close</th>\n",
       "    </tr>\n",
       "  </thead>\n",
       "  <tbody>\n",
       "    <tr>\n",
       "      <th>0</th>\n",
       "      <td>2017-04-14 04:00:00</td>\n",
       "      <td>18.57634</td>\n",
       "      <td>18.57638</td>\n",
       "      <td>18.57450</td>\n",
       "      <td>18.57556</td>\n",
       "    </tr>\n",
       "    <tr>\n",
       "      <th>1</th>\n",
       "      <td>2017-04-14 04:05:00</td>\n",
       "      <td>18.57564</td>\n",
       "      <td>18.57619</td>\n",
       "      <td>18.57479</td>\n",
       "      <td>18.57558</td>\n",
       "    </tr>\n",
       "    <tr>\n",
       "      <th>2</th>\n",
       "      <td>2017-04-14 04:10:00</td>\n",
       "      <td>18.57560</td>\n",
       "      <td>18.57568</td>\n",
       "      <td>18.57540</td>\n",
       "      <td>18.57547</td>\n",
       "    </tr>\n",
       "    <tr>\n",
       "      <th>3</th>\n",
       "      <td>2017-04-14 04:15:00</td>\n",
       "      <td>18.57550</td>\n",
       "      <td>18.57550</td>\n",
       "      <td>18.57534</td>\n",
       "      <td>18.57538</td>\n",
       "    </tr>\n",
       "    <tr>\n",
       "      <th>4</th>\n",
       "      <td>2017-04-14 04:20:00</td>\n",
       "      <td>18.57536</td>\n",
       "      <td>18.57560</td>\n",
       "      <td>18.56932</td>\n",
       "      <td>18.57492</td>\n",
       "    </tr>\n",
       "    <tr>\n",
       "      <th>...</th>\n",
       "      <td>...</td>\n",
       "      <td>...</td>\n",
       "      <td>...</td>\n",
       "      <td>...</td>\n",
       "      <td>...</td>\n",
       "    </tr>\n",
       "    <tr>\n",
       "      <th>3070</th>\n",
       "      <td>2017-04-28 20:30:00</td>\n",
       "      <td>18.82808</td>\n",
       "      <td>18.82991</td>\n",
       "      <td>18.82721</td>\n",
       "      <td>18.82988</td>\n",
       "    </tr>\n",
       "    <tr>\n",
       "      <th>3071</th>\n",
       "      <td>2017-04-28 20:35:00</td>\n",
       "      <td>18.82985</td>\n",
       "      <td>18.83002</td>\n",
       "      <td>18.82970</td>\n",
       "      <td>18.82970</td>\n",
       "    </tr>\n",
       "    <tr>\n",
       "      <th>3072</th>\n",
       "      <td>2017-04-28 20:40:00</td>\n",
       "      <td>18.82972</td>\n",
       "      <td>18.82973</td>\n",
       "      <td>18.82614</td>\n",
       "      <td>18.82672</td>\n",
       "    </tr>\n",
       "    <tr>\n",
       "      <th>3073</th>\n",
       "      <td>2017-04-28 20:45:00</td>\n",
       "      <td>18.82666</td>\n",
       "      <td>18.82719</td>\n",
       "      <td>18.82492</td>\n",
       "      <td>18.82542</td>\n",
       "    </tr>\n",
       "    <tr>\n",
       "      <th>3074</th>\n",
       "      <td>2017-04-28 20:50:00</td>\n",
       "      <td>18.82542</td>\n",
       "      <td>18.82712</td>\n",
       "      <td>18.81523</td>\n",
       "      <td>18.81992</td>\n",
       "    </tr>\n",
       "  </tbody>\n",
       "</table>\n",
       "<p>3075 rows × 5 columns</p>\n",
       "</div>"
      ],
      "text/plain": [
       "               TimeStamp      Open      High       Low     Close\n",
       "0    2017-04-14 04:00:00  18.57634  18.57638  18.57450  18.57556\n",
       "1    2017-04-14 04:05:00  18.57564  18.57619  18.57479  18.57558\n",
       "2    2017-04-14 04:10:00  18.57560  18.57568  18.57540  18.57547\n",
       "3    2017-04-14 04:15:00  18.57550  18.57550  18.57534  18.57538\n",
       "4    2017-04-14 04:20:00  18.57536  18.57560  18.56932  18.57492\n",
       "...                  ...       ...       ...       ...       ...\n",
       "3070 2017-04-28 20:30:00  18.82808  18.82991  18.82721  18.82988\n",
       "3071 2017-04-28 20:35:00  18.82985  18.83002  18.82970  18.82970\n",
       "3072 2017-04-28 20:40:00  18.82972  18.82973  18.82614  18.82672\n",
       "3073 2017-04-28 20:45:00  18.82666  18.82719  18.82492  18.82542\n",
       "3074 2017-04-28 20:50:00  18.82542  18.82712  18.81523  18.81992\n",
       "\n",
       "[3075 rows x 5 columns]"
      ]
     },
     "execution_count": 10,
     "metadata": {},
     "output_type": "execute_result"
    }
   ],
   "source": [
    "# Muestra de precios históricos del peso dólar.\n",
    "\n",
    "pd_hist"
   ]
  },
  {
   "cell_type": "markdown",
   "metadata": {},
   "source": [
    "___\n",
    "### <Strong> <font color = skyblue> Indicador: Consumer Price Index ex Food & Energy (MoM)</Strong>"
   ]
  },
  {
   "cell_type": "code",
   "execution_count": 49,
   "metadata": {},
   "outputs": [
    {
     "data": {
      "text/html": [
       "<div>\n",
       "<style scoped>\n",
       "    .dataframe tbody tr th:only-of-type {\n",
       "        vertical-align: middle;\n",
       "    }\n",
       "\n",
       "    .dataframe tbody tr th {\n",
       "        vertical-align: top;\n",
       "    }\n",
       "\n",
       "    .dataframe thead th {\n",
       "        text-align: right;\n",
       "    }\n",
       "</style>\n",
       "<table border=\"1\" class=\"dataframe\">\n",
       "  <thead>\n",
       "    <tr style=\"text-align: right;\">\n",
       "      <th></th>\n",
       "      <th>DateTime</th>\n",
       "      <th>Actual</th>\n",
       "      <th>Consensus</th>\n",
       "      <th>Previous</th>\n",
       "    </tr>\n",
       "  </thead>\n",
       "  <tbody>\n",
       "    <tr>\n",
       "      <th>0</th>\n",
       "      <td>4/10/19 12:30</td>\n",
       "      <td>0.1</td>\n",
       "      <td>0.2</td>\n",
       "      <td>0.1</td>\n",
       "    </tr>\n",
       "    <tr>\n",
       "      <th>1</th>\n",
       "      <td>3/12/19 12:30</td>\n",
       "      <td>0.1</td>\n",
       "      <td>0.2</td>\n",
       "      <td>0.2</td>\n",
       "    </tr>\n",
       "    <tr>\n",
       "      <th>2</th>\n",
       "      <td>2/13/19 13:30</td>\n",
       "      <td>0.2</td>\n",
       "      <td>0.2</td>\n",
       "      <td>0.2</td>\n",
       "    </tr>\n",
       "    <tr>\n",
       "      <th>3</th>\n",
       "      <td>1/11/19 13:30</td>\n",
       "      <td>0.2</td>\n",
       "      <td>0.2</td>\n",
       "      <td>0.2</td>\n",
       "    </tr>\n",
       "    <tr>\n",
       "      <th>4</th>\n",
       "      <td>12/12/18 13:30</td>\n",
       "      <td>0.2</td>\n",
       "      <td>0.2</td>\n",
       "      <td>0.2</td>\n",
       "    </tr>\n",
       "    <tr>\n",
       "      <th>5</th>\n",
       "      <td>11/14/18 13:30</td>\n",
       "      <td>0.2</td>\n",
       "      <td>0.2</td>\n",
       "      <td>0.1</td>\n",
       "    </tr>\n",
       "    <tr>\n",
       "      <th>6</th>\n",
       "      <td>10/11/18 12:30</td>\n",
       "      <td>0.1</td>\n",
       "      <td>0.2</td>\n",
       "      <td>0.1</td>\n",
       "    </tr>\n",
       "    <tr>\n",
       "      <th>7</th>\n",
       "      <td>9/13/18 12:30</td>\n",
       "      <td>0.1</td>\n",
       "      <td>0.2</td>\n",
       "      <td>0.2</td>\n",
       "    </tr>\n",
       "    <tr>\n",
       "      <th>8</th>\n",
       "      <td>8/10/18 12:30</td>\n",
       "      <td>0.2</td>\n",
       "      <td>0.2</td>\n",
       "      <td>0.2</td>\n",
       "    </tr>\n",
       "    <tr>\n",
       "      <th>9</th>\n",
       "      <td>7/12/18 12:30</td>\n",
       "      <td>0.2</td>\n",
       "      <td>0.2</td>\n",
       "      <td>0.2</td>\n",
       "    </tr>\n",
       "    <tr>\n",
       "      <th>10</th>\n",
       "      <td>6/12/18 12:30</td>\n",
       "      <td>0.2</td>\n",
       "      <td>0.2</td>\n",
       "      <td>0.1</td>\n",
       "    </tr>\n",
       "    <tr>\n",
       "      <th>11</th>\n",
       "      <td>5/10/18 12:30</td>\n",
       "      <td>0.1</td>\n",
       "      <td>0.2</td>\n",
       "      <td>0.2</td>\n",
       "    </tr>\n",
       "    <tr>\n",
       "      <th>12</th>\n",
       "      <td>4/11/18 12:30</td>\n",
       "      <td>0.2</td>\n",
       "      <td>0.2</td>\n",
       "      <td>0.2</td>\n",
       "    </tr>\n",
       "    <tr>\n",
       "      <th>13</th>\n",
       "      <td>3/13/18 12:30</td>\n",
       "      <td>0.2</td>\n",
       "      <td>0.2</td>\n",
       "      <td>0.3</td>\n",
       "    </tr>\n",
       "    <tr>\n",
       "      <th>14</th>\n",
       "      <td>2/14/18 13:30</td>\n",
       "      <td>0.3</td>\n",
       "      <td>0.2</td>\n",
       "      <td>0.3</td>\n",
       "    </tr>\n",
       "    <tr>\n",
       "      <th>15</th>\n",
       "      <td>1/12/18 13:30</td>\n",
       "      <td>0.3</td>\n",
       "      <td>0.2</td>\n",
       "      <td>0.1</td>\n",
       "    </tr>\n",
       "    <tr>\n",
       "      <th>16</th>\n",
       "      <td>12/13/17 13:30</td>\n",
       "      <td>0.1</td>\n",
       "      <td>0.2</td>\n",
       "      <td>0.2</td>\n",
       "    </tr>\n",
       "    <tr>\n",
       "      <th>17</th>\n",
       "      <td>11/15/17 13:30</td>\n",
       "      <td>0.2</td>\n",
       "      <td>0.2</td>\n",
       "      <td>0.1</td>\n",
       "    </tr>\n",
       "    <tr>\n",
       "      <th>18</th>\n",
       "      <td>10/13/17 12:30</td>\n",
       "      <td>0.1</td>\n",
       "      <td>0.2</td>\n",
       "      <td>0.2</td>\n",
       "    </tr>\n",
       "    <tr>\n",
       "      <th>19</th>\n",
       "      <td>9/14/17 12:30</td>\n",
       "      <td>0.2</td>\n",
       "      <td>0.2</td>\n",
       "      <td>0.1</td>\n",
       "    </tr>\n",
       "    <tr>\n",
       "      <th>20</th>\n",
       "      <td>8/11/17 12:30</td>\n",
       "      <td>0.1</td>\n",
       "      <td>0.2</td>\n",
       "      <td>0.1</td>\n",
       "    </tr>\n",
       "    <tr>\n",
       "      <th>21</th>\n",
       "      <td>7/14/17 12:30</td>\n",
       "      <td>0.1</td>\n",
       "      <td>0.2</td>\n",
       "      <td>0.1</td>\n",
       "    </tr>\n",
       "    <tr>\n",
       "      <th>22</th>\n",
       "      <td>6/14/17 12:30</td>\n",
       "      <td>0.1</td>\n",
       "      <td>0.2</td>\n",
       "      <td>0.1</td>\n",
       "    </tr>\n",
       "    <tr>\n",
       "      <th>23</th>\n",
       "      <td>5/12/17 12:30</td>\n",
       "      <td>0.1</td>\n",
       "      <td>0.2</td>\n",
       "      <td>-0.1</td>\n",
       "    </tr>\n",
       "    <tr>\n",
       "      <th>24</th>\n",
       "      <td>4/14/17 12:30</td>\n",
       "      <td>-0.1</td>\n",
       "      <td>0.2</td>\n",
       "      <td>0.2</td>\n",
       "    </tr>\n",
       "  </tbody>\n",
       "</table>\n",
       "</div>"
      ],
      "text/plain": [
       "          DateTime  Actual  Consensus  Previous\n",
       "0    4/10/19 12:30     0.1        0.2       0.1\n",
       "1    3/12/19 12:30     0.1        0.2       0.2\n",
       "2    2/13/19 13:30     0.2        0.2       0.2\n",
       "3    1/11/19 13:30     0.2        0.2       0.2\n",
       "4   12/12/18 13:30     0.2        0.2       0.2\n",
       "5   11/14/18 13:30     0.2        0.2       0.1\n",
       "6   10/11/18 12:30     0.1        0.2       0.1\n",
       "7    9/13/18 12:30     0.1        0.2       0.2\n",
       "8    8/10/18 12:30     0.2        0.2       0.2\n",
       "9    7/12/18 12:30     0.2        0.2       0.2\n",
       "10   6/12/18 12:30     0.2        0.2       0.1\n",
       "11   5/10/18 12:30     0.1        0.2       0.2\n",
       "12   4/11/18 12:30     0.2        0.2       0.2\n",
       "13   3/13/18 12:30     0.2        0.2       0.3\n",
       "14   2/14/18 13:30     0.3        0.2       0.3\n",
       "15   1/12/18 13:30     0.3        0.2       0.1\n",
       "16  12/13/17 13:30     0.1        0.2       0.2\n",
       "17  11/15/17 13:30     0.2        0.2       0.1\n",
       "18  10/13/17 12:30     0.1        0.2       0.2\n",
       "19   9/14/17 12:30     0.2        0.2       0.1\n",
       "20   8/11/17 12:30     0.1        0.2       0.1\n",
       "21   7/14/17 12:30     0.1        0.2       0.1\n",
       "22   6/14/17 12:30     0.1        0.2       0.1\n",
       "23   5/12/17 12:30     0.1        0.2      -0.1\n",
       "24   4/14/17 12:30    -0.1        0.2       0.2"
      ]
     },
     "execution_count": 49,
     "metadata": {},
     "output_type": "execute_result"
    }
   ],
   "source": [
    "indicador = pd.read_csv('https://raw.githubusercontent.com/Dianachav/bebe/master/Consumer%20Price%20Index%20ex%20Food%20%26%20Energy%20(MoM).csv')\n",
    "pd.set_option('display.max_rows', 25)\n",
    "indicador"
   ]
  },
  {
   "cell_type": "markdown",
   "metadata": {},
   "source": [
    "___\n",
    "### <Strong> <font color = skyblue> Escenarios </Strong>"
   ]
  },
  {
   "cell_type": "code",
   "execution_count": 12,
   "metadata": {
    "collapsed": true
   },
   "outputs": [],
   "source": [
    "escenarios = []\n",
    "\n",
    "for i in range(len(indicador['Actual'])):\n",
    "    if indicador['Actual'][i]>= indicador['Consensus'][i]>=indicador['Previous'][i]: #Escenario A\n",
    "        escenarios.append('A')\n",
    "    elif indicador['Actual'][i]>= indicador['Consensus'][i]<=indicador['Previous'][i]:#Escenario B\n",
    "        escenarios.append('B')\n",
    "    elif indicador['Actual'][i]<= indicador['Consensus'][i]>=indicador['Previous'][i]: #Escenario C\n",
    "        escenarios.append('C')\n",
    "    elif indicador['Actual'][i]<= indicador['Consensus'][i]<=indicador['Previous'][i]: #Escenario D\n",
    "        escenarios.append('D')"
   ]
  },
  {
   "cell_type": "code",
   "execution_count": 13,
   "metadata": {},
   "outputs": [
    {
     "data": {
      "text/html": [
       "<div>\n",
       "<style scoped>\n",
       "    .dataframe tbody tr th:only-of-type {\n",
       "        vertical-align: middle;\n",
       "    }\n",
       "\n",
       "    .dataframe tbody tr th {\n",
       "        vertical-align: top;\n",
       "    }\n",
       "\n",
       "    .dataframe thead th {\n",
       "        text-align: right;\n",
       "    }\n",
       "</style>\n",
       "<table border=\"1\" class=\"dataframe\">\n",
       "  <thead>\n",
       "    <tr style=\"text-align: right;\">\n",
       "      <th></th>\n",
       "      <th>Actual</th>\n",
       "      <th>Consensus</th>\n",
       "      <th>Previous</th>\n",
       "      <th>Scene</th>\n",
       "    </tr>\n",
       "    <tr>\n",
       "      <th>DateTime</th>\n",
       "      <th></th>\n",
       "      <th></th>\n",
       "      <th></th>\n",
       "      <th></th>\n",
       "    </tr>\n",
       "  </thead>\n",
       "  <tbody>\n",
       "    <tr>\n",
       "      <th>4/10/19 12:30</th>\n",
       "      <td>0.1</td>\n",
       "      <td>0.2</td>\n",
       "      <td>0.1</td>\n",
       "      <td>C</td>\n",
       "    </tr>\n",
       "    <tr>\n",
       "      <th>3/12/19 12:30</th>\n",
       "      <td>0.1</td>\n",
       "      <td>0.2</td>\n",
       "      <td>0.2</td>\n",
       "      <td>C</td>\n",
       "    </tr>\n",
       "    <tr>\n",
       "      <th>2/13/19 13:30</th>\n",
       "      <td>0.2</td>\n",
       "      <td>0.2</td>\n",
       "      <td>0.2</td>\n",
       "      <td>A</td>\n",
       "    </tr>\n",
       "    <tr>\n",
       "      <th>1/11/19 13:30</th>\n",
       "      <td>0.2</td>\n",
       "      <td>0.2</td>\n",
       "      <td>0.2</td>\n",
       "      <td>A</td>\n",
       "    </tr>\n",
       "    <tr>\n",
       "      <th>12/12/18 13:30</th>\n",
       "      <td>0.2</td>\n",
       "      <td>0.2</td>\n",
       "      <td>0.2</td>\n",
       "      <td>A</td>\n",
       "    </tr>\n",
       "    <tr>\n",
       "      <th>11/14/18 13:30</th>\n",
       "      <td>0.2</td>\n",
       "      <td>0.2</td>\n",
       "      <td>0.1</td>\n",
       "      <td>A</td>\n",
       "    </tr>\n",
       "    <tr>\n",
       "      <th>10/11/18 12:30</th>\n",
       "      <td>0.1</td>\n",
       "      <td>0.2</td>\n",
       "      <td>0.1</td>\n",
       "      <td>C</td>\n",
       "    </tr>\n",
       "    <tr>\n",
       "      <th>9/13/18 12:30</th>\n",
       "      <td>0.1</td>\n",
       "      <td>0.2</td>\n",
       "      <td>0.2</td>\n",
       "      <td>C</td>\n",
       "    </tr>\n",
       "    <tr>\n",
       "      <th>8/10/18 12:30</th>\n",
       "      <td>0.2</td>\n",
       "      <td>0.2</td>\n",
       "      <td>0.2</td>\n",
       "      <td>A</td>\n",
       "    </tr>\n",
       "    <tr>\n",
       "      <th>7/12/18 12:30</th>\n",
       "      <td>0.2</td>\n",
       "      <td>0.2</td>\n",
       "      <td>0.2</td>\n",
       "      <td>A</td>\n",
       "    </tr>\n",
       "    <tr>\n",
       "      <th>6/12/18 12:30</th>\n",
       "      <td>0.2</td>\n",
       "      <td>0.2</td>\n",
       "      <td>0.1</td>\n",
       "      <td>A</td>\n",
       "    </tr>\n",
       "    <tr>\n",
       "      <th>5/10/18 12:30</th>\n",
       "      <td>0.1</td>\n",
       "      <td>0.2</td>\n",
       "      <td>0.2</td>\n",
       "      <td>C</td>\n",
       "    </tr>\n",
       "    <tr>\n",
       "      <th>4/11/18 12:30</th>\n",
       "      <td>0.2</td>\n",
       "      <td>0.2</td>\n",
       "      <td>0.2</td>\n",
       "      <td>A</td>\n",
       "    </tr>\n",
       "    <tr>\n",
       "      <th>3/13/18 12:30</th>\n",
       "      <td>0.2</td>\n",
       "      <td>0.2</td>\n",
       "      <td>0.3</td>\n",
       "      <td>B</td>\n",
       "    </tr>\n",
       "    <tr>\n",
       "      <th>2/14/18 13:30</th>\n",
       "      <td>0.3</td>\n",
       "      <td>0.2</td>\n",
       "      <td>0.3</td>\n",
       "      <td>B</td>\n",
       "    </tr>\n",
       "    <tr>\n",
       "      <th>1/12/18 13:30</th>\n",
       "      <td>0.3</td>\n",
       "      <td>0.2</td>\n",
       "      <td>0.1</td>\n",
       "      <td>A</td>\n",
       "    </tr>\n",
       "    <tr>\n",
       "      <th>12/13/17 13:30</th>\n",
       "      <td>0.1</td>\n",
       "      <td>0.2</td>\n",
       "      <td>0.2</td>\n",
       "      <td>C</td>\n",
       "    </tr>\n",
       "    <tr>\n",
       "      <th>11/15/17 13:30</th>\n",
       "      <td>0.2</td>\n",
       "      <td>0.2</td>\n",
       "      <td>0.1</td>\n",
       "      <td>A</td>\n",
       "    </tr>\n",
       "    <tr>\n",
       "      <th>10/13/17 12:30</th>\n",
       "      <td>0.1</td>\n",
       "      <td>0.2</td>\n",
       "      <td>0.2</td>\n",
       "      <td>C</td>\n",
       "    </tr>\n",
       "    <tr>\n",
       "      <th>9/14/17 12:30</th>\n",
       "      <td>0.2</td>\n",
       "      <td>0.2</td>\n",
       "      <td>0.1</td>\n",
       "      <td>A</td>\n",
       "    </tr>\n",
       "    <tr>\n",
       "      <th>8/11/17 12:30</th>\n",
       "      <td>0.1</td>\n",
       "      <td>0.2</td>\n",
       "      <td>0.1</td>\n",
       "      <td>C</td>\n",
       "    </tr>\n",
       "    <tr>\n",
       "      <th>7/14/17 12:30</th>\n",
       "      <td>0.1</td>\n",
       "      <td>0.2</td>\n",
       "      <td>0.1</td>\n",
       "      <td>C</td>\n",
       "    </tr>\n",
       "    <tr>\n",
       "      <th>6/14/17 12:30</th>\n",
       "      <td>0.1</td>\n",
       "      <td>0.2</td>\n",
       "      <td>0.1</td>\n",
       "      <td>C</td>\n",
       "    </tr>\n",
       "    <tr>\n",
       "      <th>5/12/17 12:30</th>\n",
       "      <td>0.1</td>\n",
       "      <td>0.2</td>\n",
       "      <td>-0.1</td>\n",
       "      <td>C</td>\n",
       "    </tr>\n",
       "    <tr>\n",
       "      <th>4/14/17 12:30</th>\n",
       "      <td>-0.1</td>\n",
       "      <td>0.2</td>\n",
       "      <td>0.2</td>\n",
       "      <td>C</td>\n",
       "    </tr>\n",
       "  </tbody>\n",
       "</table>\n",
       "</div>"
      ],
      "text/plain": [
       "                Actual  Consensus  Previous Scene\n",
       "DateTime                                         \n",
       "4/10/19 12:30      0.1        0.2       0.1     C\n",
       "3/12/19 12:30      0.1        0.2       0.2     C\n",
       "2/13/19 13:30      0.2        0.2       0.2     A\n",
       "1/11/19 13:30      0.2        0.2       0.2     A\n",
       "12/12/18 13:30     0.2        0.2       0.2     A\n",
       "11/14/18 13:30     0.2        0.2       0.1     A\n",
       "10/11/18 12:30     0.1        0.2       0.1     C\n",
       "9/13/18 12:30      0.1        0.2       0.2     C\n",
       "8/10/18 12:30      0.2        0.2       0.2     A\n",
       "7/12/18 12:30      0.2        0.2       0.2     A\n",
       "6/12/18 12:30      0.2        0.2       0.1     A\n",
       "5/10/18 12:30      0.1        0.2       0.2     C\n",
       "4/11/18 12:30      0.2        0.2       0.2     A\n",
       "3/13/18 12:30      0.2        0.2       0.3     B\n",
       "2/14/18 13:30      0.3        0.2       0.3     B\n",
       "1/12/18 13:30      0.3        0.2       0.1     A\n",
       "12/13/17 13:30     0.1        0.2       0.2     C\n",
       "11/15/17 13:30     0.2        0.2       0.1     A\n",
       "10/13/17 12:30     0.1        0.2       0.2     C\n",
       "9/14/17 12:30      0.2        0.2       0.1     A\n",
       "8/11/17 12:30      0.1        0.2       0.1     C\n",
       "7/14/17 12:30      0.1        0.2       0.1     C\n",
       "6/14/17 12:30      0.1        0.2       0.1     C\n",
       "5/12/17 12:30      0.1        0.2      -0.1     C\n",
       "4/14/17 12:30     -0.1        0.2       0.2     C"
      ]
     },
     "execution_count": 13,
     "metadata": {},
     "output_type": "execute_result"
    }
   ],
   "source": [
    "tabla=pd.DataFrame(columns=['DateTime','Actual','Consensus', 'Previous', 'Scene'])\n",
    "tabla['DateTime'] = indicador['DateTime']\n",
    "tabla['Actual'] = indicador['Actual']\n",
    "tabla['Consensus'] = indicador['Consensus']\n",
    "tabla['Previous'] = indicador['Previous']\n",
    "tabla['Scene'] = escenarios\n",
    "pd.set_option('display.max_rows', 25)\n",
    "tabla.set_index('DateTime')\n"
   ]
  },
  {
   "cell_type": "markdown",
   "metadata": {},
   "source": [
    "___\n",
    "### <Strong> <font color = skyblue> Ventanas </Strong>"
   ]
  },
  {
   "cell_type": "code",
   "execution_count": 50,
   "metadata": {
    "collapsed": true
   },
   "outputs": [],
   "source": [
    "def ventana(F1,F2):\n",
    "    params = {\"granularity\": A1_OA_Gn, \"price\": \"M\", \"dailyAlignment\": A1_OA_Da,\n",
    "              \"alignmentTimezone\": A1_OA_Ta, \"from\": F1, \"to\": F2}\n",
    "\n",
    "    A1_Req1 = instruments.InstrumentsCandles(instrument=A1_OA_In, params=params)\n",
    "    A1_Hist = api.request(A1_Req1)\n",
    "    lista = []\n",
    "\n",
    "    for i in range(len(A1_Hist['candles'])-1):\n",
    "            lista.append({'TimeStamp': A1_Hist['candles'][i]['time'],\n",
    "                          'Open': A1_Hist['candles'][i]['mid']['o'],\n",
    "                          'High': A1_Hist['candles'][i]['mid']['h'],\n",
    "                          'Low': A1_Hist['candles'][i]['mid']['l'],\n",
    "                          'Close': A1_Hist['candles'][i]['mid']['c']})\n",
    "\n",
    "    pd_hist = pd.DataFrame(lista)\n",
    "    pd_hist = pd_hist[['TimeStamp', 'Open', 'High', 'Low', 'Close']]\n",
    "    pd_hist['TimeStamp'] = pd.to_datetime(pd_hist['TimeStamp'])\n",
    "    return(pd_hist)"
   ]
  },
  {
   "cell_type": "markdown",
   "metadata": {},
   "source": [
    "___\n",
    "### <Strong> <font color = skyblue> Características </Strong>"
   ]
  },
  {
   "cell_type": "markdown",
   "metadata": {},
   "source": [
    "$C1$ = $High_{max}$ - $Low_{min}$  -> Volatilidad\n",
    "\n",
    "$C2$ = $Open_{t0}$ - $Close_{t10}$  -> Dirección\n",
    "\n",
    "$C3$ = $Open_{t0}$ - $Low_{t10}$   -> Draw Down\n",
    "\n",
    "$C4$ = $Open_{t0}$ - $High_{t10}$   -> Draw Up\n",
    "\n",
    "Donde:\n",
    "\n",
    "${max}$ = Máximo valor de la ventana de precios\n",
    "\n",
    "${min}$ = Mínimo valor de la ventana de precios\n",
    "\n",
    "$t_{0}$ = Tiempo de ocurrencia del indicador\n",
    "\n",
    "$t_{10}$ = Último dato de la ventana de precios"
   ]
  },
  {
   "cell_type": "code",
   "execution_count": 51,
   "metadata": {},
   "outputs": [
    {
     "data": {
      "text/html": [
       "<div>\n",
       "<style scoped>\n",
       "    .dataframe tbody tr th:only-of-type {\n",
       "        vertical-align: middle;\n",
       "    }\n",
       "\n",
       "    .dataframe tbody tr th {\n",
       "        vertical-align: top;\n",
       "    }\n",
       "\n",
       "    .dataframe thead th {\n",
       "        text-align: right;\n",
       "    }\n",
       "</style>\n",
       "<table border=\"1\" class=\"dataframe\">\n",
       "  <thead>\n",
       "    <tr style=\"text-align: right;\">\n",
       "      <th></th>\n",
       "      <th>TimeStamp</th>\n",
       "      <th>Open</th>\n",
       "      <th>High</th>\n",
       "      <th>Low</th>\n",
       "      <th>Close</th>\n",
       "    </tr>\n",
       "  </thead>\n",
       "  <tbody>\n",
       "    <tr>\n",
       "      <th>0</th>\n",
       "      <td>2019-04-10 11:40:00</td>\n",
       "      <td>18.85804</td>\n",
       "      <td>18.85811</td>\n",
       "      <td>18.85555</td>\n",
       "      <td>18.85556</td>\n",
       "    </tr>\n",
       "    <tr>\n",
       "      <th>1</th>\n",
       "      <td>2019-04-10 11:45:00</td>\n",
       "      <td>18.85558</td>\n",
       "      <td>18.85976</td>\n",
       "      <td>18.85188</td>\n",
       "      <td>18.85188</td>\n",
       "    </tr>\n",
       "    <tr>\n",
       "      <th>2</th>\n",
       "      <td>2019-04-10 11:50:00</td>\n",
       "      <td>18.85190</td>\n",
       "      <td>18.86140</td>\n",
       "      <td>18.85189</td>\n",
       "      <td>18.85867</td>\n",
       "    </tr>\n",
       "    <tr>\n",
       "      <th>3</th>\n",
       "      <td>2019-04-10 11:55:00</td>\n",
       "      <td>18.85873</td>\n",
       "      <td>18.86792</td>\n",
       "      <td>18.85686</td>\n",
       "      <td>18.86434</td>\n",
       "    </tr>\n",
       "    <tr>\n",
       "      <th>4</th>\n",
       "      <td>2019-04-10 12:00:00</td>\n",
       "      <td>18.86434</td>\n",
       "      <td>18.86434</td>\n",
       "      <td>18.85757</td>\n",
       "      <td>18.86193</td>\n",
       "    </tr>\n",
       "    <tr>\n",
       "      <th>5</th>\n",
       "      <td>2019-04-10 12:05:00</td>\n",
       "      <td>18.86194</td>\n",
       "      <td>18.86514</td>\n",
       "      <td>18.86090</td>\n",
       "      <td>18.86200</td>\n",
       "    </tr>\n",
       "    <tr>\n",
       "      <th>6</th>\n",
       "      <td>2019-04-10 12:10:00</td>\n",
       "      <td>18.86202</td>\n",
       "      <td>18.86786</td>\n",
       "      <td>18.86156</td>\n",
       "      <td>18.86509</td>\n",
       "    </tr>\n",
       "    <tr>\n",
       "      <th>7</th>\n",
       "      <td>2019-04-10 12:15:00</td>\n",
       "      <td>18.86506</td>\n",
       "      <td>18.87281</td>\n",
       "      <td>18.86497</td>\n",
       "      <td>18.86878</td>\n",
       "    </tr>\n",
       "    <tr>\n",
       "      <th>8</th>\n",
       "      <td>2019-04-10 12:20:00</td>\n",
       "      <td>18.86879</td>\n",
       "      <td>18.86945</td>\n",
       "      <td>18.86004</td>\n",
       "      <td>18.86416</td>\n",
       "    </tr>\n",
       "    <tr>\n",
       "      <th>9</th>\n",
       "      <td>2019-04-10 12:25:00</td>\n",
       "      <td>18.86420</td>\n",
       "      <td>18.86830</td>\n",
       "      <td>18.86191</td>\n",
       "      <td>18.86456</td>\n",
       "    </tr>\n",
       "    <tr>\n",
       "      <th>10</th>\n",
       "      <td>2019-04-10 12:30:00</td>\n",
       "      <td>18.86454</td>\n",
       "      <td>18.88500</td>\n",
       "      <td>18.84858</td>\n",
       "      <td>18.87563</td>\n",
       "    </tr>\n",
       "    <tr>\n",
       "      <th>11</th>\n",
       "      <td>2019-04-10 12:35:00</td>\n",
       "      <td>18.87560</td>\n",
       "      <td>18.88810</td>\n",
       "      <td>18.87139</td>\n",
       "      <td>18.87664</td>\n",
       "    </tr>\n",
       "    <tr>\n",
       "      <th>12</th>\n",
       "      <td>2019-04-10 12:40:00</td>\n",
       "      <td>18.87665</td>\n",
       "      <td>18.88203</td>\n",
       "      <td>18.85808</td>\n",
       "      <td>18.86078</td>\n",
       "    </tr>\n",
       "    <tr>\n",
       "      <th>13</th>\n",
       "      <td>2019-04-10 12:45:00</td>\n",
       "      <td>18.86078</td>\n",
       "      <td>18.86326</td>\n",
       "      <td>18.84374</td>\n",
       "      <td>18.84395</td>\n",
       "    </tr>\n",
       "    <tr>\n",
       "      <th>14</th>\n",
       "      <td>2019-04-10 12:50:00</td>\n",
       "      <td>18.84393</td>\n",
       "      <td>18.85061</td>\n",
       "      <td>18.83044</td>\n",
       "      <td>18.83350</td>\n",
       "    </tr>\n",
       "    <tr>\n",
       "      <th>15</th>\n",
       "      <td>2019-04-10 12:55:00</td>\n",
       "      <td>18.83354</td>\n",
       "      <td>18.85186</td>\n",
       "      <td>18.82788</td>\n",
       "      <td>18.84568</td>\n",
       "    </tr>\n",
       "    <tr>\n",
       "      <th>16</th>\n",
       "      <td>2019-04-10 13:00:00</td>\n",
       "      <td>18.84570</td>\n",
       "      <td>18.84784</td>\n",
       "      <td>18.83723</td>\n",
       "      <td>18.83778</td>\n",
       "    </tr>\n",
       "    <tr>\n",
       "      <th>17</th>\n",
       "      <td>2019-04-10 13:05:00</td>\n",
       "      <td>18.83777</td>\n",
       "      <td>18.85524</td>\n",
       "      <td>18.83638</td>\n",
       "      <td>18.85522</td>\n",
       "    </tr>\n",
       "    <tr>\n",
       "      <th>18</th>\n",
       "      <td>2019-04-10 13:10:00</td>\n",
       "      <td>18.85520</td>\n",
       "      <td>18.86038</td>\n",
       "      <td>18.84754</td>\n",
       "      <td>18.86018</td>\n",
       "    </tr>\n",
       "    <tr>\n",
       "      <th>19</th>\n",
       "      <td>2019-04-10 13:15:00</td>\n",
       "      <td>18.86018</td>\n",
       "      <td>18.86350</td>\n",
       "      <td>18.84665</td>\n",
       "      <td>18.84949</td>\n",
       "    </tr>\n",
       "    <tr>\n",
       "      <th>20</th>\n",
       "      <td>2019-04-10 13:20:00</td>\n",
       "      <td>18.84948</td>\n",
       "      <td>18.85060</td>\n",
       "      <td>18.83990</td>\n",
       "      <td>18.84270</td>\n",
       "    </tr>\n",
       "  </tbody>\n",
       "</table>\n",
       "</div>"
      ],
      "text/plain": [
       "             TimeStamp      Open      High       Low     Close\n",
       "0  2019-04-10 11:40:00  18.85804  18.85811  18.85555  18.85556\n",
       "1  2019-04-10 11:45:00  18.85558  18.85976  18.85188  18.85188\n",
       "2  2019-04-10 11:50:00  18.85190  18.86140  18.85189  18.85867\n",
       "3  2019-04-10 11:55:00  18.85873  18.86792  18.85686  18.86434\n",
       "4  2019-04-10 12:00:00  18.86434  18.86434  18.85757  18.86193\n",
       "5  2019-04-10 12:05:00  18.86194  18.86514  18.86090  18.86200\n",
       "6  2019-04-10 12:10:00  18.86202  18.86786  18.86156  18.86509\n",
       "7  2019-04-10 12:15:00  18.86506  18.87281  18.86497  18.86878\n",
       "8  2019-04-10 12:20:00  18.86879  18.86945  18.86004  18.86416\n",
       "9  2019-04-10 12:25:00  18.86420  18.86830  18.86191  18.86456\n",
       "10 2019-04-10 12:30:00  18.86454  18.88500  18.84858  18.87563\n",
       "11 2019-04-10 12:35:00  18.87560  18.88810  18.87139  18.87664\n",
       "12 2019-04-10 12:40:00  18.87665  18.88203  18.85808  18.86078\n",
       "13 2019-04-10 12:45:00  18.86078  18.86326  18.84374  18.84395\n",
       "14 2019-04-10 12:50:00  18.84393  18.85061  18.83044  18.83350\n",
       "15 2019-04-10 12:55:00  18.83354  18.85186  18.82788  18.84568\n",
       "16 2019-04-10 13:00:00  18.84570  18.84784  18.83723  18.83778\n",
       "17 2019-04-10 13:05:00  18.83777  18.85524  18.83638  18.85522\n",
       "18 2019-04-10 13:10:00  18.85520  18.86038  18.84754  18.86018\n",
       "19 2019-04-10 13:15:00  18.86018  18.86350  18.84665  18.84949\n",
       "20 2019-04-10 13:20:00  18.84948  18.85060  18.83990  18.84270"
      ]
     },
     "execution_count": 51,
     "metadata": {},
     "output_type": "execute_result"
    }
   ],
   "source": [
    "# -- --------------------------------------Ventana indicador 1 ---------------------------------- #\n",
    "# -- ------------------------------------------------------------- --------------------------- -- #\n",
    "v = ventana(F1 = \"2019-04-10T11:40:00Z\",F2 = \"2019-04-10T13:30:00Z\")\n",
    "v"
   ]
  },
  {
   "cell_type": "code",
   "execution_count": 52,
   "metadata": {
    "collapsed": true
   },
   "outputs": [],
   "source": [
    "def caract(v):\n",
    "    #v = ventana(F1 = \"2019-04-10T11:40:00Z\",F2 = \"2019-04-10T13:30:00Z\")\n",
    "    o = v['Open'].astype(float)\n",
    "    c = v['Close'].astype(float)\n",
    "    l = v['Low'].astype(float)\n",
    "    h = v['High'].astype(float)\n",
    "\n",
    "    caract1= max(h)-min(l)\n",
    "    caract2= o[10]-c[20]\n",
    "    caract3= o[10]-l[20]\n",
    "    caract4= o[10]-h[20]\n",
    "    c1=round(caract1,3)\n",
    "    c2=round(caract2,3)\n",
    "    c3=round(caract3,3)\n",
    "    c4=round(caract4,3)\n",
    "    return(c1,c2,c3,c3)"
   ]
  },
  {
   "cell_type": "code",
   "execution_count": 53,
   "metadata": {},
   "outputs": [
    {
     "data": {
      "text/plain": [
       "(0.06, 0.021999999999999999, 0.025000000000000001, 0.025000000000000001)"
      ]
     },
     "execution_count": 53,
     "metadata": {},
     "output_type": "execute_result"
    }
   ],
   "source": [
    "caract(v)\n"
   ]
  },
  {
   "cell_type": "code",
   "execution_count": 54,
   "metadata": {},
   "outputs": [],
   "source": [
    "# -- --------------------------------------Ventana indicador 2 ---------------------------------- #\n",
    "# -- ------------------------------------------------------------- --------------------------- -- #\n",
    "\n",
    "v = ventana(F1 = \"2019-03-12T11:40:00Z\",F2 = \"2019-03-12T13:30:00Z\")\n"
   ]
  },
  {
   "cell_type": "code",
   "execution_count": 55,
   "metadata": {},
   "outputs": [
    {
     "data": {
      "text/plain": [
       "(0.141, 0.063, 0.073999999999999996, 0.073999999999999996)"
      ]
     },
     "execution_count": 55,
     "metadata": {},
     "output_type": "execute_result"
    }
   ],
   "source": [
    "caract(v)"
   ]
  },
  {
   "cell_type": "code",
   "execution_count": 56,
   "metadata": {
    "collapsed": true
   },
   "outputs": [],
   "source": [
    "# -- --------------------------------------Ventana indicador 3 ---------------------------------- #\n",
    "\n",
    "v = ventana(F1 = \"2019-02-13T12:40:00Z\",F2 = \"2019-02-13T14:30:00Z\")"
   ]
  },
  {
   "cell_type": "code",
   "execution_count": 57,
   "metadata": {},
   "outputs": [
    {
     "data": {
      "text/plain": [
       "(0.102, -0.045999999999999999, -0.043999999999999997, -0.043999999999999997)"
      ]
     },
     "execution_count": 57,
     "metadata": {},
     "output_type": "execute_result"
    }
   ],
   "source": [
    "caract(v)"
   ]
  },
  {
   "cell_type": "code",
   "execution_count": 58,
   "metadata": {
    "collapsed": true
   },
   "outputs": [],
   "source": [
    "# -- --------------------------------------Ventana indicador 4 ---------------------------------- #\n",
    "\n",
    "v = ventana(F1 = \"2019-01-11T12:40:00Z\",F2 = \"2019-01-11T14:30:00Z\")\n"
   ]
  },
  {
   "cell_type": "code",
   "execution_count": 59,
   "metadata": {},
   "outputs": [
    {
     "data": {
      "text/plain": [
       "(0.089, -0.036999999999999998, -0.017999999999999999, -0.017999999999999999)"
      ]
     },
     "execution_count": 59,
     "metadata": {},
     "output_type": "execute_result"
    }
   ],
   "source": [
    "caract(v)"
   ]
  },
  {
   "cell_type": "code",
   "execution_count": 60,
   "metadata": {
    "collapsed": true
   },
   "outputs": [],
   "source": [
    "# -- --------------------------------------Ventana indicador 5 ---------------------------------- #\n",
    "\n",
    "v = ventana(F1 = \"2018-12-12T12:40:00Z\",F2 = \"2018-12-12T14:30:00Z\")\n"
   ]
  },
  {
   "cell_type": "code",
   "execution_count": 61,
   "metadata": {},
   "outputs": [
    {
     "data": {
      "text/plain": [
       "(0.119, 0.035000000000000003, 0.051999999999999998, 0.051999999999999998)"
      ]
     },
     "execution_count": 61,
     "metadata": {},
     "output_type": "execute_result"
    }
   ],
   "source": [
    "caract(v)"
   ]
  },
  {
   "cell_type": "code",
   "execution_count": 62,
   "metadata": {
    "collapsed": true
   },
   "outputs": [],
   "source": [
    "# -- --------------------------------------Ventana indicador 6 ---------------------------------- #\n",
    "\n",
    "v = ventana(F1 = \"2018-11-14T12:40:00Z\",F2 = \"2018-11-14T14:30:00Z\")\n"
   ]
  },
  {
   "cell_type": "code",
   "execution_count": 63,
   "metadata": {},
   "outputs": [
    {
     "data": {
      "text/plain": [
       "(0.128, 0.036999999999999998, 0.053999999999999999, 0.053999999999999999)"
      ]
     },
     "execution_count": 63,
     "metadata": {},
     "output_type": "execute_result"
    }
   ],
   "source": [
    "caract(v)"
   ]
  },
  {
   "cell_type": "code",
   "execution_count": 70,
   "metadata": {},
   "outputs": [],
   "source": [
    "# -- --------------------------------------Ventana indicador 7 ---------------------------------- #\n",
    "\n",
    "v = ventana(F1 = \"2018-10-11T11:40:00Z\",F2 = \"2018-10-11T13:30:00Z\")\n"
   ]
  },
  {
   "cell_type": "code",
   "execution_count": 71,
   "metadata": {},
   "outputs": [
    {
     "data": {
      "text/plain": [
       "(0.141, 0.040000000000000001, 0.042000000000000003, 0.042000000000000003)"
      ]
     },
     "execution_count": 71,
     "metadata": {},
     "output_type": "execute_result"
    }
   ],
   "source": [
    "caract(v)"
   ]
  },
  {
   "cell_type": "code",
   "execution_count": 22,
   "metadata": {
    "collapsed": true
   },
   "outputs": [],
   "source": [
    "# -- --------------------------------------Ventana indicador 8 ---------------------------------- #\n",
    "\n",
    "v8 = ventana(F1 = \"2018-09-13T11:40:00Z\",F2 = \"2018-09-13T13:30:00Z\")\n",
    "v8_o = v8['Open'].astype(float)\n",
    "v8_c = v8['Close'].astype(float)\n",
    "v8_l = v8['Low'].astype(float)\n",
    "v8_h = v8['High'].astype(float)"
   ]
  },
  {
   "cell_type": "code",
   "execution_count": 23,
   "metadata": {
    "collapsed": true
   },
   "outputs": [],
   "source": [
    "# -- --------------------------------------Ventana indicador 9 ---------------------------------- #\n",
    "\n",
    "v9 = ventana(F1 = \"2018-08-10T11:40:00Z\",F2 = \"2018-08-10T13:30:00Z\")\n",
    "v9_o = v9['Open'].astype(float)\n",
    "v9_c = v9['Close'].astype(float)\n",
    "v9_l = v9['Low'].astype(float)\n",
    "v9_h = v9['High'].astype(float)"
   ]
  },
  {
   "cell_type": "code",
   "execution_count": 24,
   "metadata": {
    "collapsed": true
   },
   "outputs": [],
   "source": [
    "# -- --------------------------------------Ventana indicador 10 ---------------------------------- #\n",
    "\n",
    "v10 = ventana(F1 = \"2018-07-12T11:40:00Z\",F2 = \"2018-07-12T13:20:00Z\")\n",
    "v10_o = v10['Open'].astype(float)\n",
    "v10_c = v10['Close'].astype(float)\n",
    "v10_l = v10['Low'].astype(float)\n",
    "v10_h = v10['High'].astype(float)"
   ]
  },
  {
   "cell_type": "code",
   "execution_count": 25,
   "metadata": {
    "collapsed": true
   },
   "outputs": [],
   "source": [
    "# -- --------------------------------------Ventana indicador 11 ---------------------------------- #\n",
    "\n",
    "v11 = ventana(F1 = \"2018-06-12T11:40:00Z\",F2 = \"2018-06-12T13:30:00Z\")\n",
    "v11_o = v11['Open'].astype(float)\n",
    "v11_c = v11['Close'].astype(float)\n",
    "v11_l = v11['Low'].astype(float)\n",
    "v11_h = v11['High'].astype(float)"
   ]
  },
  {
   "cell_type": "code",
   "execution_count": 26,
   "metadata": {
    "collapsed": true
   },
   "outputs": [],
   "source": [
    "# -- --------------------------------------Ventana indicador 12 ---------------------------------- #\n",
    "\n",
    "v12 = ventana(F1 = \"2018-05-10T11:40:00Z\",F2 = \"2018-05-10T13:30:00Z\")\n",
    "v12_o = v12['Open'].astype(float)\n",
    "v12_c = v12['Close'].astype(float)\n",
    "v12_l = v12['Low'].astype(float)\n",
    "v12_h = v12['High'].astype(float)"
   ]
  },
  {
   "cell_type": "code",
   "execution_count": 27,
   "metadata": {
    "collapsed": true
   },
   "outputs": [],
   "source": [
    "# -- --------------------------------------Ventana indicador 13 ---------------------------------- #\n",
    "\n",
    "v13 = ventana(F1 = \"2018-04-11T11:40:00Z\",F2 = \"2018-04-11T13:30:00Z\")\n",
    "v13_o = v13['Open'].astype(float)\n",
    "v13_c = v13['Close'].astype(float)\n",
    "v13_l = v13['Low'].astype(float)\n",
    "v13_h = v13['High'].astype(float)"
   ]
  },
  {
   "cell_type": "code",
   "execution_count": 28,
   "metadata": {
    "collapsed": true
   },
   "outputs": [],
   "source": [
    "# -- --------------------------------------Ventana indicador 14 ---------------------------------- #\n",
    "\n",
    "v14 = ventana(F1 = \"2018-03-13T11:40:00Z\",F2 = \"2018-03-13T13:30:00Z\")\n",
    "v14_o = v14['Open'].astype(float)\n",
    "v14_c = v14['Close'].astype(float)\n",
    "v14_l = v14['Low'].astype(float)\n",
    "v14_h = v14['High'].astype(float)"
   ]
  },
  {
   "cell_type": "code",
   "execution_count": 29,
   "metadata": {
    "collapsed": true
   },
   "outputs": [],
   "source": [
    "# -- --------------------------------------Ventana indicador 15 ---------------------------------- #\n",
    "\n",
    "v15 = ventana(F1 = \"2018-02-14T11:40:00Z\",F2 = \"2018-02-14T13:30:00Z\")\n",
    "v15_o = v15['Open'].astype(float)\n",
    "v15_c = v15['Close'].astype(float)\n",
    "v15_l = v15['Low'].astype(float)\n",
    "v15_h = v15['High'].astype(float)"
   ]
  },
  {
   "cell_type": "code",
   "execution_count": 30,
   "metadata": {
    "collapsed": true
   },
   "outputs": [],
   "source": [
    "# -- --------------------------------------Ventana indicador 16 ---------------------------------- #\n",
    "\n",
    "v16 = ventana(F1 = \"2018-01-10T12:40:00Z\",F2 = \"2018-01-10T14:30:00Z\")\n",
    "v16_o = v16['Open'].astype(float)\n",
    "v16_c = v16['Close'].astype(float)\n",
    "v16_l = v16['Low'].astype(float)\n",
    "v16_h = v16['High'].astype(float)"
   ]
  },
  {
   "cell_type": "code",
   "execution_count": 31,
   "metadata": {
    "collapsed": true
   },
   "outputs": [],
   "source": [
    "# -- --------------------------------------Ventana indicador 17 ---------------------------------- #\n",
    "\n",
    "v17 = ventana(F1 = \"2017-12-13T12:40:00Z\",F2 = \"2017-12-13T14:30:00Z\")\n",
    "v17_o = v17['Open'].astype(float)\n",
    "v17_c = v17['Close'].astype(float)\n",
    "v17_l = v17['Low'].astype(float)\n",
    "v17_h = v17['High'].astype(float)"
   ]
  },
  {
   "cell_type": "code",
   "execution_count": 32,
   "metadata": {
    "collapsed": true
   },
   "outputs": [],
   "source": [
    "# -- --------------------------------------Ventana indicador 18 ---------------------------------- #\n",
    "\n",
    "v18 = ventana(F1 = \"2017-11-15T12:40:00Z\",F2 = \"2017-11-15T14:30:00Z\")\n",
    "v18_o = v18['Open'].astype(float)\n",
    "v18_c = v18['Close'].astype(float)\n",
    "v18_l = v18['Low'].astype(float)\n",
    "v18_h = v18['High'].astype(float)"
   ]
  },
  {
   "cell_type": "code",
   "execution_count": 33,
   "metadata": {
    "collapsed": true
   },
   "outputs": [],
   "source": [
    "# -- --------------------------------------Ventana indicador 19 ---------------------------------- #\n",
    "\n",
    "v19 = ventana(F1 = \"2017-10-13T11:40:00Z\",F2 = \"2017-10-13T13:30:00Z\")\n",
    "v19_o = v19['Open'].astype(float)\n",
    "v19_c = v19['Close'].astype(float)\n",
    "v19_l = v19['Low'].astype(float)\n",
    "v19_h = v19['High'].astype(float)"
   ]
  },
  {
   "cell_type": "code",
   "execution_count": 34,
   "metadata": {
    "collapsed": true
   },
   "outputs": [],
   "source": [
    "# -- --------------------------------------Ventana indicador 20 ---------------------------------- #\n",
    "\n",
    "v20 = ventana(F1 = \"2017-09-14T11:40:00Z\",F2 = \"2017-09-14T13:30:00Z\")\n",
    "v20_o = v20['Open'].astype(float)\n",
    "v20_c = v20['Close'].astype(float)\n",
    "v20_l = v20['Low'].astype(float)\n",
    "v20_h = v20['High'].astype(float)"
   ]
  },
  {
   "cell_type": "code",
   "execution_count": 35,
   "metadata": {
    "collapsed": true
   },
   "outputs": [],
   "source": [
    "# -- --------------------------------------Ventana indicador 21 ---------------------------------- #\n",
    "\n",
    "v21 = ventana(F1 = \"2017-09-14T11:40:00Z\",F2 = \"2017-09-14T13:30:00Z\")\n",
    "v21_o = v21['Open'].astype(float)\n",
    "v21_c = v21['Close'].astype(float)\n",
    "v21_l = v21['Low'].astype(float)\n",
    "v21_h = v21['High'].astype(float)"
   ]
  },
  {
   "cell_type": "code",
   "execution_count": 36,
   "metadata": {
    "collapsed": true
   },
   "outputs": [],
   "source": [
    "# -- --------------------------------------Ventana indicador 22 ---------------------------------- #\n",
    "\n",
    "v22 = ventana(F1 = \"2017-07-14T11:40:00Z\",F2 = \"2017-07-14T13:30:00Z\")\n",
    "v22_o = v22['Open'].astype(float)\n",
    "v22_c = v22['Close'].astype(float)\n",
    "v22_l = v22['Low'].astype(float)\n",
    "v22_h = v22['High'].astype(float)"
   ]
  },
  {
   "cell_type": "code",
   "execution_count": 37,
   "metadata": {
    "collapsed": true
   },
   "outputs": [],
   "source": [
    "# -- --------------------------------------Ventana indicador 23 ---------------------------------- #\n",
    "\n",
    "v23 = ventana(F1 = \"2017-06-14T11:40:00Z\",F2 = \"2017-06-14T13:30:00Z\")\n",
    "v23_o = v23['Open'].astype(float)\n",
    "v23_c = v23['Close'].astype(float)\n",
    "v23_l = v23['Low'].astype(float)\n",
    "v23_h = v23['High'].astype(float)"
   ]
  },
  {
   "cell_type": "code",
   "execution_count": 38,
   "metadata": {},
   "outputs": [],
   "source": [
    "# -- --------------------------------------Ventana indicador 25 ---------------------------------- #\n",
    "\n",
    "v25 = ventana(F1 = \"2017-04-14T11:40:00Z\",F2 = \"2017-04-14T13:30:00Z\")\n",
    "v25_o = v25['Open'].astype(float)\n",
    "v25_c = v25['Close'].astype(float)\n",
    "v25_l = v25['Low'].astype(float)\n",
    "v25_h = v25['High'].astype(float)"
   ]
  },
  {
   "cell_type": "markdown",
   "metadata": {},
   "source": [
    "___\n",
    "### <Strong> <font color = skyblue> DataFrame5 Escenario-Caracteristicas </Strong>"
   ]
  },
  {
   "cell_type": "code",
   "execution_count": 73,
   "metadata": {},
   "outputs": [
    {
     "data": {
      "text/html": [
       "<div>\n",
       "<style scoped>\n",
       "    .dataframe tbody tr th:only-of-type {\n",
       "        vertical-align: middle;\n",
       "    }\n",
       "\n",
       "    .dataframe tbody tr th {\n",
       "        vertical-align: top;\n",
       "    }\n",
       "\n",
       "    .dataframe thead th {\n",
       "        text-align: right;\n",
       "    }\n",
       "</style>\n",
       "<table border=\"1\" class=\"dataframe\">\n",
       "  <thead>\n",
       "    <tr style=\"text-align: right;\">\n",
       "      <th></th>\n",
       "      <th>A</th>\n",
       "      <th>B</th>\n",
       "      <th>C</th>\n",
       "      <th>D</th>\n",
       "    </tr>\n",
       "    <tr>\n",
       "      <th>Scene</th>\n",
       "      <th></th>\n",
       "      <th></th>\n",
       "      <th></th>\n",
       "      <th></th>\n",
       "    </tr>\n",
       "  </thead>\n",
       "  <tbody>\n",
       "    <tr>\n",
       "      <th>C</th>\n",
       "      <td>0</td>\n",
       "      <td>0</td>\n",
       "      <td>0</td>\n",
       "      <td>0</td>\n",
       "    </tr>\n",
       "    <tr>\n",
       "      <th>C</th>\n",
       "      <td>0</td>\n",
       "      <td>0</td>\n",
       "      <td>0</td>\n",
       "      <td>0</td>\n",
       "    </tr>\n",
       "    <tr>\n",
       "      <th>A</th>\n",
       "      <td>0</td>\n",
       "      <td>0</td>\n",
       "      <td>0</td>\n",
       "      <td>0</td>\n",
       "    </tr>\n",
       "    <tr>\n",
       "      <th>A</th>\n",
       "      <td>0</td>\n",
       "      <td>0</td>\n",
       "      <td>0</td>\n",
       "      <td>0</td>\n",
       "    </tr>\n",
       "    <tr>\n",
       "      <th>A</th>\n",
       "      <td>0</td>\n",
       "      <td>0</td>\n",
       "      <td>0</td>\n",
       "      <td>0</td>\n",
       "    </tr>\n",
       "    <tr>\n",
       "      <th>A</th>\n",
       "      <td>0</td>\n",
       "      <td>0</td>\n",
       "      <td>0</td>\n",
       "      <td>0</td>\n",
       "    </tr>\n",
       "    <tr>\n",
       "      <th>C</th>\n",
       "      <td>0</td>\n",
       "      <td>0</td>\n",
       "      <td>0</td>\n",
       "      <td>0</td>\n",
       "    </tr>\n",
       "    <tr>\n",
       "      <th>C</th>\n",
       "      <td>0</td>\n",
       "      <td>0</td>\n",
       "      <td>0</td>\n",
       "      <td>0</td>\n",
       "    </tr>\n",
       "    <tr>\n",
       "      <th>A</th>\n",
       "      <td>0</td>\n",
       "      <td>0</td>\n",
       "      <td>0</td>\n",
       "      <td>0</td>\n",
       "    </tr>\n",
       "    <tr>\n",
       "      <th>A</th>\n",
       "      <td>0</td>\n",
       "      <td>0</td>\n",
       "      <td>0</td>\n",
       "      <td>0</td>\n",
       "    </tr>\n",
       "    <tr>\n",
       "      <th>A</th>\n",
       "      <td>0</td>\n",
       "      <td>0</td>\n",
       "      <td>0</td>\n",
       "      <td>0</td>\n",
       "    </tr>\n",
       "    <tr>\n",
       "      <th>C</th>\n",
       "      <td>0</td>\n",
       "      <td>0</td>\n",
       "      <td>0</td>\n",
       "      <td>0</td>\n",
       "    </tr>\n",
       "    <tr>\n",
       "      <th>A</th>\n",
       "      <td>0</td>\n",
       "      <td>0</td>\n",
       "      <td>0</td>\n",
       "      <td>0</td>\n",
       "    </tr>\n",
       "    <tr>\n",
       "      <th>B</th>\n",
       "      <td>0</td>\n",
       "      <td>0</td>\n",
       "      <td>0</td>\n",
       "      <td>0</td>\n",
       "    </tr>\n",
       "    <tr>\n",
       "      <th>B</th>\n",
       "      <td>0</td>\n",
       "      <td>0</td>\n",
       "      <td>0</td>\n",
       "      <td>0</td>\n",
       "    </tr>\n",
       "    <tr>\n",
       "      <th>A</th>\n",
       "      <td>0</td>\n",
       "      <td>0</td>\n",
       "      <td>0</td>\n",
       "      <td>0</td>\n",
       "    </tr>\n",
       "    <tr>\n",
       "      <th>C</th>\n",
       "      <td>0</td>\n",
       "      <td>0</td>\n",
       "      <td>0</td>\n",
       "      <td>0</td>\n",
       "    </tr>\n",
       "    <tr>\n",
       "      <th>A</th>\n",
       "      <td>0</td>\n",
       "      <td>0</td>\n",
       "      <td>0</td>\n",
       "      <td>0</td>\n",
       "    </tr>\n",
       "    <tr>\n",
       "      <th>C</th>\n",
       "      <td>0</td>\n",
       "      <td>0</td>\n",
       "      <td>0</td>\n",
       "      <td>0</td>\n",
       "    </tr>\n",
       "    <tr>\n",
       "      <th>A</th>\n",
       "      <td>0</td>\n",
       "      <td>0</td>\n",
       "      <td>0</td>\n",
       "      <td>0</td>\n",
       "    </tr>\n",
       "    <tr>\n",
       "      <th>C</th>\n",
       "      <td>0</td>\n",
       "      <td>0</td>\n",
       "      <td>0</td>\n",
       "      <td>0</td>\n",
       "    </tr>\n",
       "    <tr>\n",
       "      <th>C</th>\n",
       "      <td>0</td>\n",
       "      <td>0</td>\n",
       "      <td>0</td>\n",
       "      <td>0</td>\n",
       "    </tr>\n",
       "    <tr>\n",
       "      <th>C</th>\n",
       "      <td>0</td>\n",
       "      <td>0</td>\n",
       "      <td>0</td>\n",
       "      <td>0</td>\n",
       "    </tr>\n",
       "    <tr>\n",
       "      <th>C</th>\n",
       "      <td>0</td>\n",
       "      <td>0</td>\n",
       "      <td>0</td>\n",
       "      <td>0</td>\n",
       "    </tr>\n",
       "    <tr>\n",
       "      <th>C</th>\n",
       "      <td>0</td>\n",
       "      <td>0</td>\n",
       "      <td>0</td>\n",
       "      <td>0</td>\n",
       "    </tr>\n",
       "  </tbody>\n",
       "</table>\n",
       "</div>"
      ],
      "text/plain": [
       "       A  B  C  D\n",
       "Scene            \n",
       "C      0  0  0  0\n",
       "C      0  0  0  0\n",
       "A      0  0  0  0\n",
       "A      0  0  0  0\n",
       "A      0  0  0  0\n",
       "A      0  0  0  0\n",
       "C      0  0  0  0\n",
       "C      0  0  0  0\n",
       "A      0  0  0  0\n",
       "A      0  0  0  0\n",
       "A      0  0  0  0\n",
       "C      0  0  0  0\n",
       "A      0  0  0  0\n",
       "B      0  0  0  0\n",
       "B      0  0  0  0\n",
       "A      0  0  0  0\n",
       "C      0  0  0  0\n",
       "A      0  0  0  0\n",
       "C      0  0  0  0\n",
       "A      0  0  0  0\n",
       "C      0  0  0  0\n",
       "C      0  0  0  0\n",
       "C      0  0  0  0\n",
       "C      0  0  0  0\n",
       "C      0  0  0  0"
      ]
     },
     "execution_count": 73,
     "metadata": {},
     "output_type": "execute_result"
    }
   ],
   "source": [
    "indice = tabla['Scene']\n",
    "columnas = ['A','B', 'C', 'D']\n",
    "df = pd.DataFrame(index=indice, columns=columnas)\n",
    "df = df.fillna(0) # -- llenar todas las celdas con 0s\n",
    "df"
   ]
  },
  {
   "cell_type": "code",
   "execution_count": null,
   "metadata": {
    "collapsed": true
   },
   "outputs": [],
   "source": []
  },
  {
   "cell_type": "code",
   "execution_count": null,
   "metadata": {
    "collapsed": true
   },
   "outputs": [],
   "source": []
  }
 ],
 "metadata": {
  "kernelspec": {
   "display_name": "Python 3",
   "language": "python",
   "name": "python3"
  },
  "language_info": {
   "codemirror_mode": {
    "name": "ipython",
    "version": 3
   },
   "file_extension": ".py",
   "mimetype": "text/x-python",
   "name": "python",
   "nbconvert_exporter": "python",
   "pygments_lexer": "ipython3",
   "version": "3.6.3"
  }
 },
 "nbformat": 4,
 "nbformat_minor": 2
}
