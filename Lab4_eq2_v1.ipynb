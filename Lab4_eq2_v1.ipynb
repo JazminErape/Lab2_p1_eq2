{
 "cells": [
  {
   "cell_type": "markdown",
   "metadata": {},
   "source": [
    "___\n",
    "<img style=\"float: right; margin: 0px 0px 15px 15px;\" src=\"https://www.carrerasenlinea.mx/logos/original/logo-instituto-tecnologico-y-de-estudios-superiores-de-occidente.png\" width=\"150px\" height=\"100px\" />\n",
    "\n",
    "\n",
    "\n",
    "# <font color= paletvioletred > Laboratorio 4 - Analisis Fundamental</font>\n",
    "\n",
    "\n",
    "\n",
    "\n",
    "### Integrantes: \n",
    "- <Strong> Chavez Jacobo Diana Teresa </Strong> \n",
    "\n",
    "\n",
    "- <Strong> Calderón Erape Jazmín </Strong>\n",
    "\n",
    "#### 14 Abril 2019"
   ]
  },
  {
   "cell_type": "markdown",
   "metadata": {},
   "source": [
    "___\n",
    "### <Strong> <font color = skyblue> I. Motivación del Laboratorio </Strong>"
   ]
  },
  {
   "cell_type": "markdown",
   "metadata": {},
   "source": [
    "___\n",
    "### <Strong> <font color = skyblue> II. Objetivos específicos </Strong>"
   ]
  },
  {
   "cell_type": "code",
   "execution_count": null,
   "metadata": {
    "collapsed": true
   },
   "outputs": [],
   "source": []
  },
  {
   "cell_type": "code",
   "execution_count": 1,
   "metadata": {
    "collapsed": true
   },
   "outputs": [],
   "source": [
    "# -- ------------------------------------------------------------- Importar modulos a utilizar -- #\n",
    "# -- ------------------------------------------------------------- --------------------------- -- #\n",
    "\n",
    "import ta as ta\n",
    "import pandas as pd\n",
    "from oandapyV20 import API\n",
    "import oandapyV20.endpoints.instruments as instruments\n",
    "import plotly.graph_objs as go\n",
    "import plotly as py"
   ]
  },
  {
   "cell_type": "code",
   "execution_count": 2,
   "metadata": {
    "collapsed": true
   },
   "outputs": [],
   "source": [
    "# -- -------------------------------------------------------------- Parametros para Data Frame -- #\n",
    "# -- ------------------------------------------------------------------- --------------------- -- #\n",
    "\n",
    "pd.set_option('display.max_rows', 10)\n",
    "pd.set_option('display.max_columns', 200)\n",
    "pd.set_option('display.width', 1000)"
   ]
  },
  {
   "cell_type": "code",
   "execution_count": 3,
   "metadata": {
    "collapsed": true
   },
   "outputs": [],
   "source": [
    "# -- ------------------------------------------------------------------- Parametros para OANDA -- #\n",
    "# -- ------------------------------------------------------------------- --------------------- -- #\n",
    "\n",
    "A1_OA_Da = 16                     # Day Align\n",
    "A1_OA_Ta = \"America/Mexico_City\"  # Time Align\n",
    "\n",
    "A1_OA_Ai = \"101-004-2221697-001\"  # Id de cuenta\n",
    "A1_OA_At = \"practice\"             # Tipo de cuenta\n",
    "\n",
    "A1_OA_In = \"USD_MXN\"              # Instrumento\n",
    "A1_OA_Gn = \"M5\"                   # Granularidad de velas\n",
    "\n",
    "#A1_OA_Ak = '2' + '6b62ddbe404c61a1cc9da0ed8395945-52d44ef76c42b62460581783bba6c8e' + 'a'\n",
    "A1_OA_Ak =  \"6ff\" + \"6703d22fd972709992df543492afe\" + \"-f954a9914f9b39f72fba177a23eb243\" + \"b\" #mi api\n",
    "#F1 = \"2019-03-01T00:00:00Z\"\n",
    "#F2 = \"2017-03-01T10:00:00Z\""
   ]
  },
  {
   "cell_type": "code",
   "execution_count": 4,
   "metadata": {
    "collapsed": true
   },
   "outputs": [],
   "source": [
    "# -- -------------------------------------------------------------------- Estructuras de datos -- #\n",
    "# -- ------------------------------------------------------------------- --------------------- -- #\n",
    "\n",
    "# -- Paso 1 -- Data Frame (df1_precios) descargando todos los precios, segun fechas y granularidad\n",
    "# -- -- Fecha, Apertura, Maximo, Minimo, Cierre.\n",
    "\n",
    "# -- Paso 2 -- en Data Frame (df2_operaciones)\n",
    "# -- -- Fecha, Folio (1 a n), Operacion (1 = compra, -1 = venta), Unidades (0 a n),\n",
    "# -- -- Margen (0 a n), Comentario (\"razon con base al indicador\")\n",
    "# -- -- Precio_apertura, Precio_cierre\n",
    "\n",
    "# -- Paso 3 -- en Data Frame Cuenta (df3_cuenta)\n",
    "# -- -- Fecha, Capital (Efectivo $), Flotante ($),\n",
    "# -- -- Balance (Capital+Flotante), Rend_Balance_acm, Comentario (\"Se abrio operacion: compra/venta\",\n",
    "# -- -- \"Se cerro operacion: Con perdia de: / Con ganancia de: \", \n",
    "\n",
    "# -- Paso 4 -- Generar un vector de fechas, de F1 hasta F2\n",
    "\n",
    "par0_cap = 100000   # Capital a utilizar $100,000 Usd\n",
    "par1_mar = 1000000  # Unidades por operacion maximo 1'000,000\n",
    "\n",
    "\n",
    "# -- Criterios para trading\n",
    "# -- para cerrar una operacion: 1) TP o SL, 2) Regla con indicador\n",
    "\n",
    "indice = [1, 2, 3, 4, 5]\n",
    "columnas = ['A','B', 'C', 'D']\n",
    "df = pd.DataFrame(index=indice, columns=columnas)\n",
    "df = df.fillna(0) # -- llenar todas las celdas con 0s"
   ]
  },
  {
   "cell_type": "code",
   "execution_count": 5,
   "metadata": {
    "collapsed": true
   },
   "outputs": [],
   "source": [
    "# -- ---------------------------------------------------------------- Inicializar API de OANDA -- #\n",
    "# -- ---------------------------------------------------------------- ------------------------ -- #\n",
    "\n",
    "api = API(access_token=A1_OA_Ak)"
   ]
  },
  {
   "cell_type": "code",
   "execution_count": 6,
   "metadata": {
    "collapsed": true
   },
   "outputs": [],
   "source": [
    "# -- ---------------------------------------------------------------- Función de fechas para descargar precios -- #\n",
    "# -- ---------------------------------------------------------------- ------------------------ -- -------- -----#\n",
    "from datetime import date, datetime, timedelta\n",
    "from dateutil.relativedelta import relativedelta\n",
    "\n",
    "def date_range(start_date, end_date, increment, period):\n",
    "    result = []\n",
    "    nxt = start_date\n",
    "    delta = relativedelta(**{period:increment})\n",
    "    while nxt <= end_date:\n",
    "        result.append(nxt)\n",
    "        nxt += delta\n",
    "    return result\n",
    "\n"
   ]
  },
  {
   "cell_type": "code",
   "execution_count": 7,
   "metadata": {
    "collapsed": true
   },
   "outputs": [],
   "source": [
    "# -- ---------------------------------------------------------------- vetor de fechas por periodos de 15 dias--- #\n",
    "# -- ---------------------------------------------------------------- ------------------------ -- -------- -----#\n",
    "\n",
    "start_date = date(2017, 3, 1)\n",
    "end_date = date(2019, 3, 1)\n",
    "fechas = date_range(start_date, end_date, 15, 'days')\n",
    "\n",
    "F1 = fechas[0].strftime('%Y-%m-%dT%H:%M:%S')\n",
    "F2 = fechas[1].strftime('%Y-%m-%dT%H:%M:%S')"
   ]
  },
  {
   "cell_type": "code",
   "execution_count": 8,
   "metadata": {
    "collapsed": true
   },
   "outputs": [],
   "source": [
    "# -- -------------------------------------------------------------- Obtener precios historicos -- #\n",
    "# -- -------------------------------------------------------------- -------------------------- -- #\n",
    "\n",
    "params = {\"granularity\": A1_OA_Gn, \"price\": \"M\", \"dailyAlignment\": A1_OA_Da,\n",
    "          \"alignmentTimezone\": A1_OA_Ta, \"from\": F1, \"to\": F2}\n",
    "\n",
    "A1_Req1 = instruments.InstrumentsCandles(instrument=A1_OA_In, params=params)\n",
    "A1_Hist = api.request(A1_Req1)"
   ]
  },
  {
   "cell_type": "code",
   "execution_count": 9,
   "metadata": {
    "collapsed": true
   },
   "outputs": [],
   "source": [
    "lista = []\n",
    "for i in range(len(A1_Hist['candles'])-1):\n",
    "        lista.append({'TimeStamp': A1_Hist['candles'][i]['time'],\n",
    "                      'Open': A1_Hist['candles'][i]['mid']['o'],\n",
    "                      'High': A1_Hist['candles'][i]['mid']['h'],\n",
    "                      'Low': A1_Hist['candles'][i]['mid']['l'],\n",
    "                      'Close': A1_Hist['candles'][i]['mid']['c']})\n",
    "\n",
    "pd_hist = pd.DataFrame(lista)\n",
    "pd_hist = pd_hist[['TimeStamp', 'Open', 'High', 'Low', 'Close']]\n",
    "pd_hist['TimeStamp'] = pd.to_datetime(pd_hist['TimeStamp'])"
   ]
  },
  {
   "cell_type": "code",
   "execution_count": 10,
   "metadata": {},
   "outputs": [
    {
     "data": {
      "text/html": [
       "<div>\n",
       "<style scoped>\n",
       "    .dataframe tbody tr th:only-of-type {\n",
       "        vertical-align: middle;\n",
       "    }\n",
       "\n",
       "    .dataframe tbody tr th {\n",
       "        vertical-align: top;\n",
       "    }\n",
       "\n",
       "    .dataframe thead th {\n",
       "        text-align: right;\n",
       "    }\n",
       "</style>\n",
       "<table border=\"1\" class=\"dataframe\">\n",
       "  <thead>\n",
       "    <tr style=\"text-align: right;\">\n",
       "      <th></th>\n",
       "      <th>TimeStamp</th>\n",
       "      <th>Open</th>\n",
       "      <th>High</th>\n",
       "      <th>Low</th>\n",
       "      <th>Close</th>\n",
       "    </tr>\n",
       "  </thead>\n",
       "  <tbody>\n",
       "    <tr>\n",
       "      <th>0</th>\n",
       "      <td>2017-03-01 05:00:00</td>\n",
       "      <td>20.11632</td>\n",
       "      <td>20.11746</td>\n",
       "      <td>20.11432</td>\n",
       "      <td>20.11738</td>\n",
       "    </tr>\n",
       "    <tr>\n",
       "      <th>1</th>\n",
       "      <td>2017-03-01 05:05:00</td>\n",
       "      <td>20.11738</td>\n",
       "      <td>20.11790</td>\n",
       "      <td>20.11592</td>\n",
       "      <td>20.11745</td>\n",
       "    </tr>\n",
       "    <tr>\n",
       "      <th>2</th>\n",
       "      <td>2017-03-01 05:10:00</td>\n",
       "      <td>20.11742</td>\n",
       "      <td>20.11744</td>\n",
       "      <td>20.11602</td>\n",
       "      <td>20.11602</td>\n",
       "    </tr>\n",
       "    <tr>\n",
       "      <th>3</th>\n",
       "      <td>2017-03-01 05:15:00</td>\n",
       "      <td>20.11578</td>\n",
       "      <td>20.11688</td>\n",
       "      <td>20.11478</td>\n",
       "      <td>20.11658</td>\n",
       "    </tr>\n",
       "    <tr>\n",
       "      <th>4</th>\n",
       "      <td>2017-03-01 05:20:00</td>\n",
       "      <td>20.11658</td>\n",
       "      <td>20.11839</td>\n",
       "      <td>20.11626</td>\n",
       "      <td>20.11654</td>\n",
       "    </tr>\n",
       "    <tr>\n",
       "      <th>...</th>\n",
       "      <td>...</td>\n",
       "      <td>...</td>\n",
       "      <td>...</td>\n",
       "      <td>...</td>\n",
       "      <td>...</td>\n",
       "    </tr>\n",
       "    <tr>\n",
       "      <th>3160</th>\n",
       "      <td>2017-03-16 03:30:00</td>\n",
       "      <td>19.21670</td>\n",
       "      <td>19.22206</td>\n",
       "      <td>19.21649</td>\n",
       "      <td>19.22180</td>\n",
       "    </tr>\n",
       "    <tr>\n",
       "      <th>3161</th>\n",
       "      <td>2017-03-16 03:35:00</td>\n",
       "      <td>19.22180</td>\n",
       "      <td>19.22197</td>\n",
       "      <td>19.22076</td>\n",
       "      <td>19.22108</td>\n",
       "    </tr>\n",
       "    <tr>\n",
       "      <th>3162</th>\n",
       "      <td>2017-03-16 03:40:00</td>\n",
       "      <td>19.22104</td>\n",
       "      <td>19.22468</td>\n",
       "      <td>19.22092</td>\n",
       "      <td>19.22458</td>\n",
       "    </tr>\n",
       "    <tr>\n",
       "      <th>3163</th>\n",
       "      <td>2017-03-16 03:45:00</td>\n",
       "      <td>19.22460</td>\n",
       "      <td>19.22538</td>\n",
       "      <td>19.22460</td>\n",
       "      <td>19.22536</td>\n",
       "    </tr>\n",
       "    <tr>\n",
       "      <th>3164</th>\n",
       "      <td>2017-03-16 03:50:00</td>\n",
       "      <td>19.22538</td>\n",
       "      <td>19.22541</td>\n",
       "      <td>19.22412</td>\n",
       "      <td>19.22482</td>\n",
       "    </tr>\n",
       "  </tbody>\n",
       "</table>\n",
       "<p>3165 rows × 5 columns</p>\n",
       "</div>"
      ],
      "text/plain": [
       "               TimeStamp      Open      High       Low     Close\n",
       "0    2017-03-01 05:00:00  20.11632  20.11746  20.11432  20.11738\n",
       "1    2017-03-01 05:05:00  20.11738  20.11790  20.11592  20.11745\n",
       "2    2017-03-01 05:10:00  20.11742  20.11744  20.11602  20.11602\n",
       "3    2017-03-01 05:15:00  20.11578  20.11688  20.11478  20.11658\n",
       "4    2017-03-01 05:20:00  20.11658  20.11839  20.11626  20.11654\n",
       "...                  ...       ...       ...       ...       ...\n",
       "3160 2017-03-16 03:30:00  19.21670  19.22206  19.21649  19.22180\n",
       "3161 2017-03-16 03:35:00  19.22180  19.22197  19.22076  19.22108\n",
       "3162 2017-03-16 03:40:00  19.22104  19.22468  19.22092  19.22458\n",
       "3163 2017-03-16 03:45:00  19.22460  19.22538  19.22460  19.22536\n",
       "3164 2017-03-16 03:50:00  19.22538  19.22541  19.22412  19.22482\n",
       "\n",
       "[3165 rows x 5 columns]"
      ]
     },
     "execution_count": 10,
     "metadata": {},
     "output_type": "execute_result"
    }
   ],
   "source": [
    "pd_hist"
   ]
  },
  {
   "cell_type": "code",
   "execution_count": null,
   "metadata": {
    "collapsed": true
   },
   "outputs": [],
   "source": []
  }
 ],
 "metadata": {
  "kernelspec": {
   "display_name": "Python 3",
   "language": "python",
   "name": "python3"
  },
  "language_info": {
   "codemirror_mode": {
    "name": "ipython",
    "version": 3
   },
   "file_extension": ".py",
   "mimetype": "text/x-python",
   "name": "python",
   "nbconvert_exporter": "python",
   "pygments_lexer": "ipython3",
   "version": "3.6.3"
  }
 },
 "nbformat": 4,
 "nbformat_minor": 2
}
