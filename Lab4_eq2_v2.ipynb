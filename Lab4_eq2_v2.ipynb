{
 "cells": [
  {
   "cell_type": "markdown",
   "metadata": {},
   "source": [
    "___\n",
    "<img style=\"float: right; margin: 0px 0px 15px 15px;\" src=\"https://www.carrerasenlinea.mx/logos/original/logo-instituto-tecnologico-y-de-estudios-superiores-de-occidente.png\" width=\"150px\" height=\"100px\" />\n",
    "\n",
    "\n",
    "\n",
    "# <font color= paletvioletred > Laboratorio 4 - Analisis Fundamental</font>\n",
    "\n",
    "\n",
    "\n",
    "\n",
    "### Integrantes: \n",
    "- <Strong> Chavez Jacobo Diana Teresa </Strong> \n",
    "\n",
    "\n",
    "- <Strong> Calderón Erape Jazmín </Strong>\n",
    "\n",
    "#### 14 Abril 2019"
   ]
  },
  {
   "cell_type": "markdown",
   "metadata": {},
   "source": [
    "___\n",
    "### <Strong> <font color = skyblue> I. Motivación del Laboratorio </Strong>"
   ]
  },
  {
   "cell_type": "markdown",
   "metadata": {},
   "source": [
    "___\n",
    "### <Strong> <font color = skyblue> II. Objetivos específicos </Strong>"
   ]
  },
  {
   "cell_type": "code",
   "execution_count": null,
   "metadata": {},
   "outputs": [],
   "source": []
  },
  {
   "cell_type": "code",
   "execution_count": 1,
   "metadata": {},
   "outputs": [],
   "source": [
    "# -- ------------------------------------------------------------- Importar modulos a utilizar -- #\n",
    "# -- ------------------------------------------------------------- --------------------------- -- #\n",
    "import pandas as pd\n",
    "from oandapyV20 import API\n",
    "import oandapyV20.endpoints.instruments as instruments\n",
    "import plotly.graph_objs as go\n",
    "import plotly as py\n",
    "from datetime import datetime, date, time, timedelta\n",
    "import calendar"
   ]
  },
  {
   "cell_type": "code",
   "execution_count": 2,
   "metadata": {},
   "outputs": [],
   "source": [
    "# -- -------------------------------------------------------------- Parametros para Data Frame -- #\n",
    "# -- ------------------------------------------------------------------- --------------------- -- #\n",
    "\n",
    "pd.set_option('display.max_rows', 10)\n",
    "pd.set_option('display.max_columns', 200)\n",
    "pd.set_option('display.width', 1000)"
   ]
  },
  {
   "cell_type": "code",
   "execution_count": 3,
   "metadata": {},
   "outputs": [],
   "source": [
    "# -- ------------------------------------------------------------------- Parametros para OANDA -- #\n",
    "# -- ------------------------------------------------------------------- --------------------- -- #\n",
    "\n",
    "A1_OA_Da = 16                     # Day Align\n",
    "A1_OA_Ta = \"America/Mexico_City\"  # Time Align\n",
    "\n",
    "A1_OA_Ai = \"101-004-2221697-001\"  # Id de cuenta\n",
    "A1_OA_At = \"practice\"             # Tipo de cuenta\n",
    "\n",
    "A1_OA_In = \"USD_MXN\"              # Instrumento\n",
    "A1_OA_Gn = \"M5\"                   # Granularidad de velas\n",
    "\n",
    "#A1_OA_Ak = '2' + '6b62ddbe404c61a1cc9da0ed8395945-52d44ef76c42b62460581783bba6c8e' + 'a'\n",
    "A1_OA_Ak =  \"6ff\" + \"6703d22fd972709992df543492afe\" + \"-f954a9914f9b39f72fba177a23eb243\" + \"b\" #mi api\n",
    "#F1 = \"2017-04-14T12:30:00Z\"\n",
    "#F2 = \"2019-04-10T12:30:00Z\""
   ]
  },
  {
   "cell_type": "code",
   "execution_count": 4,
   "metadata": {},
   "outputs": [],
   "source": [
    "# -- -------------------------------------------------------------------- Estructuras de datos -- #\n",
    "# -- ------------------------------------------------------------------- --------------------- -- #\n",
    "\n",
    "# -- Paso 1 -- Data Frame (df1_precios) descargando todos los precios, segun fechas y granularidad\n",
    "# -- -- Fecha, Apertura, Maximo, Minimo, Cierre.\n",
    "\n",
    "# -- Paso 2 -- en Data Frame (df2_operaciones)\n",
    "# -- -- Fecha, Folio (1 a n), Operacion (1 = compra, -1 = venta), Unidades (0 a n),\n",
    "# -- -- Margen (0 a n), Comentario (\"razon con base al indicador\")\n",
    "# -- -- Precio_apertura, Precio_cierre\n",
    "\n",
    "# -- Paso 3 -- en Data Frame Cuenta (df3_cuenta)\n",
    "# -- -- Fecha, Capital (Efectivo $), Flotante ($),\n",
    "# -- -- Balance (Capital+Flotante), Rend_Balance_acm, Comentario (\"Se abrio operacion: compra/venta\",\n",
    "# -- -- \"Se cerro operacion: Con perdia de: / Con ganancia de: \", \n",
    "\n",
    "# -- Paso 4 -- Generar un vector de fechas, de F1 hasta F2\n",
    "\n",
    "par0_cap = 100000   # Capital a utilizar $100,000 Usd\n",
    "par1_mar = 1000000  # Unidades por operacion maximo 1'000,000\n",
    "\n",
    "\n",
    "# -- Criterios para trading\n",
    "# -- para cerrar una operacion: 1) TP o SL, 2) Regla con indicador\n",
    "\n",
    "indice = [1, 2, 3, 4, 5]\n",
    "columnas = ['A','B', 'C', 'D']\n",
    "df = pd.DataFrame(index=indice, columns=columnas)\n",
    "df = df.fillna(0) # -- llenar todas las celdas con 0s"
   ]
  },
  {
   "cell_type": "code",
   "execution_count": 5,
   "metadata": {},
   "outputs": [],
   "source": [
    "# -- ---------------------------------------------------------------- Inicializar API de OANDA -- #\n",
    "# -- ---------------------------------------------------------------- ------------------------ -- #\n",
    "\n",
    "api = API(access_token=A1_OA_Ak)"
   ]
  },
  {
   "cell_type": "code",
   "execution_count": 6,
   "metadata": {},
   "outputs": [],
   "source": [
    "# -- ---------------------------------------------------------------- Función de fechas para descargar precios -- #\n",
    "# -- ---------------------------------------------------------------- ------------------------ -- -------- -----#\n",
    "from datetime import date, datetime, timedelta\n",
    "from dateutil.relativedelta import relativedelta\n",
    "\n",
    "def date_range(start_date, end_date, increment, period):\n",
    "    result = []\n",
    "    nxt = start_date\n",
    "    delta = relativedelta(**{period:increment})\n",
    "    while nxt <= end_date:\n",
    "        result.append(nxt)\n",
    "        nxt += delta\n",
    "    return result\n",
    "\n"
   ]
  },
  {
   "cell_type": "code",
   "execution_count": 7,
   "metadata": {},
   "outputs": [],
   "source": [
    "# -- ---------------------------------------------------------------- vetor de fechas por periodos de 15 dias--- #\n",
    "# -- ---------------------------------------------------------------- ------------------------ -- -------- -----#\n",
    "\n",
    "start_date = date(2017, 4, 14)\n",
    "end_date = date(2019, 4, 10)\n",
    "fechas = date_range(start_date, end_date, 15, 'days')\n",
    "\n",
    "F1 = fechas[0].strftime('%Y-%m-%dT%H:%M:%S')\n",
    "F2 = fechas[1].strftime('%Y-%m-%dT%H:%M:%S')"
   ]
  },
  {
   "cell_type": "code",
   "execution_count": 8,
   "metadata": {},
   "outputs": [
    {
     "data": {
      "text/plain": [
       "[datetime.date(2017, 4, 14),\n",
       " datetime.date(2017, 4, 29),\n",
       " datetime.date(2017, 5, 14),\n",
       " datetime.date(2017, 5, 29),\n",
       " datetime.date(2017, 6, 13),\n",
       " datetime.date(2017, 6, 28),\n",
       " datetime.date(2017, 7, 13),\n",
       " datetime.date(2017, 7, 28),\n",
       " datetime.date(2017, 8, 12),\n",
       " datetime.date(2017, 8, 27),\n",
       " datetime.date(2017, 9, 11),\n",
       " datetime.date(2017, 9, 26),\n",
       " datetime.date(2017, 10, 11),\n",
       " datetime.date(2017, 10, 26),\n",
       " datetime.date(2017, 11, 10),\n",
       " datetime.date(2017, 11, 25),\n",
       " datetime.date(2017, 12, 10),\n",
       " datetime.date(2017, 12, 25),\n",
       " datetime.date(2018, 1, 9),\n",
       " datetime.date(2018, 1, 24),\n",
       " datetime.date(2018, 2, 8),\n",
       " datetime.date(2018, 2, 23),\n",
       " datetime.date(2018, 3, 10),\n",
       " datetime.date(2018, 3, 25),\n",
       " datetime.date(2018, 4, 9),\n",
       " datetime.date(2018, 4, 24),\n",
       " datetime.date(2018, 5, 9),\n",
       " datetime.date(2018, 5, 24),\n",
       " datetime.date(2018, 6, 8),\n",
       " datetime.date(2018, 6, 23),\n",
       " datetime.date(2018, 7, 8),\n",
       " datetime.date(2018, 7, 23),\n",
       " datetime.date(2018, 8, 7),\n",
       " datetime.date(2018, 8, 22),\n",
       " datetime.date(2018, 9, 6),\n",
       " datetime.date(2018, 9, 21),\n",
       " datetime.date(2018, 10, 6),\n",
       " datetime.date(2018, 10, 21),\n",
       " datetime.date(2018, 11, 5),\n",
       " datetime.date(2018, 11, 20),\n",
       " datetime.date(2018, 12, 5),\n",
       " datetime.date(2018, 12, 20),\n",
       " datetime.date(2019, 1, 4),\n",
       " datetime.date(2019, 1, 19),\n",
       " datetime.date(2019, 2, 3),\n",
       " datetime.date(2019, 2, 18),\n",
       " datetime.date(2019, 3, 5),\n",
       " datetime.date(2019, 3, 20),\n",
       " datetime.date(2019, 4, 4)]"
      ]
     },
     "execution_count": 8,
     "metadata": {},
     "output_type": "execute_result"
    }
   ],
   "source": [
    "fechas"
   ]
  },
  {
   "cell_type": "code",
   "execution_count": 9,
   "metadata": {},
   "outputs": [
    {
     "data": {
      "text/plain": [
       "datetime.date"
      ]
     },
     "execution_count": 9,
     "metadata": {},
     "output_type": "execute_result"
    }
   ],
   "source": [
    "type(fechas[0])"
   ]
  },
  {
   "cell_type": "code",
   "execution_count": 10,
   "metadata": {},
   "outputs": [
    {
     "data": {
      "text/plain": [
       "datetime.date"
      ]
     },
     "execution_count": 10,
     "metadata": {},
     "output_type": "execute_result"
    }
   ],
   "source": [
    "type(date(2019, 4, 10))"
   ]
  },
  {
   "cell_type": "code",
   "execution_count": 11,
   "metadata": {},
   "outputs": [],
   "source": [
    "# -- -------------------------------------------------------------- Obtener precios historicos -- #\n",
    "# -- -------------------------------------------------------------- -------------------------- -- #\n",
    "\n",
    "params = {\"granularity\": A1_OA_Gn, \"price\": \"M\", \"dailyAlignment\": A1_OA_Da,\n",
    "          \"alignmentTimezone\": A1_OA_Ta, \"from\": F1, \"to\": F2}\n",
    "\n",
    "A1_Req1 = instruments.InstrumentsCandles(instrument=A1_OA_In, params=params)\n",
    "A1_Hist = api.request(A1_Req1)"
   ]
  },
  {
   "cell_type": "code",
   "execution_count": 12,
   "metadata": {},
   "outputs": [],
   "source": [
    "lista = []\n",
    "for i in range(len(A1_Hist['candles'])-1):\n",
    "        lista.append({'TimeStamp': A1_Hist['candles'][i]['time'],\n",
    "                      'Open': A1_Hist['candles'][i]['mid']['o'],\n",
    "                      'High': A1_Hist['candles'][i]['mid']['h'],\n",
    "                      'Low': A1_Hist['candles'][i]['mid']['l'],\n",
    "                      'Close': A1_Hist['candles'][i]['mid']['c']})\n",
    "\n",
    "pd_hist = pd.DataFrame(lista)\n",
    "pd_hist = pd_hist[['TimeStamp', 'Open', 'High', 'Low', 'Close']]\n",
    "pd_hist['TimeStamp'] = pd.to_datetime(pd_hist['TimeStamp'])\n"
   ]
  },
  {
   "cell_type": "code",
   "execution_count": null,
   "metadata": {},
   "outputs": [],
   "source": [
    "A1_Hist"
   ]
  },
  {
   "cell_type": "code",
   "execution_count": null,
   "metadata": {},
   "outputs": [],
   "source": []
  },
  {
   "cell_type": "markdown",
   "metadata": {},
   "source": [
    "___\n",
    "### <Strong> <font color = skyblue> Indicador: Consumer Price Index ex Food & Energy (MoM)</Strong>"
   ]
  },
  {
   "cell_type": "code",
   "execution_count": 18,
   "metadata": {},
   "outputs": [
    {
     "data": {
      "text/html": [
       "<div>\n",
       "<style scoped>\n",
       "    .dataframe tbody tr th:only-of-type {\n",
       "        vertical-align: middle;\n",
       "    }\n",
       "\n",
       "    .dataframe tbody tr th {\n",
       "        vertical-align: top;\n",
       "    }\n",
       "\n",
       "    .dataframe thead th {\n",
       "        text-align: right;\n",
       "    }\n",
       "</style>\n",
       "<table border=\"1\" class=\"dataframe\">\n",
       "  <thead>\n",
       "    <tr style=\"text-align: right;\">\n",
       "      <th></th>\n",
       "      <th>DateTime</th>\n",
       "      <th>Actual</th>\n",
       "      <th>Consensus</th>\n",
       "      <th>Previous</th>\n",
       "    </tr>\n",
       "  </thead>\n",
       "  <tbody>\n",
       "    <tr>\n",
       "      <th>0</th>\n",
       "      <td>4/10/19 12:30</td>\n",
       "      <td>0.1</td>\n",
       "      <td>0.2</td>\n",
       "      <td>0.1</td>\n",
       "    </tr>\n",
       "    <tr>\n",
       "      <th>1</th>\n",
       "      <td>3/12/19 12:30</td>\n",
       "      <td>0.1</td>\n",
       "      <td>0.2</td>\n",
       "      <td>0.2</td>\n",
       "    </tr>\n",
       "    <tr>\n",
       "      <th>2</th>\n",
       "      <td>2/13/19 13:30</td>\n",
       "      <td>0.2</td>\n",
       "      <td>0.2</td>\n",
       "      <td>0.2</td>\n",
       "    </tr>\n",
       "    <tr>\n",
       "      <th>3</th>\n",
       "      <td>1/11/19 13:30</td>\n",
       "      <td>0.2</td>\n",
       "      <td>0.2</td>\n",
       "      <td>0.2</td>\n",
       "    </tr>\n",
       "    <tr>\n",
       "      <th>4</th>\n",
       "      <td>12/12/18 13:30</td>\n",
       "      <td>0.2</td>\n",
       "      <td>0.2</td>\n",
       "      <td>0.2</td>\n",
       "    </tr>\n",
       "    <tr>\n",
       "      <th>...</th>\n",
       "      <td>...</td>\n",
       "      <td>...</td>\n",
       "      <td>...</td>\n",
       "      <td>...</td>\n",
       "    </tr>\n",
       "    <tr>\n",
       "      <th>20</th>\n",
       "      <td>8/11/17 12:30</td>\n",
       "      <td>0.1</td>\n",
       "      <td>0.2</td>\n",
       "      <td>0.1</td>\n",
       "    </tr>\n",
       "    <tr>\n",
       "      <th>21</th>\n",
       "      <td>7/14/17 12:30</td>\n",
       "      <td>0.1</td>\n",
       "      <td>0.2</td>\n",
       "      <td>0.1</td>\n",
       "    </tr>\n",
       "    <tr>\n",
       "      <th>22</th>\n",
       "      <td>6/14/17 12:30</td>\n",
       "      <td>0.1</td>\n",
       "      <td>0.2</td>\n",
       "      <td>0.1</td>\n",
       "    </tr>\n",
       "    <tr>\n",
       "      <th>23</th>\n",
       "      <td>5/12/17 12:30</td>\n",
       "      <td>0.1</td>\n",
       "      <td>0.2</td>\n",
       "      <td>-0.1</td>\n",
       "    </tr>\n",
       "    <tr>\n",
       "      <th>24</th>\n",
       "      <td>4/14/17 12:30</td>\n",
       "      <td>-0.1</td>\n",
       "      <td>0.2</td>\n",
       "      <td>0.2</td>\n",
       "    </tr>\n",
       "  </tbody>\n",
       "</table>\n",
       "<p>25 rows × 4 columns</p>\n",
       "</div>"
      ],
      "text/plain": [
       "          DateTime  Actual  Consensus  Previous\n",
       "0    4/10/19 12:30     0.1        0.2       0.1\n",
       "1    3/12/19 12:30     0.1        0.2       0.2\n",
       "2    2/13/19 13:30     0.2        0.2       0.2\n",
       "3    1/11/19 13:30     0.2        0.2       0.2\n",
       "4   12/12/18 13:30     0.2        0.2       0.2\n",
       "..             ...     ...        ...       ...\n",
       "20   8/11/17 12:30     0.1        0.2       0.1\n",
       "21   7/14/17 12:30     0.1        0.2       0.1\n",
       "22   6/14/17 12:30     0.1        0.2       0.1\n",
       "23   5/12/17 12:30     0.1        0.2      -0.1\n",
       "24   4/14/17 12:30    -0.1        0.2       0.2\n",
       "\n",
       "[25 rows x 4 columns]"
      ]
     },
     "execution_count": 18,
     "metadata": {},
     "output_type": "execute_result"
    }
   ],
   "source": [
    "indicador = pd.read_csv('https://raw.githubusercontent.com/JazminErape/Lab4_eq2_AnalisisFundamental/master/Consumer%20Price%20Index%20ex%20Food%20%26%20Energy%20(MoM).csv?token=As0nHXZx_nd_rtxBG9HCwxCIzXtSB3hrks5cskLMwA%3D%3D')\n",
    "indicador"
   ]
  },
  {
   "cell_type": "markdown",
   "metadata": {},
   "source": [
    "___\n",
    "### <Strong> <font color = skyblue> DataFrame1 </Strong>"
   ]
  },
  {
   "cell_type": "code",
   "execution_count": 19,
   "metadata": {},
   "outputs": [
    {
     "data": {
      "text/html": [
       "<div>\n",
       "<style scoped>\n",
       "    .dataframe tbody tr th:only-of-type {\n",
       "        vertical-align: middle;\n",
       "    }\n",
       "\n",
       "    .dataframe tbody tr th {\n",
       "        vertical-align: top;\n",
       "    }\n",
       "\n",
       "    .dataframe thead th {\n",
       "        text-align: right;\n",
       "    }\n",
       "</style>\n",
       "<table border=\"1\" class=\"dataframe\">\n",
       "  <thead>\n",
       "    <tr style=\"text-align: right;\">\n",
       "      <th></th>\n",
       "      <th>TimeStamp</th>\n",
       "      <th>Open</th>\n",
       "      <th>High</th>\n",
       "      <th>Low</th>\n",
       "      <th>Close</th>\n",
       "    </tr>\n",
       "  </thead>\n",
       "  <tbody>\n",
       "    <tr>\n",
       "      <th>0</th>\n",
       "      <td>2017-04-14 04:00:00+00:00</td>\n",
       "      <td>18.57634</td>\n",
       "      <td>18.57638</td>\n",
       "      <td>18.57450</td>\n",
       "      <td>18.57556</td>\n",
       "    </tr>\n",
       "    <tr>\n",
       "      <th>1</th>\n",
       "      <td>2017-04-14 04:05:00+00:00</td>\n",
       "      <td>18.57564</td>\n",
       "      <td>18.57619</td>\n",
       "      <td>18.57479</td>\n",
       "      <td>18.57558</td>\n",
       "    </tr>\n",
       "    <tr>\n",
       "      <th>2</th>\n",
       "      <td>2017-04-14 04:10:00+00:00</td>\n",
       "      <td>18.57560</td>\n",
       "      <td>18.57568</td>\n",
       "      <td>18.57540</td>\n",
       "      <td>18.57547</td>\n",
       "    </tr>\n",
       "    <tr>\n",
       "      <th>3</th>\n",
       "      <td>2017-04-14 04:15:00+00:00</td>\n",
       "      <td>18.57550</td>\n",
       "      <td>18.57550</td>\n",
       "      <td>18.57534</td>\n",
       "      <td>18.57538</td>\n",
       "    </tr>\n",
       "    <tr>\n",
       "      <th>4</th>\n",
       "      <td>2017-04-14 04:20:00+00:00</td>\n",
       "      <td>18.57536</td>\n",
       "      <td>18.57560</td>\n",
       "      <td>18.56932</td>\n",
       "      <td>18.57492</td>\n",
       "    </tr>\n",
       "    <tr>\n",
       "      <th>...</th>\n",
       "      <td>...</td>\n",
       "      <td>...</td>\n",
       "      <td>...</td>\n",
       "      <td>...</td>\n",
       "      <td>...</td>\n",
       "    </tr>\n",
       "    <tr>\n",
       "      <th>3070</th>\n",
       "      <td>2017-04-28 20:30:00+00:00</td>\n",
       "      <td>18.82808</td>\n",
       "      <td>18.82991</td>\n",
       "      <td>18.82721</td>\n",
       "      <td>18.82988</td>\n",
       "    </tr>\n",
       "    <tr>\n",
       "      <th>3071</th>\n",
       "      <td>2017-04-28 20:35:00+00:00</td>\n",
       "      <td>18.82985</td>\n",
       "      <td>18.83002</td>\n",
       "      <td>18.82970</td>\n",
       "      <td>18.82970</td>\n",
       "    </tr>\n",
       "    <tr>\n",
       "      <th>3072</th>\n",
       "      <td>2017-04-28 20:40:00+00:00</td>\n",
       "      <td>18.82972</td>\n",
       "      <td>18.82973</td>\n",
       "      <td>18.82614</td>\n",
       "      <td>18.82672</td>\n",
       "    </tr>\n",
       "    <tr>\n",
       "      <th>3073</th>\n",
       "      <td>2017-04-28 20:45:00+00:00</td>\n",
       "      <td>18.82666</td>\n",
       "      <td>18.82719</td>\n",
       "      <td>18.82492</td>\n",
       "      <td>18.82542</td>\n",
       "    </tr>\n",
       "    <tr>\n",
       "      <th>3074</th>\n",
       "      <td>2017-04-28 20:50:00+00:00</td>\n",
       "      <td>18.82542</td>\n",
       "      <td>18.82712</td>\n",
       "      <td>18.81523</td>\n",
       "      <td>18.81992</td>\n",
       "    </tr>\n",
       "  </tbody>\n",
       "</table>\n",
       "<p>3075 rows × 5 columns</p>\n",
       "</div>"
      ],
      "text/plain": [
       "                     TimeStamp      Open      High       Low     Close\n",
       "0    2017-04-14 04:00:00+00:00  18.57634  18.57638  18.57450  18.57556\n",
       "1    2017-04-14 04:05:00+00:00  18.57564  18.57619  18.57479  18.57558\n",
       "2    2017-04-14 04:10:00+00:00  18.57560  18.57568  18.57540  18.57547\n",
       "3    2017-04-14 04:15:00+00:00  18.57550  18.57550  18.57534  18.57538\n",
       "4    2017-04-14 04:20:00+00:00  18.57536  18.57560  18.56932  18.57492\n",
       "...                        ...       ...       ...       ...       ...\n",
       "3070 2017-04-28 20:30:00+00:00  18.82808  18.82991  18.82721  18.82988\n",
       "3071 2017-04-28 20:35:00+00:00  18.82985  18.83002  18.82970  18.82970\n",
       "3072 2017-04-28 20:40:00+00:00  18.82972  18.82973  18.82614  18.82672\n",
       "3073 2017-04-28 20:45:00+00:00  18.82666  18.82719  18.82492  18.82542\n",
       "3074 2017-04-28 20:50:00+00:00  18.82542  18.82712  18.81523  18.81992\n",
       "\n",
       "[3075 rows x 5 columns]"
      ]
     },
     "execution_count": 19,
     "metadata": {},
     "output_type": "execute_result"
    }
   ],
   "source": [
    "pd_hist"
   ]
  },
  {
   "cell_type": "markdown",
   "metadata": {},
   "source": [
    "___\n",
    "### <Strong> <font color = skyblue> Escenarios </Strong>"
   ]
  },
  {
   "cell_type": "code",
   "execution_count": 20,
   "metadata": {},
   "outputs": [
    {
     "name": "stdout",
     "output_type": "stream",
     "text": [
      "c\n",
      "c\n",
      "A\n",
      "A\n",
      "A\n",
      "A\n",
      "c\n",
      "c\n",
      "A\n",
      "A\n",
      "A\n",
      "c\n",
      "A\n",
      "B\n",
      "B\n",
      "A\n",
      "c\n",
      "A\n",
      "c\n",
      "A\n",
      "c\n",
      "c\n",
      "c\n",
      "c\n",
      "c\n"
     ]
    }
   ],
   "source": [
    "\n",
    "for i in range(len(indicador['Actual'])):\n",
    "    if indicador['Actual'][i]>= indicador['Consensus'][i]>=indicador['Previous'][i]: #Escenario A\n",
    "        print('A')\n",
    "    elif indicador['Actual'][i]>= indicador['Consensus'][i]<=indicador['Previous'][i]:#Escenario B\n",
    "        print('B')\n",
    "    elif indicador['Actual'][i]<= indicador['Consensus'][i]>=indicador['Previous'][i]: #Escenario C\n",
    "        print('c')\n",
    "    elif indicador['Actual'][i]<= indicador['Consensus'][i]<=indicador['Previous'][i]: #Escenario D\n",
    "        print('D') \n",
    "    \n",
    "    "
   ]
  },
  {
   "cell_type": "markdown",
   "metadata": {},
   "source": [
    "___\n",
    "### <Strong> <font color = skyblue> Ventanas </Strong>"
   ]
  },
  {
   "cell_type": "code",
   "execution_count": 21,
   "metadata": {},
   "outputs": [],
   "source": [
    "def ventana(F1,F2):\n",
    "    params = {\"granularity\": A1_OA_Gn, \"price\": \"M\", \"dailyAlignment\": A1_OA_Da,\n",
    "              \"alignmentTimezone\": A1_OA_Ta, \"from\": F1, \"to\": F2}\n",
    "\n",
    "    A1_Req1 = instruments.InstrumentsCandles(instrument=A1_OA_In, params=params)\n",
    "    A1_Hist = api.request(A1_Req1)\n",
    "    lista = []\n",
    "\n",
    "    for i in range(len(A1_Hist['candles'])-1):\n",
    "            lista.append({'TimeStamp': A1_Hist['candles'][i]['time'],\n",
    "                          'Open': A1_Hist['candles'][i]['mid']['o'],\n",
    "                          'High': A1_Hist['candles'][i]['mid']['h'],\n",
    "                          'Low': A1_Hist['candles'][i]['mid']['l'],\n",
    "                          'Close': A1_Hist['candles'][i]['mid']['c']})\n",
    "\n",
    "    pd_hist = pd.DataFrame(lista)\n",
    "    pd_hist = pd_hist[['TimeStamp', 'Open', 'High', 'Low', 'Close']]\n",
    "    pd_hist['TimeStamp'] = pd.to_datetime(pd_hist['TimeStamp'])\n",
    "    return(pd_hist)"
   ]
  },
  {
   "cell_type": "code",
   "execution_count": 22,
   "metadata": {},
   "outputs": [
    {
     "data": {
      "text/html": [
       "<div>\n",
       "<style scoped>\n",
       "    .dataframe tbody tr th:only-of-type {\n",
       "        vertical-align: middle;\n",
       "    }\n",
       "\n",
       "    .dataframe tbody tr th {\n",
       "        vertical-align: top;\n",
       "    }\n",
       "\n",
       "    .dataframe thead th {\n",
       "        text-align: right;\n",
       "    }\n",
       "</style>\n",
       "<table border=\"1\" class=\"dataframe\">\n",
       "  <thead>\n",
       "    <tr style=\"text-align: right;\">\n",
       "      <th></th>\n",
       "      <th>TimeStamp</th>\n",
       "      <th>Open</th>\n",
       "      <th>High</th>\n",
       "      <th>Low</th>\n",
       "      <th>Close</th>\n",
       "    </tr>\n",
       "  </thead>\n",
       "  <tbody>\n",
       "    <tr>\n",
       "      <th>0</th>\n",
       "      <td>2017-04-14 04:00:00+00:00</td>\n",
       "      <td>18.57634</td>\n",
       "      <td>18.57638</td>\n",
       "      <td>18.57450</td>\n",
       "      <td>18.57556</td>\n",
       "    </tr>\n",
       "    <tr>\n",
       "      <th>1</th>\n",
       "      <td>2017-04-14 04:05:00+00:00</td>\n",
       "      <td>18.57564</td>\n",
       "      <td>18.57619</td>\n",
       "      <td>18.57479</td>\n",
       "      <td>18.57558</td>\n",
       "    </tr>\n",
       "    <tr>\n",
       "      <th>2</th>\n",
       "      <td>2017-04-14 04:10:00+00:00</td>\n",
       "      <td>18.57560</td>\n",
       "      <td>18.57568</td>\n",
       "      <td>18.57540</td>\n",
       "      <td>18.57547</td>\n",
       "    </tr>\n",
       "    <tr>\n",
       "      <th>3</th>\n",
       "      <td>2017-04-14 04:15:00+00:00</td>\n",
       "      <td>18.57550</td>\n",
       "      <td>18.57550</td>\n",
       "      <td>18.57534</td>\n",
       "      <td>18.57538</td>\n",
       "    </tr>\n",
       "    <tr>\n",
       "      <th>4</th>\n",
       "      <td>2017-04-14 04:20:00+00:00</td>\n",
       "      <td>18.57536</td>\n",
       "      <td>18.57560</td>\n",
       "      <td>18.56932</td>\n",
       "      <td>18.57492</td>\n",
       "    </tr>\n",
       "    <tr>\n",
       "      <th>...</th>\n",
       "      <td>...</td>\n",
       "      <td>...</td>\n",
       "      <td>...</td>\n",
       "      <td>...</td>\n",
       "      <td>...</td>\n",
       "    </tr>\n",
       "    <tr>\n",
       "      <th>3070</th>\n",
       "      <td>2017-04-28 20:30:00+00:00</td>\n",
       "      <td>18.82808</td>\n",
       "      <td>18.82991</td>\n",
       "      <td>18.82721</td>\n",
       "      <td>18.82988</td>\n",
       "    </tr>\n",
       "    <tr>\n",
       "      <th>3071</th>\n",
       "      <td>2017-04-28 20:35:00+00:00</td>\n",
       "      <td>18.82985</td>\n",
       "      <td>18.83002</td>\n",
       "      <td>18.82970</td>\n",
       "      <td>18.82970</td>\n",
       "    </tr>\n",
       "    <tr>\n",
       "      <th>3072</th>\n",
       "      <td>2017-04-28 20:40:00+00:00</td>\n",
       "      <td>18.82972</td>\n",
       "      <td>18.82973</td>\n",
       "      <td>18.82614</td>\n",
       "      <td>18.82672</td>\n",
       "    </tr>\n",
       "    <tr>\n",
       "      <th>3073</th>\n",
       "      <td>2017-04-28 20:45:00+00:00</td>\n",
       "      <td>18.82666</td>\n",
       "      <td>18.82719</td>\n",
       "      <td>18.82492</td>\n",
       "      <td>18.82542</td>\n",
       "    </tr>\n",
       "    <tr>\n",
       "      <th>3074</th>\n",
       "      <td>2017-04-28 20:50:00+00:00</td>\n",
       "      <td>18.82542</td>\n",
       "      <td>18.82712</td>\n",
       "      <td>18.81523</td>\n",
       "      <td>18.81992</td>\n",
       "    </tr>\n",
       "  </tbody>\n",
       "</table>\n",
       "<p>3075 rows × 5 columns</p>\n",
       "</div>"
      ],
      "text/plain": [
       "                     TimeStamp      Open      High       Low     Close\n",
       "0    2017-04-14 04:00:00+00:00  18.57634  18.57638  18.57450  18.57556\n",
       "1    2017-04-14 04:05:00+00:00  18.57564  18.57619  18.57479  18.57558\n",
       "2    2017-04-14 04:10:00+00:00  18.57560  18.57568  18.57540  18.57547\n",
       "3    2017-04-14 04:15:00+00:00  18.57550  18.57550  18.57534  18.57538\n",
       "4    2017-04-14 04:20:00+00:00  18.57536  18.57560  18.56932  18.57492\n",
       "...                        ...       ...       ...       ...       ...\n",
       "3070 2017-04-28 20:30:00+00:00  18.82808  18.82991  18.82721  18.82988\n",
       "3071 2017-04-28 20:35:00+00:00  18.82985  18.83002  18.82970  18.82970\n",
       "3072 2017-04-28 20:40:00+00:00  18.82972  18.82973  18.82614  18.82672\n",
       "3073 2017-04-28 20:45:00+00:00  18.82666  18.82719  18.82492  18.82542\n",
       "3074 2017-04-28 20:50:00+00:00  18.82542  18.82712  18.81523  18.81992\n",
       "\n",
       "[3075 rows x 5 columns]"
      ]
     },
     "execution_count": 22,
     "metadata": {},
     "output_type": "execute_result"
    }
   ],
   "source": [
    "pd_hist"
   ]
  },
  {
   "cell_type": "code",
   "execution_count": null,
   "metadata": {},
   "outputs": [],
   "source": []
  },
  {
   "cell_type": "code",
   "execution_count": 34,
   "metadata": {},
   "outputs": [],
   "source": [
    "# -- --------------------------------------Ventana indicador 1 ---------------------------------- #\n",
    "# -- ------------------------------------------------------------- --------------------------- -- #\n",
    "v1 = ventana(F1 = \"2019-04-10T11:40:00Z\",F2 = \"2019-04-10T13:30:00Z\")\n",
    "v1_o = v1['Open'].astype(float)\n",
    "v1_c = v1['Close'].astype(float)\n",
    "v1_l = v1['Low'].astype(float)\n",
    "v1_h = v1['High'].astype(float)"
   ]
  },
  {
   "cell_type": "code",
   "execution_count": 35,
   "metadata": {},
   "outputs": [],
   "source": [
    "# -- --------------------------------------Ventana indicador 2 ---------------------------------- #\n",
    "\n",
    "v2 = ventana(F1 = \"2019-03-12T11:40:00Z\",F2 = \"2019-03-12T13:20:00Z\")\n",
    "v2_o = v2['Open'].astype(float)\n",
    "v2_c = v2['Close'].astype(float)\n",
    "v2_l = v2['Low'].astype(float)\n",
    "v2_h = v2['High'].astype(float)"
   ]
  },
  {
   "cell_type": "code",
   "execution_count": 36,
   "metadata": {},
   "outputs": [],
   "source": [
    "# -- --------------------------------------Ventana indicador 3 ---------------------------------- #\n",
    "\n",
    "v3 = ventana(F1 = \"2019-02-13T12:40:00Z\",F2 = \"2019-02-13T14:20:00Z\")\n",
    "v3_o = v3['Open'].astype(float)\n",
    "v3_c = v3['Close'].astype(float)\n",
    "v3_l = v3['Low'].astype(float)\n",
    "v3_h = v3['High'].astype(float)"
   ]
  },
  {
   "cell_type": "code",
   "execution_count": 37,
   "metadata": {},
   "outputs": [],
   "source": [
    "# -- --------------------------------------Ventana indicador 4 ---------------------------------- #\n",
    "\n",
    "v4 = ventana(F1 = \"2019-01-11T12:40:00Z\",F2 = \"2019-01-11T14:20:00Z\")\n",
    "v4_o = v4['Open'].astype(float)\n",
    "v4_c = v4['Close'].astype(float)\n",
    "v4_l = v4['Low'].astype(float)\n",
    "v4_h = v4['High'].astype(float)"
   ]
  },
  {
   "cell_type": "code",
   "execution_count": 38,
   "metadata": {},
   "outputs": [],
   "source": [
    "# -- --------------------------------------Ventana indicador 5 ---------------------------------- #\n",
    "\n",
    "v5 = ventana(F1 = \"2018-12-12T12:40:00Z\",F2 = \"2018-12-12T14:20:00Z\")\n",
    "v5_o = v5['Open'].astype(float)\n",
    "v5_c = v5['Close'].astype(float)\n",
    "v5_l = v5['Low'].astype(float)\n",
    "v5_h = v5['High'].astype(float)"
   ]
  },
  {
   "cell_type": "code",
   "execution_count": 39,
   "metadata": {},
   "outputs": [],
   "source": [
    "# -- --------------------------------------Ventana indicador 6 ---------------------------------- #\n",
    "\n",
    "v6 = ventana(F1 = \"2018-11-14T12:40:00Z\",F2 = \"2018-11-14T14:20:00Z\")\n",
    "v6_o = v6['Open'].astype(float)\n",
    "v6_c = v6['Close'].astype(float)\n",
    "v6_l = v6['Low'].astype(float)\n",
    "v6_h = v6['High'].astype(float)"
   ]
  },
  {
   "cell_type": "code",
   "execution_count": 40,
   "metadata": {},
   "outputs": [],
   "source": [
    "# -- --------------------------------------Ventana indicador 7 ---------------------------------- #\n",
    "\n",
    "ventana(F1 = \"2018-10-11T11:40:00Z\",F2 = \"2018-10-11T13:20:00Z\")\n",
    "v2_o = v2['Open'].astype(float)\n",
    "v2_c = v2['Close'].astype(float)\n",
    "v2_l = v2['Low'].astype(float)\n",
    "v2_h = v2['High'].astype(float)"
   ]
  },
  {
   "cell_type": "code",
   "execution_count": 41,
   "metadata": {},
   "outputs": [],
   "source": [
    "# -- --------------------------------------Ventana indicador 8 ---------------------------------- #\n",
    "\n",
    "ventana(F1 = \"2018-09-13T11:40:00Z\",F2 = \"2018-09-13T13:20:00Z\")\n",
    "v2_o = v2['Open'].astype(float)\n",
    "v2_c = v2['Close'].astype(float)\n",
    "v2_l = v2['Low'].astype(float)\n",
    "v2_h = v2['High'].astype(float)"
   ]
  },
  {
   "cell_type": "code",
   "execution_count": 42,
   "metadata": {},
   "outputs": [],
   "source": [
    "# -- --------------------------------------Ventana indicador 9 ---------------------------------- #\n",
    "\n",
    "ventana(F1 = \"2018-08-10T11:40:00Z\",F2 = \"2018-08-10T13:20:00Z\")\n",
    "v2_o = v2['Open'].astype(float)\n",
    "v2_c = v2['Close'].astype(float)\n",
    "v2_l = v2['Low'].astype(float)\n",
    "v2_h = v2['High'].astype(float)"
   ]
  },
  {
   "cell_type": "code",
   "execution_count": 43,
   "metadata": {},
   "outputs": [],
   "source": [
    "# -- --------------------------------------Ventana indicador 10 ---------------------------------- #\n",
    "\n",
    "ventana(F1 = \"2018-07-12T11:40:00Z\",F2 = \"2018-07-12T13:20:00Z\")\n",
    "v2_o = v2['Open'].astype(float)\n",
    "v2_c = v2['Close'].astype(float)\n",
    "v2_l = v2['Low'].astype(float)\n",
    "v2_h = v2['High'].astype(float)"
   ]
  },
  {
   "cell_type": "code",
   "execution_count": 44,
   "metadata": {},
   "outputs": [],
   "source": [
    "# -- --------------------------------------Ventana indicador 11 ---------------------------------- #\n",
    "\n",
    "ventana(F1 = \"2018-06-12T11:40:00Z\",F2 = \"2018-06-12T13:20:00Z\")\n",
    "v2_o = v2['Open'].astype(float)\n",
    "v2_c = v2['Close'].astype(float)\n",
    "v2_l = v2['Low'].astype(float)\n",
    "v2_h = v2['High'].astype(float)"
   ]
  },
  {
   "cell_type": "code",
   "execution_count": 45,
   "metadata": {},
   "outputs": [],
   "source": [
    "# -- --------------------------------------Ventana indicador 12 ---------------------------------- #\n",
    "\n",
    "ventana(F1 = \"2018-05-10T11:40:00Z\",F2 = \"2018-05-10T13:20:00Z\")\n",
    "v2_o = v2['Open'].astype(float)\n",
    "v2_c = v2['Close'].astype(float)\n",
    "v2_l = v2['Low'].astype(float)\n",
    "v2_h = v2['High'].astype(float)"
   ]
  },
  {
   "cell_type": "code",
   "execution_count": 46,
   "metadata": {},
   "outputs": [],
   "source": [
    "# -- --------------------------------------Ventana indicador 13 ---------------------------------- #\n",
    "\n",
    "ventana(F1 = \"2018-04-11T11:40:00Z\",F2 = \"2018-04-11T13:20:00Z\")\n",
    "v2_o = v2['Open'].astype(float)\n",
    "v2_c = v2['Close'].astype(float)\n",
    "v2_l = v2['Low'].astype(float)\n",
    "v2_h = v2['High'].astype(float)"
   ]
  },
  {
   "cell_type": "code",
   "execution_count": 47,
   "metadata": {},
   "outputs": [],
   "source": [
    "# -- --------------------------------------Ventana indicador 14 ---------------------------------- #\n",
    "\n",
    "ventana(F1 = \"2018-03-13T11:40:00Z\",F2 = \"2018-03-13T13:20:00Z\")\n",
    "v2_o = v2['Open'].astype(float)\n",
    "v2_c = v2['Close'].astype(float)\n",
    "v2_l = v2['Low'].astype(float)\n",
    "v2_h = v2['High'].astype(float)"
   ]
  },
  {
   "cell_type": "code",
   "execution_count": 48,
   "metadata": {},
   "outputs": [],
   "source": [
    "# -- --------------------------------------Ventana indicador 15 ---------------------------------- #\n",
    "\n",
    "ventana(F1 = \"2018-02-14T11:40:00Z\",F2 = \"2018-02-14T13:20:00Z\")\n",
    "v2_o = v2['Open'].astype(float)\n",
    "v2_c = v2['Close'].astype(float)\n",
    "v2_l = v2['Low'].astype(float)\n",
    "v2_h = v2['High'].astype(float)"
   ]
  },
  {
   "cell_type": "code",
   "execution_count": 49,
   "metadata": {},
   "outputs": [],
   "source": [
    "# -- --------------------------------------Ventana indicador 16 ---------------------------------- #\n",
    "\n",
    "ventana(F1 = \"2018-01-10T12:40:00Z\",F2 = \"2018-01-12T14:20:00Z\")\n",
    "v2_o = v2['Open'].astype(float)\n",
    "v2_c = v2['Close'].astype(float)\n",
    "v2_l = v2['Low'].astype(float)\n",
    "v2_h = v2['High'].astype(float)"
   ]
  },
  {
   "cell_type": "code",
   "execution_count": 50,
   "metadata": {},
   "outputs": [],
   "source": [
    "# -- --------------------------------------Ventana indicador 17 ---------------------------------- #\n",
    "\n",
    "ventana(F1 = \"2017-12-13T12:40:00Z\",F2 = \"2017-12-13T14:20:00Z\")\n",
    "v2_o = v2['Open'].astype(float)\n",
    "v2_c = v2['Close'].astype(float)\n",
    "v2_l = v2['Low'].astype(float)\n",
    "v2_h = v2['High'].astype(float)"
   ]
  },
  {
   "cell_type": "code",
   "execution_count": 51,
   "metadata": {},
   "outputs": [],
   "source": [
    "# -- --------------------------------------Ventana indicador 18 ---------------------------------- #\n",
    "\n",
    "ventana(F1 = \"2017-11-15T12:40:00Z\",F2 = \"2017-11-15T14:20:00Z\")\n",
    "v2_o = v2['Open'].astype(float)\n",
    "v2_c = v2['Close'].astype(float)\n",
    "v2_l = v2['Low'].astype(float)\n",
    "v2_h = v2['High'].astype(float)"
   ]
  },
  {
   "cell_type": "code",
   "execution_count": 52,
   "metadata": {},
   "outputs": [],
   "source": [
    "# -- --------------------------------------Ventana indicador 19 ---------------------------------- #\n",
    "\n",
    "ventana(F1 = \"2017-10-13T11:40:00Z\",F2 = \"2017-10-13T13:20:00Z\")\n",
    "v2_o = v2['Open'].astype(float)\n",
    "v2_c = v2['Close'].astype(float)\n",
    "v2_l = v2['Low'].astype(float)\n",
    "v2_h = v2['High'].astype(float)"
   ]
  },
  {
   "cell_type": "code",
   "execution_count": 53,
   "metadata": {},
   "outputs": [],
   "source": [
    "# -- --------------------------------------Ventana indicador 20 ---------------------------------- #\n",
    "\n",
    "ventana(F1 = \"2017-09-14T11:40:00Z\",F2 = \"2017-09-14T13:20:00Z\")\n",
    "v2_o = v2['Open'].astype(float)\n",
    "v2_c = v2['Close'].astype(float)\n",
    "v2_l = v2['Low'].astype(float)\n",
    "v2_h = v2['High'].astype(float)"
   ]
  },
  {
   "cell_type": "code",
   "execution_count": 54,
   "metadata": {},
   "outputs": [],
   "source": [
    "# -- --------------------------------------Ventana indicador 21 ---------------------------------- #\n",
    "\n",
    "ventana(F1 = \"2017-09-14T11:40:00Z\",F2 = \"2017-09-14T13:20:00Z\")\n",
    "v2_o = v2['Open'].astype(float)\n",
    "v2_c = v2['Close'].astype(float)\n",
    "v2_l = v2['Low'].astype(float)\n",
    "v2_h = v2['High'].astype(float)"
   ]
  },
  {
   "cell_type": "code",
   "execution_count": 55,
   "metadata": {},
   "outputs": [],
   "source": [
    "# -- --------------------------------------Ventana indicador 22 ---------------------------------- #\n",
    "\n",
    "ventana(F1 = \"2017-07-14T11:40:00Z\",F2 = \"2017-07-14T13:20:00Z\")\n",
    "v2_o = v2['Open'].astype(float)\n",
    "v2_c = v2['Close'].astype(float)\n",
    "v2_l = v2['Low'].astype(float)\n",
    "v2_h = v2['High'].astype(float)"
   ]
  },
  {
   "cell_type": "code",
   "execution_count": 56,
   "metadata": {},
   "outputs": [],
   "source": [
    "# -- --------------------------------------Ventana indicador 23 ---------------------------------- #\n",
    "\n",
    "ventana(F1 = \"2017-06-14T11:40:00Z\",F2 = \"2017-06-14T13:20:00Z\")\n",
    "v2_o = v2['Open'].astype(float)\n",
    "v2_c = v2['Close'].astype(float)\n",
    "v2_l = v2['Low'].astype(float)\n",
    "v2_h = v2['High'].astype(float)"
   ]
  },
  {
   "cell_type": "code",
   "execution_count": 57,
   "metadata": {},
   "outputs": [],
   "source": [
    "# -- --------------------------------------Ventana indicador 24 ---------------------------------- #\n",
    "\n",
    "ventana(F1 = \"2017-05-12T11:40:00Z\",F2 = \"2017-05-12T13:20:00Z\")\n",
    "v2_o = v2['Open'].astype(float)\n",
    "v2_c = v2['Close'].astype(float)\n",
    "v2_l = v2['Low'].astype(float)\n",
    "v2_h = v2['High'].astype(float)"
   ]
  },
  {
   "cell_type": "code",
   "execution_count": null,
   "metadata": {},
   "outputs": [],
   "source": [
    "# -- --------------------------------------Ventana indicador 25 ---------------------------------- #\n",
    "\n",
    "ventana(F1 = \"2017-04-14T11:40:00Z\",F2 = \"2017-04-14T13:20:00Z\")\n",
    "v2_o = v2['Open'].astype(float)\n",
    "v2_c = v2['Close'].astype(float)\n",
    "v2_l = v2['Low'].astype(float)\n",
    "v2_h = v2['High'].astype(float)"
   ]
  },
  {
   "cell_type": "code",
   "execution_count": null,
   "metadata": {},
   "outputs": [],
   "source": []
  },
  {
   "cell_type": "code",
   "execution_count": 34,
   "metadata": {},
   "outputs": [],
   "source": [
    "# -- --------------------------------------Ventana indicador 1 ---------------------------------- #\n",
    "# -- ------------------------------------------------------------- --------------------------- -- #\n",
    "v1 = ventana(F1 = \"2019-04-10T11:40:00Z\",F2 = \"2019-04-10T13:30:00Z\")\n",
    "v1_o = v1['Open'].astype(float)\n",
    "v1_c = v1['Close'].astype(float)\n",
    "v1_l = v1['Low'].astype(float)\n",
    "v1_h = v1['High'].astype(float)"
   ]
  },
  {
   "cell_type": "code",
   "execution_count": 35,
   "metadata": {},
   "outputs": [],
   "source": [
    "# -- --------------------------------------Ventana indicador 2 ---------------------------------- #\n",
    "\n",
    "v2 = ventana(F1 = \"2019-03-12T11:40:00Z\",F2 = \"2019-03-12T13:20:00Z\")\n",
    "v2_o = v2['Open'].astype(float)\n",
    "v2_c = v2['Close'].astype(float)\n",
    "v2_l = v2['Low'].astype(float)\n",
    "v2_h = v2['High'].astype(float)"
   ]
  },
  {
   "cell_type": "code",
   "execution_count": 36,
   "metadata": {},
   "outputs": [],
   "source": [
    "# -- --------------------------------------Ventana indicador 3 ---------------------------------- #\n",
    "\n",
    "v3 = ventana(F1 = \"2019-02-13T12:40:00Z\",F2 = \"2019-02-13T14:20:00Z\")\n",
    "v3_o = v3['Open'].astype(float)\n",
    "v3_c = v3['Close'].astype(float)\n",
    "v3_l = v3['Low'].astype(float)\n",
    "v3_h = v3['High'].astype(float)"
   ]
  },
  {
   "cell_type": "code",
   "execution_count": 37,
   "metadata": {},
   "outputs": [],
   "source": [
    "# -- --------------------------------------Ventana indicador 4 ---------------------------------- #\n",
    "\n",
    "v4 = ventana(F1 = \"2019-01-11T12:40:00Z\",F2 = \"2019-01-11T14:20:00Z\")\n",
    "v4_o = v4['Open'].astype(float)\n",
    "v4_c = v4['Close'].astype(float)\n",
    "v4_l = v4['Low'].astype(float)\n",
    "v4_h = v4['High'].astype(float)"
   ]
  },
  {
   "cell_type": "code",
   "execution_count": 38,
   "metadata": {},
   "outputs": [],
   "source": [
    "# -- --------------------------------------Ventana indicador 5 ---------------------------------- #\n",
    "\n",
    "v5 = ventana(F1 = \"2018-12-12T12:40:00Z\",F2 = \"2018-12-12T14:20:00Z\")\n",
    "v5_o = v5['Open'].astype(float)\n",
    "v5_c = v5['Close'].astype(float)\n",
    "v5_l = v5['Low'].astype(float)\n",
    "v5_h = v5['High'].astype(float)"
   ]
  },
  {
   "cell_type": "code",
   "execution_count": 39,
   "metadata": {},
   "outputs": [],
   "source": [
    "# -- --------------------------------------Ventana indicador 6 ---------------------------------- #\n",
    "\n",
    "v6 = ventana(F1 = \"2018-11-14T12:40:00Z\",F2 = \"2018-11-14T14:20:00Z\")\n",
    "v6_o = v6['Open'].astype(float)\n",
    "v6_c = v6['Close'].astype(float)\n",
    "v6_l = v6['Low'].astype(float)\n",
    "v6_h = v6['High'].astype(float)"
   ]
  },
  {
   "cell_type": "code",
   "execution_count": 40,
   "metadata": {},
   "outputs": [],
   "source": [
    "# -- --------------------------------------Ventana indicador 7 ---------------------------------- #\n",
    "\n",
    "ventana(F1 = \"2018-10-11T11:40:00Z\",F2 = \"2018-10-11T13:20:00Z\")\n",
    "v2_o = v2['Open'].astype(float)\n",
    "v2_c = v2['Close'].astype(float)\n",
    "v2_l = v2['Low'].astype(float)\n",
    "v2_h = v2['High'].astype(float)"
   ]
  },
  {
   "cell_type": "code",
   "execution_count": 41,
   "metadata": {},
   "outputs": [],
   "source": [
    "# -- --------------------------------------Ventana indicador 8 ---------------------------------- #\n",
    "\n",
    "ventana(F1 = \"2018-09-13T11:40:00Z\",F2 = \"2018-09-13T13:20:00Z\")\n",
    "v2_o = v2['Open'].astype(float)\n",
    "v2_c = v2['Close'].astype(float)\n",
    "v2_l = v2['Low'].astype(float)\n",
    "v2_h = v2['High'].astype(float)"
   ]
  },
  {
   "cell_type": "code",
   "execution_count": 42,
   "metadata": {},
   "outputs": [],
   "source": [
    "# -- --------------------------------------Ventana indicador 9 ---------------------------------- #\n",
    "\n",
    "ventana(F1 = \"2018-08-10T11:40:00Z\",F2 = \"2018-08-10T13:20:00Z\")\n",
    "v2_o = v2['Open'].astype(float)\n",
    "v2_c = v2['Close'].astype(float)\n",
    "v2_l = v2['Low'].astype(float)\n",
    "v2_h = v2['High'].astype(float)"
   ]
  },
  {
   "cell_type": "code",
   "execution_count": 43,
   "metadata": {},
   "outputs": [],
   "source": [
    "# -- --------------------------------------Ventana indicador 10 ---------------------------------- #\n",
    "\n",
    "ventana(F1 = \"2018-07-12T11:40:00Z\",F2 = \"2018-07-12T13:20:00Z\")\n",
    "v2_o = v2['Open'].astype(float)\n",
    "v2_c = v2['Close'].astype(float)\n",
    "v2_l = v2['Low'].astype(float)\n",
    "v2_h = v2['High'].astype(float)"
   ]
  },
  {
   "cell_type": "code",
   "execution_count": 44,
   "metadata": {},
   "outputs": [],
   "source": [
    "# -- --------------------------------------Ventana indicador 11 ---------------------------------- #\n",
    "\n",
    "ventana(F1 = \"2018-06-12T11:40:00Z\",F2 = \"2018-06-12T13:20:00Z\")\n",
    "v2_o = v2['Open'].astype(float)\n",
    "v2_c = v2['Close'].astype(float)\n",
    "v2_l = v2['Low'].astype(float)\n",
    "v2_h = v2['High'].astype(float)"
   ]
  },
  {
   "cell_type": "code",
   "execution_count": 45,
   "metadata": {},
   "outputs": [],
   "source": [
    "# -- --------------------------------------Ventana indicador 12 ---------------------------------- #\n",
    "\n",
    "ventana(F1 = \"2018-05-10T11:40:00Z\",F2 = \"2018-05-10T13:20:00Z\")\n",
    "v2_o = v2['Open'].astype(float)\n",
    "v2_c = v2['Close'].astype(float)\n",
    "v2_l = v2['Low'].astype(float)\n",
    "v2_h = v2['High'].astype(float)"
   ]
  },
  {
   "cell_type": "code",
   "execution_count": 46,
   "metadata": {},
   "outputs": [],
   "source": [
    "# -- --------------------------------------Ventana indicador 13 ---------------------------------- #\n",
    "\n",
    "ventana(F1 = \"2018-04-11T11:40:00Z\",F2 = \"2018-04-11T13:20:00Z\")\n",
    "v2_o = v2['Open'].astype(float)\n",
    "v2_c = v2['Close'].astype(float)\n",
    "v2_l = v2['Low'].astype(float)\n",
    "v2_h = v2['High'].astype(float)"
   ]
  },
  {
   "cell_type": "code",
   "execution_count": 47,
   "metadata": {},
   "outputs": [],
   "source": [
    "# -- --------------------------------------Ventana indicador 14 ---------------------------------- #\n",
    "\n",
    "ventana(F1 = \"2018-03-13T11:40:00Z\",F2 = \"2018-03-13T13:20:00Z\")\n",
    "v2_o = v2['Open'].astype(float)\n",
    "v2_c = v2['Close'].astype(float)\n",
    "v2_l = v2['Low'].astype(float)\n",
    "v2_h = v2['High'].astype(float)"
   ]
  },
  {
   "cell_type": "code",
   "execution_count": 48,
   "metadata": {},
   "outputs": [],
   "source": [
    "# -- --------------------------------------Ventana indicador 15 ---------------------------------- #\n",
    "\n",
    "ventana(F1 = \"2018-02-14T11:40:00Z\",F2 = \"2018-02-14T13:20:00Z\")\n",
    "v2_o = v2['Open'].astype(float)\n",
    "v2_c = v2['Close'].astype(float)\n",
    "v2_l = v2['Low'].astype(float)\n",
    "v2_h = v2['High'].astype(float)"
   ]
  },
  {
   "cell_type": "code",
   "execution_count": 49,
   "metadata": {},
   "outputs": [],
   "source": [
    "# -- --------------------------------------Ventana indicador 16 ---------------------------------- #\n",
    "\n",
    "ventana(F1 = \"2018-01-10T12:40:00Z\",F2 = \"2018-01-12T14:20:00Z\")\n",
    "v2_o = v2['Open'].astype(float)\n",
    "v2_c = v2['Close'].astype(float)\n",
    "v2_l = v2['Low'].astype(float)\n",
    "v2_h = v2['High'].astype(float)"
   ]
  },
  {
   "cell_type": "code",
   "execution_count": 50,
   "metadata": {},
   "outputs": [],
   "source": [
    "# -- --------------------------------------Ventana indicador 17 ---------------------------------- #\n",
    "\n",
    "ventana(F1 = \"2017-12-13T12:40:00Z\",F2 = \"2017-12-13T14:20:00Z\")\n",
    "v2_o = v2['Open'].astype(float)\n",
    "v2_c = v2['Close'].astype(float)\n",
    "v2_l = v2['Low'].astype(float)\n",
    "v2_h = v2['High'].astype(float)"
   ]
  },
  {
   "cell_type": "code",
   "execution_count": 51,
   "metadata": {},
   "outputs": [],
   "source": [
    "# -- --------------------------------------Ventana indicador 18 ---------------------------------- #\n",
    "\n",
    "ventana(F1 = \"2017-11-15T12:40:00Z\",F2 = \"2017-11-15T14:20:00Z\")\n",
    "v2_o = v2['Open'].astype(float)\n",
    "v2_c = v2['Close'].astype(float)\n",
    "v2_l = v2['Low'].astype(float)\n",
    "v2_h = v2['High'].astype(float)"
   ]
  },
  {
   "cell_type": "code",
   "execution_count": 52,
   "metadata": {},
   "outputs": [],
   "source": [
    "# -- --------------------------------------Ventana indicador 19 ---------------------------------- #\n",
    "\n",
    "ventana(F1 = \"2017-10-13T11:40:00Z\",F2 = \"2017-10-13T13:20:00Z\")\n",
    "v2_o = v2['Open'].astype(float)\n",
    "v2_c = v2['Close'].astype(float)\n",
    "v2_l = v2['Low'].astype(float)\n",
    "v2_h = v2['High'].astype(float)"
   ]
  },
  {
   "cell_type": "code",
   "execution_count": 53,
   "metadata": {},
   "outputs": [],
   "source": [
    "# -- --------------------------------------Ventana indicador 20 ---------------------------------- #\n",
    "\n",
    "ventana(F1 = \"2017-09-14T11:40:00Z\",F2 = \"2017-09-14T13:20:00Z\")\n",
    "v2_o = v2['Open'].astype(float)\n",
    "v2_c = v2['Close'].astype(float)\n",
    "v2_l = v2['Low'].astype(float)\n",
    "v2_h = v2['High'].astype(float)"
   ]
  },
  {
   "cell_type": "code",
   "execution_count": 54,
   "metadata": {},
   "outputs": [],
   "source": [
    "# -- --------------------------------------Ventana indicador 21 ---------------------------------- #\n",
    "\n",
    "ventana(F1 = \"2017-09-14T11:40:00Z\",F2 = \"2017-09-14T13:20:00Z\")\n",
    "v2_o = v2['Open'].astype(float)\n",
    "v2_c = v2['Close'].astype(float)\n",
    "v2_l = v2['Low'].astype(float)\n",
    "v2_h = v2['High'].astype(float)"
   ]
  },
  {
   "cell_type": "code",
   "execution_count": 55,
   "metadata": {},
   "outputs": [],
   "source": [
    "# -- --------------------------------------Ventana indicador 22 ---------------------------------- #\n",
    "\n",
    "ventana(F1 = \"2017-07-14T11:40:00Z\",F2 = \"2017-07-14T13:20:00Z\")\n",
    "v2_o = v2['Open'].astype(float)\n",
    "v2_c = v2['Close'].astype(float)\n",
    "v2_l = v2['Low'].astype(float)\n",
    "v2_h = v2['High'].astype(float)"
   ]
  },
  {
   "cell_type": "code",
   "execution_count": 56,
   "metadata": {},
   "outputs": [],
   "source": [
    "# -- --------------------------------------Ventana indicador 23 ---------------------------------- #\n",
    "\n",
    "ventana(F1 = \"2017-06-14T11:40:00Z\",F2 = \"2017-06-14T13:20:00Z\")\n",
    "v2_o = v2['Open'].astype(float)\n",
    "v2_c = v2['Close'].astype(float)\n",
    "v2_l = v2['Low'].astype(float)\n",
    "v2_h = v2['High'].astype(float)"
   ]
  },
  {
   "cell_type": "code",
   "execution_count": 57,
   "metadata": {},
   "outputs": [],
   "source": [
    "# -- --------------------------------------Ventana indicador 24 ---------------------------------- #\n",
    "\n",
    "ventana(F1 = \"2017-05-12T11:40:00Z\",F2 = \"2017-05-12T13:20:00Z\")\n",
    "v2_o = v2['Open'].astype(float)\n",
    "v2_c = v2['Close'].astype(float)\n",
    "v2_l = v2['Low'].astype(float)\n",
    "v2_h = v2['High'].astype(float)"
   ]
  },
  {
   "cell_type": "code",
   "execution_count": null,
   "metadata": {},
   "outputs": [],
   "source": [
    "# -- --------------------------------------Ventana indicador 25 ---------------------------------- #\n",
    "\n",
    "ventana(F1 = \"2017-04-14T11:40:00Z\",F2 = \"2017-04-14T13:20:00Z\")\n",
    "v2_o = v2['Open'].astype(float)\n",
    "v2_c = v2['Close'].astype(float)\n",
    "v2_l = v2['Low'].astype(float)\n",
    "v2_h = v2['High'].astype(float)"
   ]
  },
  {
   "cell_type": "code",
   "execution_count": null,
   "metadata": {},
   "outputs": [],
   "source": []
  },
  {
   "cell_type": "code",
   "execution_count": 34,
   "metadata": {},
   "outputs": [],
   "source": [
    "# -- --------------------------------------Ventana indicador 1 ---------------------------------- #\n",
    "# -- ------------------------------------------------------------- --------------------------- -- #\n",
    "v1 = ventana(F1 = \"2019-04-10T11:40:00Z\",F2 = \"2019-04-10T13:30:00Z\")\n",
    "v1_o = v1['Open'].astype(float)\n",
    "v1_c = v1['Close'].astype(float)\n",
    "v1_l = v1['Low'].astype(float)\n",
    "v1_h = v1['High'].astype(float)"
   ]
  },
  {
   "cell_type": "code",
   "execution_count": 35,
   "metadata": {},
   "outputs": [],
   "source": [
    "# -- --------------------------------------Ventana indicador 2 ---------------------------------- #\n",
    "\n",
    "v2 = ventana(F1 = \"2019-03-12T11:40:00Z\",F2 = \"2019-03-12T13:20:00Z\")\n",
    "v2_o = v2['Open'].astype(float)\n",
    "v2_c = v2['Close'].astype(float)\n",
    "v2_l = v2['Low'].astype(float)\n",
    "v2_h = v2['High'].astype(float)"
   ]
  },
  {
   "cell_type": "code",
   "execution_count": 36,
   "metadata": {},
   "outputs": [],
   "source": [
    "# -- --------------------------------------Ventana indicador 3 ---------------------------------- #\n",
    "\n",
    "v3 = ventana(F1 = \"2019-02-13T12:40:00Z\",F2 = \"2019-02-13T14:20:00Z\")\n",
    "v3_o = v3['Open'].astype(float)\n",
    "v3_c = v3['Close'].astype(float)\n",
    "v3_l = v3['Low'].astype(float)\n",
    "v3_h = v3['High'].astype(float)"
   ]
  },
  {
   "cell_type": "code",
   "execution_count": 37,
   "metadata": {},
   "outputs": [],
   "source": [
    "# -- --------------------------------------Ventana indicador 4 ---------------------------------- #\n",
    "\n",
    "v4 = ventana(F1 = \"2019-01-11T12:40:00Z\",F2 = \"2019-01-11T14:20:00Z\")\n",
    "v4_o = v4['Open'].astype(float)\n",
    "v4_c = v4['Close'].astype(float)\n",
    "v4_l = v4['Low'].astype(float)\n",
    "v4_h = v4['High'].astype(float)"
   ]
  },
  {
   "cell_type": "code",
   "execution_count": 38,
   "metadata": {},
   "outputs": [],
   "source": [
    "# -- --------------------------------------Ventana indicador 5 ---------------------------------- #\n",
    "\n",
    "v5 = ventana(F1 = \"2018-12-12T12:40:00Z\",F2 = \"2018-12-12T14:20:00Z\")\n",
    "v5_o = v5['Open'].astype(float)\n",
    "v5_c = v5['Close'].astype(float)\n",
    "v5_l = v5['Low'].astype(float)\n",
    "v5_h = v5['High'].astype(float)"
   ]
  },
  {
   "cell_type": "code",
   "execution_count": 39,
   "metadata": {},
   "outputs": [],
   "source": [
    "# -- --------------------------------------Ventana indicador 6 ---------------------------------- #\n",
    "\n",
    "v6 = ventana(F1 = \"2018-11-14T12:40:00Z\",F2 = \"2018-11-14T14:20:00Z\")\n",
    "v6_o = v6['Open'].astype(float)\n",
    "v6_c = v6['Close'].astype(float)\n",
    "v6_l = v6['Low'].astype(float)\n",
    "v6_h = v6['High'].astype(float)"
   ]
  },
  {
   "cell_type": "code",
   "execution_count": 40,
   "metadata": {},
   "outputs": [],
   "source": [
    "# -- --------------------------------------Ventana indicador 7 ---------------------------------- #\n",
    "\n",
    "ventana(F1 = \"2018-10-11T11:40:00Z\",F2 = \"2018-10-11T13:20:00Z\")\n",
    "v2_o = v2['Open'].astype(float)\n",
    "v2_c = v2['Close'].astype(float)\n",
    "v2_l = v2['Low'].astype(float)\n",
    "v2_h = v2['High'].astype(float)"
   ]
  },
  {
   "cell_type": "code",
   "execution_count": 41,
   "metadata": {},
   "outputs": [],
   "source": [
    "# -- --------------------------------------Ventana indicador 8 ---------------------------------- #\n",
    "\n",
    "ventana(F1 = \"2018-09-13T11:40:00Z\",F2 = \"2018-09-13T13:20:00Z\")\n",
    "v2_o = v2['Open'].astype(float)\n",
    "v2_c = v2['Close'].astype(float)\n",
    "v2_l = v2['Low'].astype(float)\n",
    "v2_h = v2['High'].astype(float)"
   ]
  },
  {
   "cell_type": "code",
   "execution_count": 42,
   "metadata": {},
   "outputs": [],
   "source": [
    "# -- --------------------------------------Ventana indicador 9 ---------------------------------- #\n",
    "\n",
    "ventana(F1 = \"2018-08-10T11:40:00Z\",F2 = \"2018-08-10T13:20:00Z\")\n",
    "v2_o = v2['Open'].astype(float)\n",
    "v2_c = v2['Close'].astype(float)\n",
    "v2_l = v2['Low'].astype(float)\n",
    "v2_h = v2['High'].astype(float)"
   ]
  },
  {
   "cell_type": "code",
   "execution_count": 43,
   "metadata": {},
   "outputs": [],
   "source": [
    "# -- --------------------------------------Ventana indicador 10 ---------------------------------- #\n",
    "\n",
    "ventana(F1 = \"2018-07-12T11:40:00Z\",F2 = \"2018-07-12T13:20:00Z\")\n",
    "v2_o = v2['Open'].astype(float)\n",
    "v2_c = v2['Close'].astype(float)\n",
    "v2_l = v2['Low'].astype(float)\n",
    "v2_h = v2['High'].astype(float)"
   ]
  },
  {
   "cell_type": "code",
   "execution_count": 44,
   "metadata": {},
   "outputs": [],
   "source": [
    "# -- --------------------------------------Ventana indicador 11 ---------------------------------- #\n",
    "\n",
    "ventana(F1 = \"2018-06-12T11:40:00Z\",F2 = \"2018-06-12T13:20:00Z\")\n",
    "v2_o = v2['Open'].astype(float)\n",
    "v2_c = v2['Close'].astype(float)\n",
    "v2_l = v2['Low'].astype(float)\n",
    "v2_h = v2['High'].astype(float)"
   ]
  },
  {
   "cell_type": "code",
   "execution_count": 45,
   "metadata": {},
   "outputs": [],
   "source": [
    "# -- --------------------------------------Ventana indicador 12 ---------------------------------- #\n",
    "\n",
    "ventana(F1 = \"2018-05-10T11:40:00Z\",F2 = \"2018-05-10T13:20:00Z\")\n",
    "v2_o = v2['Open'].astype(float)\n",
    "v2_c = v2['Close'].astype(float)\n",
    "v2_l = v2['Low'].astype(float)\n",
    "v2_h = v2['High'].astype(float)"
   ]
  },
  {
   "cell_type": "code",
   "execution_count": 46,
   "metadata": {},
   "outputs": [],
   "source": [
    "# -- --------------------------------------Ventana indicador 13 ---------------------------------- #\n",
    "\n",
    "ventana(F1 = \"2018-04-11T11:40:00Z\",F2 = \"2018-04-11T13:20:00Z\")\n",
    "v2_o = v2['Open'].astype(float)\n",
    "v2_c = v2['Close'].astype(float)\n",
    "v2_l = v2['Low'].astype(float)\n",
    "v2_h = v2['High'].astype(float)"
   ]
  },
  {
   "cell_type": "code",
   "execution_count": 47,
   "metadata": {},
   "outputs": [],
   "source": [
    "# -- --------------------------------------Ventana indicador 14 ---------------------------------- #\n",
    "\n",
    "ventana(F1 = \"2018-03-13T11:40:00Z\",F2 = \"2018-03-13T13:20:00Z\")\n",
    "v2_o = v2['Open'].astype(float)\n",
    "v2_c = v2['Close'].astype(float)\n",
    "v2_l = v2['Low'].astype(float)\n",
    "v2_h = v2['High'].astype(float)"
   ]
  },
  {
   "cell_type": "code",
   "execution_count": 48,
   "metadata": {},
   "outputs": [],
   "source": [
    "# -- --------------------------------------Ventana indicador 15 ---------------------------------- #\n",
    "\n",
    "ventana(F1 = \"2018-02-14T11:40:00Z\",F2 = \"2018-02-14T13:20:00Z\")\n",
    "v2_o = v2['Open'].astype(float)\n",
    "v2_c = v2['Close'].astype(float)\n",
    "v2_l = v2['Low'].astype(float)\n",
    "v2_h = v2['High'].astype(float)"
   ]
  },
  {
   "cell_type": "code",
   "execution_count": 49,
   "metadata": {},
   "outputs": [],
   "source": [
    "# -- --------------------------------------Ventana indicador 16 ---------------------------------- #\n",
    "\n",
    "ventana(F1 = \"2018-01-10T12:40:00Z\",F2 = \"2018-01-12T14:20:00Z\")\n",
    "v2_o = v2['Open'].astype(float)\n",
    "v2_c = v2['Close'].astype(float)\n",
    "v2_l = v2['Low'].astype(float)\n",
    "v2_h = v2['High'].astype(float)"
   ]
  },
  {
   "cell_type": "code",
   "execution_count": 50,
   "metadata": {},
   "outputs": [],
   "source": [
    "# -- --------------------------------------Ventana indicador 17 ---------------------------------- #\n",
    "\n",
    "ventana(F1 = \"2017-12-13T12:40:00Z\",F2 = \"2017-12-13T14:20:00Z\")\n",
    "v2_o = v2['Open'].astype(float)\n",
    "v2_c = v2['Close'].astype(float)\n",
    "v2_l = v2['Low'].astype(float)\n",
    "v2_h = v2['High'].astype(float)"
   ]
  },
  {
   "cell_type": "code",
   "execution_count": 51,
   "metadata": {},
   "outputs": [],
   "source": [
    "# -- --------------------------------------Ventana indicador 18 ---------------------------------- #\n",
    "\n",
    "ventana(F1 = \"2017-11-15T12:40:00Z\",F2 = \"2017-11-15T14:20:00Z\")\n",
    "v2_o = v2['Open'].astype(float)\n",
    "v2_c = v2['Close'].astype(float)\n",
    "v2_l = v2['Low'].astype(float)\n",
    "v2_h = v2['High'].astype(float)"
   ]
  },
  {
   "cell_type": "code",
   "execution_count": 52,
   "metadata": {},
   "outputs": [],
   "source": [
    "# -- --------------------------------------Ventana indicador 19 ---------------------------------- #\n",
    "\n",
    "ventana(F1 = \"2017-10-13T11:40:00Z\",F2 = \"2017-10-13T13:20:00Z\")\n",
    "v2_o = v2['Open'].astype(float)\n",
    "v2_c = v2['Close'].astype(float)\n",
    "v2_l = v2['Low'].astype(float)\n",
    "v2_h = v2['High'].astype(float)"
   ]
  },
  {
   "cell_type": "code",
   "execution_count": 53,
   "metadata": {},
   "outputs": [],
   "source": [
    "# -- --------------------------------------Ventana indicador 20 ---------------------------------- #\n",
    "\n",
    "ventana(F1 = \"2017-09-14T11:40:00Z\",F2 = \"2017-09-14T13:20:00Z\")\n",
    "v2_o = v2['Open'].astype(float)\n",
    "v2_c = v2['Close'].astype(float)\n",
    "v2_l = v2['Low'].astype(float)\n",
    "v2_h = v2['High'].astype(float)"
   ]
  },
  {
   "cell_type": "code",
   "execution_count": 54,
   "metadata": {},
   "outputs": [],
   "source": [
    "# -- --------------------------------------Ventana indicador 21 ---------------------------------- #\n",
    "\n",
    "ventana(F1 = \"2017-09-14T11:40:00Z\",F2 = \"2017-09-14T13:20:00Z\")\n",
    "v2_o = v2['Open'].astype(float)\n",
    "v2_c = v2['Close'].astype(float)\n",
    "v2_l = v2['Low'].astype(float)\n",
    "v2_h = v2['High'].astype(float)"
   ]
  },
  {
   "cell_type": "code",
   "execution_count": 55,
   "metadata": {},
   "outputs": [],
   "source": [
    "# -- --------------------------------------Ventana indicador 22 ---------------------------------- #\n",
    "\n",
    "ventana(F1 = \"2017-07-14T11:40:00Z\",F2 = \"2017-07-14T13:20:00Z\")\n",
    "v2_o = v2['Open'].astype(float)\n",
    "v2_c = v2['Close'].astype(float)\n",
    "v2_l = v2['Low'].astype(float)\n",
    "v2_h = v2['High'].astype(float)"
   ]
  },
  {
   "cell_type": "code",
   "execution_count": 56,
   "metadata": {},
   "outputs": [],
   "source": [
    "# -- --------------------------------------Ventana indicador 23 ---------------------------------- #\n",
    "\n",
    "ventana(F1 = \"2017-06-14T11:40:00Z\",F2 = \"2017-06-14T13:20:00Z\")\n",
    "v2_o = v2['Open'].astype(float)\n",
    "v2_c = v2['Close'].astype(float)\n",
    "v2_l = v2['Low'].astype(float)\n",
    "v2_h = v2['High'].astype(float)"
   ]
  },
  {
   "cell_type": "code",
   "execution_count": 57,
   "metadata": {},
   "outputs": [],
   "source": [
    "# -- --------------------------------------Ventana indicador 24 ---------------------------------- #\n",
    "\n",
    "ventana(F1 = \"2017-05-12T11:40:00Z\",F2 = \"2017-05-12T13:20:00Z\")\n",
    "v2_o = v2['Open'].astype(float)\n",
    "v2_c = v2['Close'].astype(float)\n",
    "v2_l = v2['Low'].astype(float)\n",
    "v2_h = v2['High'].astype(float)"
   ]
  },
  {
   "cell_type": "code",
   "execution_count": null,
   "metadata": {},
   "outputs": [],
   "source": [
    "# -- --------------------------------------Ventana indicador 25 ---------------------------------- #\n",
    "\n",
    "ventana(F1 = \"2017-04-14T11:40:00Z\",F2 = \"2017-04-14T13:20:00Z\")\n",
    "v2_o = v2['Open'].astype(float)\n",
    "v2_c = v2['Close'].astype(float)\n",
    "v2_l = v2['Low'].astype(float)\n",
    "v2_h = v2['High'].astype(float)"
   ]
  },
  {
   "cell_type": "code",
   "execution_count": null,
   "metadata": {},
   "outputs": [],
   "source": []
  },
  {
   "cell_type": "code",
   "execution_count": 34,
   "metadata": {},
   "outputs": [],
   "source": [
    "# -- --------------------------------------Ventana indicador 1 ---------------------------------- #\n",
    "# -- ------------------------------------------------------------- --------------------------- -- #\n",
    "v1 = ventana(F1 = \"2019-04-10T11:40:00Z\",F2 = \"2019-04-10T13:30:00Z\")\n",
    "v1_o = v1['Open'].astype(float)\n",
    "v1_c = v1['Close'].astype(float)\n",
    "v1_l = v1['Low'].astype(float)\n",
    "v1_h = v1['High'].astype(float)"
   ]
  },
  {
   "cell_type": "code",
   "execution_count": 35,
   "metadata": {},
   "outputs": [],
   "source": [
    "# -- --------------------------------------Ventana indicador 2 ---------------------------------- #\n",
    "\n",
    "v2 = ventana(F1 = \"2019-03-12T11:40:00Z\",F2 = \"2019-03-12T13:20:00Z\")\n",
    "v2_o = v2['Open'].astype(float)\n",
    "v2_c = v2['Close'].astype(float)\n",
    "v2_l = v2['Low'].astype(float)\n",
    "v2_h = v2['High'].astype(float)"
   ]
  },
  {
   "cell_type": "code",
   "execution_count": 36,
   "metadata": {},
   "outputs": [],
   "source": [
    "# -- --------------------------------------Ventana indicador 3 ---------------------------------- #\n",
    "\n",
    "v3 = ventana(F1 = \"2019-02-13T12:40:00Z\",F2 = \"2019-02-13T14:20:00Z\")\n",
    "v3_o = v3['Open'].astype(float)\n",
    "v3_c = v3['Close'].astype(float)\n",
    "v3_l = v3['Low'].astype(float)\n",
    "v3_h = v3['High'].astype(float)"
   ]
  },
  {
   "cell_type": "code",
   "execution_count": 37,
   "metadata": {},
   "outputs": [],
   "source": [
    "# -- --------------------------------------Ventana indicador 4 ---------------------------------- #\n",
    "\n",
    "v4 = ventana(F1 = \"2019-01-11T12:40:00Z\",F2 = \"2019-01-11T14:20:00Z\")\n",
    "v4_o = v4['Open'].astype(float)\n",
    "v4_c = v4['Close'].astype(float)\n",
    "v4_l = v4['Low'].astype(float)\n",
    "v4_h = v4['High'].astype(float)"
   ]
  },
  {
   "cell_type": "code",
   "execution_count": 38,
   "metadata": {},
   "outputs": [],
   "source": [
    "# -- --------------------------------------Ventana indicador 5 ---------------------------------- #\n",
    "\n",
    "v5 = ventana(F1 = \"2018-12-12T12:40:00Z\",F2 = \"2018-12-12T14:20:00Z\")\n",
    "v5_o = v5['Open'].astype(float)\n",
    "v5_c = v5['Close'].astype(float)\n",
    "v5_l = v5['Low'].astype(float)\n",
    "v5_h = v5['High'].astype(float)"
   ]
  },
  {
   "cell_type": "code",
   "execution_count": 39,
   "metadata": {},
   "outputs": [],
   "source": [
    "# -- --------------------------------------Ventana indicador 6 ---------------------------------- #\n",
    "\n",
    "v6 = ventana(F1 = \"2018-11-14T12:40:00Z\",F2 = \"2018-11-14T14:20:00Z\")\n",
    "v6_o = v6['Open'].astype(float)\n",
    "v6_c = v6['Close'].astype(float)\n",
    "v6_l = v6['Low'].astype(float)\n",
    "v6_h = v6['High'].astype(float)"
   ]
  },
  {
   "cell_type": "code",
   "execution_count": 40,
   "metadata": {},
   "outputs": [],
   "source": [
    "# -- --------------------------------------Ventana indicador 7 ---------------------------------- #\n",
    "\n",
    "ventana(F1 = \"2018-10-11T11:40:00Z\",F2 = \"2018-10-11T13:20:00Z\")\n",
    "v2_o = v2['Open'].astype(float)\n",
    "v2_c = v2['Close'].astype(float)\n",
    "v2_l = v2['Low'].astype(float)\n",
    "v2_h = v2['High'].astype(float)"
   ]
  },
  {
   "cell_type": "code",
   "execution_count": 41,
   "metadata": {},
   "outputs": [],
   "source": [
    "# -- --------------------------------------Ventana indicador 8 ---------------------------------- #\n",
    "\n",
    "ventana(F1 = \"2018-09-13T11:40:00Z\",F2 = \"2018-09-13T13:20:00Z\")\n",
    "v2_o = v2['Open'].astype(float)\n",
    "v2_c = v2['Close'].astype(float)\n",
    "v2_l = v2['Low'].astype(float)\n",
    "v2_h = v2['High'].astype(float)"
   ]
  },
  {
   "cell_type": "code",
   "execution_count": 42,
   "metadata": {},
   "outputs": [],
   "source": [
    "# -- --------------------------------------Ventana indicador 9 ---------------------------------- #\n",
    "\n",
    "ventana(F1 = \"2018-08-10T11:40:00Z\",F2 = \"2018-08-10T13:20:00Z\")\n",
    "v2_o = v2['Open'].astype(float)\n",
    "v2_c = v2['Close'].astype(float)\n",
    "v2_l = v2['Low'].astype(float)\n",
    "v2_h = v2['High'].astype(float)"
   ]
  },
  {
   "cell_type": "code",
   "execution_count": 43,
   "metadata": {},
   "outputs": [],
   "source": [
    "# -- --------------------------------------Ventana indicador 10 ---------------------------------- #\n",
    "\n",
    "ventana(F1 = \"2018-07-12T11:40:00Z\",F2 = \"2018-07-12T13:20:00Z\")\n",
    "v2_o = v2['Open'].astype(float)\n",
    "v2_c = v2['Close'].astype(float)\n",
    "v2_l = v2['Low'].astype(float)\n",
    "v2_h = v2['High'].astype(float)"
   ]
  },
  {
   "cell_type": "code",
   "execution_count": 44,
   "metadata": {},
   "outputs": [],
   "source": [
    "# -- --------------------------------------Ventana indicador 11 ---------------------------------- #\n",
    "\n",
    "ventana(F1 = \"2018-06-12T11:40:00Z\",F2 = \"2018-06-12T13:20:00Z\")\n",
    "v2_o = v2['Open'].astype(float)\n",
    "v2_c = v2['Close'].astype(float)\n",
    "v2_l = v2['Low'].astype(float)\n",
    "v2_h = v2['High'].astype(float)"
   ]
  },
  {
   "cell_type": "code",
   "execution_count": 45,
   "metadata": {},
   "outputs": [],
   "source": [
    "# -- --------------------------------------Ventana indicador 12 ---------------------------------- #\n",
    "\n",
    "ventana(F1 = \"2018-05-10T11:40:00Z\",F2 = \"2018-05-10T13:20:00Z\")\n",
    "v2_o = v2['Open'].astype(float)\n",
    "v2_c = v2['Close'].astype(float)\n",
    "v2_l = v2['Low'].astype(float)\n",
    "v2_h = v2['High'].astype(float)"
   ]
  },
  {
   "cell_type": "code",
   "execution_count": 46,
   "metadata": {},
   "outputs": [],
   "source": [
    "# -- --------------------------------------Ventana indicador 13 ---------------------------------- #\n",
    "\n",
    "ventana(F1 = \"2018-04-11T11:40:00Z\",F2 = \"2018-04-11T13:20:00Z\")\n",
    "v2_o = v2['Open'].astype(float)\n",
    "v2_c = v2['Close'].astype(float)\n",
    "v2_l = v2['Low'].astype(float)\n",
    "v2_h = v2['High'].astype(float)"
   ]
  },
  {
   "cell_type": "code",
   "execution_count": 47,
   "metadata": {},
   "outputs": [],
   "source": [
    "# -- --------------------------------------Ventana indicador 14 ---------------------------------- #\n",
    "\n",
    "ventana(F1 = \"2018-03-13T11:40:00Z\",F2 = \"2018-03-13T13:20:00Z\")\n",
    "v2_o = v2['Open'].astype(float)\n",
    "v2_c = v2['Close'].astype(float)\n",
    "v2_l = v2['Low'].astype(float)\n",
    "v2_h = v2['High'].astype(float)"
   ]
  },
  {
   "cell_type": "code",
   "execution_count": 48,
   "metadata": {},
   "outputs": [],
   "source": [
    "# -- --------------------------------------Ventana indicador 15 ---------------------------------- #\n",
    "\n",
    "ventana(F1 = \"2018-02-14T11:40:00Z\",F2 = \"2018-02-14T13:20:00Z\")\n",
    "v2_o = v2['Open'].astype(float)\n",
    "v2_c = v2['Close'].astype(float)\n",
    "v2_l = v2['Low'].astype(float)\n",
    "v2_h = v2['High'].astype(float)"
   ]
  },
  {
   "cell_type": "code",
   "execution_count": 49,
   "metadata": {},
   "outputs": [],
   "source": [
    "# -- --------------------------------------Ventana indicador 16 ---------------------------------- #\n",
    "\n",
    "ventana(F1 = \"2018-01-10T12:40:00Z\",F2 = \"2018-01-12T14:20:00Z\")\n",
    "v2_o = v2['Open'].astype(float)\n",
    "v2_c = v2['Close'].astype(float)\n",
    "v2_l = v2['Low'].astype(float)\n",
    "v2_h = v2['High'].astype(float)"
   ]
  },
  {
   "cell_type": "code",
   "execution_count": 50,
   "metadata": {},
   "outputs": [],
   "source": [
    "# -- --------------------------------------Ventana indicador 17 ---------------------------------- #\n",
    "\n",
    "ventana(F1 = \"2017-12-13T12:40:00Z\",F2 = \"2017-12-13T14:20:00Z\")\n",
    "v2_o = v2['Open'].astype(float)\n",
    "v2_c = v2['Close'].astype(float)\n",
    "v2_l = v2['Low'].astype(float)\n",
    "v2_h = v2['High'].astype(float)"
   ]
  },
  {
   "cell_type": "code",
   "execution_count": 51,
   "metadata": {},
   "outputs": [],
   "source": [
    "# -- --------------------------------------Ventana indicador 18 ---------------------------------- #\n",
    "\n",
    "ventana(F1 = \"2017-11-15T12:40:00Z\",F2 = \"2017-11-15T14:20:00Z\")\n",
    "v2_o = v2['Open'].astype(float)\n",
    "v2_c = v2['Close'].astype(float)\n",
    "v2_l = v2['Low'].astype(float)\n",
    "v2_h = v2['High'].astype(float)"
   ]
  },
  {
   "cell_type": "code",
   "execution_count": 52,
   "metadata": {},
   "outputs": [],
   "source": [
    "# -- --------------------------------------Ventana indicador 19 ---------------------------------- #\n",
    "\n",
    "ventana(F1 = \"2017-10-13T11:40:00Z\",F2 = \"2017-10-13T13:20:00Z\")\n",
    "v2_o = v2['Open'].astype(float)\n",
    "v2_c = v2['Close'].astype(float)\n",
    "v2_l = v2['Low'].astype(float)\n",
    "v2_h = v2['High'].astype(float)"
   ]
  },
  {
   "cell_type": "code",
   "execution_count": 53,
   "metadata": {},
   "outputs": [],
   "source": [
    "# -- --------------------------------------Ventana indicador 20 ---------------------------------- #\n",
    "\n",
    "ventana(F1 = \"2017-09-14T11:40:00Z\",F2 = \"2017-09-14T13:20:00Z\")\n",
    "v2_o = v2['Open'].astype(float)\n",
    "v2_c = v2['Close'].astype(float)\n",
    "v2_l = v2['Low'].astype(float)\n",
    "v2_h = v2['High'].astype(float)"
   ]
  },
  {
   "cell_type": "code",
   "execution_count": 54,
   "metadata": {},
   "outputs": [],
   "source": [
    "# -- --------------------------------------Ventana indicador 21 ---------------------------------- #\n",
    "\n",
    "ventana(F1 = \"2017-09-14T11:40:00Z\",F2 = \"2017-09-14T13:20:00Z\")\n",
    "v2_o = v2['Open'].astype(float)\n",
    "v2_c = v2['Close'].astype(float)\n",
    "v2_l = v2['Low'].astype(float)\n",
    "v2_h = v2['High'].astype(float)"
   ]
  },
  {
   "cell_type": "code",
   "execution_count": 55,
   "metadata": {},
   "outputs": [],
   "source": [
    "# -- --------------------------------------Ventana indicador 22 ---------------------------------- #\n",
    "\n",
    "ventana(F1 = \"2017-07-14T11:40:00Z\",F2 = \"2017-07-14T13:20:00Z\")\n",
    "v2_o = v2['Open'].astype(float)\n",
    "v2_c = v2['Close'].astype(float)\n",
    "v2_l = v2['Low'].astype(float)\n",
    "v2_h = v2['High'].astype(float)"
   ]
  },
  {
   "cell_type": "code",
   "execution_count": 56,
   "metadata": {},
   "outputs": [],
   "source": [
    "# -- --------------------------------------Ventana indicador 23 ---------------------------------- #\n",
    "\n",
    "ventana(F1 = \"2017-06-14T11:40:00Z\",F2 = \"2017-06-14T13:20:00Z\")\n",
    "v2_o = v2['Open'].astype(float)\n",
    "v2_c = v2['Close'].astype(float)\n",
    "v2_l = v2['Low'].astype(float)\n",
    "v2_h = v2['High'].astype(float)"
   ]
  },
  {
   "cell_type": "code",
   "execution_count": 57,
   "metadata": {},
   "outputs": [],
   "source": [
    "# -- --------------------------------------Ventana indicador 24 ---------------------------------- #\n",
    "\n",
    "ventana(F1 = \"2017-05-12T11:40:00Z\",F2 = \"2017-05-12T13:20:00Z\")\n",
    "v2_o = v2['Open'].astype(float)\n",
    "v2_c = v2['Close'].astype(float)\n",
    "v2_l = v2['Low'].astype(float)\n",
    "v2_h = v2['High'].astype(float)"
   ]
  },
  {
   "cell_type": "code",
   "execution_count": null,
   "metadata": {},
   "outputs": [],
   "source": [
    "# -- --------------------------------------Ventana indicador 25 ---------------------------------- #\n",
    "\n",
    "ventana(F1 = \"2017-04-14T11:40:00Z\",F2 = \"2017-04-14T13:20:00Z\")\n",
    "v2_o = v2['Open'].astype(float)\n",
    "v2_c = v2['Close'].astype(float)\n",
    "v2_l = v2['Low'].astype(float)\n",
    "v2_h = v2['High'].astype(float)"
   ]
  },
  {
   "cell_type": "code",
   "execution_count": null,
   "metadata": {},
   "outputs": [],
   "source": []
  },
  {
   "cell_type": "code",
   "execution_count": 34,
   "metadata": {},
   "outputs": [],
   "source": [
    "# -- --------------------------------------Ventana indicador 1 ---------------------------------- #\n",
    "# -- ------------------------------------------------------------- --------------------------- -- #\n",
    "v1 = ventana(F1 = \"2019-04-10T11:40:00Z\",F2 = \"2019-04-10T13:30:00Z\")\n",
    "v1_o = v1['Open'].astype(float)\n",
    "v1_c = v1['Close'].astype(float)\n",
    "v1_l = v1['Low'].astype(float)\n",
    "v1_h = v1['High'].astype(float)"
   ]
  },
  {
   "cell_type": "code",
   "execution_count": 35,
   "metadata": {},
   "outputs": [],
   "source": [
    "# -- --------------------------------------Ventana indicador 2 ---------------------------------- #\n",
    "\n",
    "v2 = ventana(F1 = \"2019-03-12T11:40:00Z\",F2 = \"2019-03-12T13:20:00Z\")\n",
    "v2_o = v2['Open'].astype(float)\n",
    "v2_c = v2['Close'].astype(float)\n",
    "v2_l = v2['Low'].astype(float)\n",
    "v2_h = v2['High'].astype(float)"
   ]
  },
  {
   "cell_type": "code",
   "execution_count": 36,
   "metadata": {},
   "outputs": [],
   "source": [
    "# -- --------------------------------------Ventana indicador 3 ---------------------------------- #\n",
    "\n",
    "v3 = ventana(F1 = \"2019-02-13T12:40:00Z\",F2 = \"2019-02-13T14:20:00Z\")\n",
    "v3_o = v3['Open'].astype(float)\n",
    "v3_c = v3['Close'].astype(float)\n",
    "v3_l = v3['Low'].astype(float)\n",
    "v3_h = v3['High'].astype(float)"
   ]
  },
  {
   "cell_type": "code",
   "execution_count": 37,
   "metadata": {},
   "outputs": [],
   "source": [
    "# -- --------------------------------------Ventana indicador 4 ---------------------------------- #\n",
    "\n",
    "v4 = ventana(F1 = \"2019-01-11T12:40:00Z\",F2 = \"2019-01-11T14:20:00Z\")\n",
    "v4_o = v4['Open'].astype(float)\n",
    "v4_c = v4['Close'].astype(float)\n",
    "v4_l = v4['Low'].astype(float)\n",
    "v4_h = v4['High'].astype(float)"
   ]
  },
  {
   "cell_type": "code",
   "execution_count": 38,
   "metadata": {},
   "outputs": [],
   "source": [
    "# -- --------------------------------------Ventana indicador 5 ---------------------------------- #\n",
    "\n",
    "v5 = ventana(F1 = \"2018-12-12T12:40:00Z\",F2 = \"2018-12-12T14:20:00Z\")\n",
    "v5_o = v5['Open'].astype(float)\n",
    "v5_c = v5['Close'].astype(float)\n",
    "v5_l = v5['Low'].astype(float)\n",
    "v5_h = v5['High'].astype(float)"
   ]
  },
  {
   "cell_type": "code",
   "execution_count": 39,
   "metadata": {},
   "outputs": [],
   "source": [
    "# -- --------------------------------------Ventana indicador 6 ---------------------------------- #\n",
    "\n",
    "v6 = ventana(F1 = \"2018-11-14T12:40:00Z\",F2 = \"2018-11-14T14:20:00Z\")\n",
    "v6_o = v6['Open'].astype(float)\n",
    "v6_c = v6['Close'].astype(float)\n",
    "v6_l = v6['Low'].astype(float)\n",
    "v6_h = v6['High'].astype(float)"
   ]
  },
  {
   "cell_type": "code",
   "execution_count": 40,
   "metadata": {},
   "outputs": [],
   "source": [
    "# -- --------------------------------------Ventana indicador 7 ---------------------------------- #\n",
    "\n",
    "ventana(F1 = \"2018-10-11T11:40:00Z\",F2 = \"2018-10-11T13:20:00Z\")\n",
    "v2_o = v2['Open'].astype(float)\n",
    "v2_c = v2['Close'].astype(float)\n",
    "v2_l = v2['Low'].astype(float)\n",
    "v2_h = v2['High'].astype(float)"
   ]
  },
  {
   "cell_type": "code",
   "execution_count": 41,
   "metadata": {},
   "outputs": [],
   "source": [
    "# -- --------------------------------------Ventana indicador 8 ---------------------------------- #\n",
    "\n",
    "ventana(F1 = \"2018-09-13T11:40:00Z\",F2 = \"2018-09-13T13:20:00Z\")\n",
    "v2_o = v2['Open'].astype(float)\n",
    "v2_c = v2['Close'].astype(float)\n",
    "v2_l = v2['Low'].astype(float)\n",
    "v2_h = v2['High'].astype(float)"
   ]
  },
  {
   "cell_type": "code",
   "execution_count": 42,
   "metadata": {},
   "outputs": [],
   "source": [
    "# -- --------------------------------------Ventana indicador 9 ---------------------------------- #\n",
    "\n",
    "ventana(F1 = \"2018-08-10T11:40:00Z\",F2 = \"2018-08-10T13:20:00Z\")\n",
    "v2_o = v2['Open'].astype(float)\n",
    "v2_c = v2['Close'].astype(float)\n",
    "v2_l = v2['Low'].astype(float)\n",
    "v2_h = v2['High'].astype(float)"
   ]
  },
  {
   "cell_type": "code",
   "execution_count": 43,
   "metadata": {},
   "outputs": [],
   "source": [
    "# -- --------------------------------------Ventana indicador 10 ---------------------------------- #\n",
    "\n",
    "ventana(F1 = \"2018-07-12T11:40:00Z\",F2 = \"2018-07-12T13:20:00Z\")\n",
    "v2_o = v2['Open'].astype(float)\n",
    "v2_c = v2['Close'].astype(float)\n",
    "v2_l = v2['Low'].astype(float)\n",
    "v2_h = v2['High'].astype(float)"
   ]
  },
  {
   "cell_type": "code",
   "execution_count": 44,
   "metadata": {},
   "outputs": [],
   "source": [
    "# -- --------------------------------------Ventana indicador 11 ---------------------------------- #\n",
    "\n",
    "ventana(F1 = \"2018-06-12T11:40:00Z\",F2 = \"2018-06-12T13:20:00Z\")\n",
    "v2_o = v2['Open'].astype(float)\n",
    "v2_c = v2['Close'].astype(float)\n",
    "v2_l = v2['Low'].astype(float)\n",
    "v2_h = v2['High'].astype(float)"
   ]
  },
  {
   "cell_type": "code",
   "execution_count": 45,
   "metadata": {},
   "outputs": [],
   "source": [
    "# -- --------------------------------------Ventana indicador 12 ---------------------------------- #\n",
    "\n",
    "ventana(F1 = \"2018-05-10T11:40:00Z\",F2 = \"2018-05-10T13:20:00Z\")\n",
    "v2_o = v2['Open'].astype(float)\n",
    "v2_c = v2['Close'].astype(float)\n",
    "v2_l = v2['Low'].astype(float)\n",
    "v2_h = v2['High'].astype(float)"
   ]
  },
  {
   "cell_type": "code",
   "execution_count": 46,
   "metadata": {},
   "outputs": [],
   "source": [
    "# -- --------------------------------------Ventana indicador 13 ---------------------------------- #\n",
    "\n",
    "ventana(F1 = \"2018-04-11T11:40:00Z\",F2 = \"2018-04-11T13:20:00Z\")\n",
    "v2_o = v2['Open'].astype(float)\n",
    "v2_c = v2['Close'].astype(float)\n",
    "v2_l = v2['Low'].astype(float)\n",
    "v2_h = v2['High'].astype(float)"
   ]
  },
  {
   "cell_type": "code",
   "execution_count": 47,
   "metadata": {},
   "outputs": [],
   "source": [
    "# -- --------------------------------------Ventana indicador 14 ---------------------------------- #\n",
    "\n",
    "ventana(F1 = \"2018-03-13T11:40:00Z\",F2 = \"2018-03-13T13:20:00Z\")\n",
    "v2_o = v2['Open'].astype(float)\n",
    "v2_c = v2['Close'].astype(float)\n",
    "v2_l = v2['Low'].astype(float)\n",
    "v2_h = v2['High'].astype(float)"
   ]
  },
  {
   "cell_type": "code",
   "execution_count": 48,
   "metadata": {},
   "outputs": [],
   "source": [
    "# -- --------------------------------------Ventana indicador 15 ---------------------------------- #\n",
    "\n",
    "ventana(F1 = \"2018-02-14T11:40:00Z\",F2 = \"2018-02-14T13:20:00Z\")\n",
    "v2_o = v2['Open'].astype(float)\n",
    "v2_c = v2['Close'].astype(float)\n",
    "v2_l = v2['Low'].astype(float)\n",
    "v2_h = v2['High'].astype(float)"
   ]
  },
  {
   "cell_type": "code",
   "execution_count": 49,
   "metadata": {},
   "outputs": [],
   "source": [
    "# -- --------------------------------------Ventana indicador 16 ---------------------------------- #\n",
    "\n",
    "ventana(F1 = \"2018-01-10T12:40:00Z\",F2 = \"2018-01-12T14:20:00Z\")\n",
    "v2_o = v2['Open'].astype(float)\n",
    "v2_c = v2['Close'].astype(float)\n",
    "v2_l = v2['Low'].astype(float)\n",
    "v2_h = v2['High'].astype(float)"
   ]
  },
  {
   "cell_type": "code",
   "execution_count": 50,
   "metadata": {},
   "outputs": [],
   "source": [
    "# -- --------------------------------------Ventana indicador 17 ---------------------------------- #\n",
    "\n",
    "ventana(F1 = \"2017-12-13T12:40:00Z\",F2 = \"2017-12-13T14:20:00Z\")\n",
    "v2_o = v2['Open'].astype(float)\n",
    "v2_c = v2['Close'].astype(float)\n",
    "v2_l = v2['Low'].astype(float)\n",
    "v2_h = v2['High'].astype(float)"
   ]
  },
  {
   "cell_type": "code",
   "execution_count": 51,
   "metadata": {},
   "outputs": [],
   "source": [
    "# -- --------------------------------------Ventana indicador 18 ---------------------------------- #\n",
    "\n",
    "ventana(F1 = \"2017-11-15T12:40:00Z\",F2 = \"2017-11-15T14:20:00Z\")\n",
    "v2_o = v2['Open'].astype(float)\n",
    "v2_c = v2['Close'].astype(float)\n",
    "v2_l = v2['Low'].astype(float)\n",
    "v2_h = v2['High'].astype(float)"
   ]
  },
  {
   "cell_type": "code",
   "execution_count": 52,
   "metadata": {},
   "outputs": [],
   "source": [
    "# -- --------------------------------------Ventana indicador 19 ---------------------------------- #\n",
    "\n",
    "ventana(F1 = \"2017-10-13T11:40:00Z\",F2 = \"2017-10-13T13:20:00Z\")\n",
    "v2_o = v2['Open'].astype(float)\n",
    "v2_c = v2['Close'].astype(float)\n",
    "v2_l = v2['Low'].astype(float)\n",
    "v2_h = v2['High'].astype(float)"
   ]
  },
  {
   "cell_type": "code",
   "execution_count": 53,
   "metadata": {},
   "outputs": [],
   "source": [
    "# -- --------------------------------------Ventana indicador 20 ---------------------------------- #\n",
    "\n",
    "ventana(F1 = \"2017-09-14T11:40:00Z\",F2 = \"2017-09-14T13:20:00Z\")\n",
    "v2_o = v2['Open'].astype(float)\n",
    "v2_c = v2['Close'].astype(float)\n",
    "v2_l = v2['Low'].astype(float)\n",
    "v2_h = v2['High'].astype(float)"
   ]
  },
  {
   "cell_type": "code",
   "execution_count": 54,
   "metadata": {},
   "outputs": [],
   "source": [
    "# -- --------------------------------------Ventana indicador 21 ---------------------------------- #\n",
    "\n",
    "ventana(F1 = \"2017-09-14T11:40:00Z\",F2 = \"2017-09-14T13:20:00Z\")\n",
    "v2_o = v2['Open'].astype(float)\n",
    "v2_c = v2['Close'].astype(float)\n",
    "v2_l = v2['Low'].astype(float)\n",
    "v2_h = v2['High'].astype(float)"
   ]
  },
  {
   "cell_type": "code",
   "execution_count": 55,
   "metadata": {},
   "outputs": [],
   "source": [
    "# -- --------------------------------------Ventana indicador 22 ---------------------------------- #\n",
    "\n",
    "ventana(F1 = \"2017-07-14T11:40:00Z\",F2 = \"2017-07-14T13:20:00Z\")\n",
    "v2_o = v2['Open'].astype(float)\n",
    "v2_c = v2['Close'].astype(float)\n",
    "v2_l = v2['Low'].astype(float)\n",
    "v2_h = v2['High'].astype(float)"
   ]
  },
  {
   "cell_type": "code",
   "execution_count": 56,
   "metadata": {},
   "outputs": [],
   "source": [
    "# -- --------------------------------------Ventana indicador 23 ---------------------------------- #\n",
    "\n",
    "ventana(F1 = \"2017-06-14T11:40:00Z\",F2 = \"2017-06-14T13:20:00Z\")\n",
    "v2_o = v2['Open'].astype(float)\n",
    "v2_c = v2['Close'].astype(float)\n",
    "v2_l = v2['Low'].astype(float)\n",
    "v2_h = v2['High'].astype(float)"
   ]
  },
  {
   "cell_type": "code",
   "execution_count": 57,
   "metadata": {},
   "outputs": [],
   "source": [
    "# -- --------------------------------------Ventana indicador 24 ---------------------------------- #\n",
    "\n",
    "ventana(F1 = \"2017-05-12T11:40:00Z\",F2 = \"2017-05-12T13:20:00Z\")\n",
    "v2_o = v2['Open'].astype(float)\n",
    "v2_c = v2['Close'].astype(float)\n",
    "v2_l = v2['Low'].astype(float)\n",
    "v2_h = v2['High'].astype(float)"
   ]
  },
  {
   "cell_type": "code",
   "execution_count": null,
   "metadata": {},
   "outputs": [],
   "source": [
    "# -- --------------------------------------Ventana indicador 25 ---------------------------------- #\n",
    "\n",
    "ventana(F1 = \"2017-04-14T11:40:00Z\",F2 = \"2017-04-14T13:20:00Z\")\n",
    "v2_o = v2['Open'].astype(float)\n",
    "v2_c = v2['Close'].astype(float)\n",
    "v2_l = v2['Low'].astype(float)\n",
    "v2_h = v2['High'].astype(float)"
   ]
  },
  {
   "cell_type": "code",
   "execution_count": null,
   "metadata": {},
   "outputs": [],
   "source": []
  },
  {
   "cell_type": "code",
   "execution_count": 34,
   "metadata": {},
   "outputs": [],
   "source": [
    "# -- --------------------------------------Ventana indicador 1 ---------------------------------- #\n",
    "# -- ------------------------------------------------------------- --------------------------- -- #\n",
    "v1 = ventana(F1 = \"2019-04-10T11:40:00Z\",F2 = \"2019-04-10T13:30:00Z\")\n",
    "v1_o = v1['Open'].astype(float)\n",
    "v1_c = v1['Close'].astype(float)\n",
    "v1_l = v1['Low'].astype(float)\n",
    "v1_h = v1['High'].astype(float)"
   ]
  },
  {
   "cell_type": "code",
   "execution_count": 35,
   "metadata": {},
   "outputs": [],
   "source": [
    "# -- --------------------------------------Ventana indicador 2 ---------------------------------- #\n",
    "\n",
    "v2 = ventana(F1 = \"2019-03-12T11:40:00Z\",F2 = \"2019-03-12T13:20:00Z\")\n",
    "v2_o = v2['Open'].astype(float)\n",
    "v2_c = v2['Close'].astype(float)\n",
    "v2_l = v2['Low'].astype(float)\n",
    "v2_h = v2['High'].astype(float)"
   ]
  },
  {
   "cell_type": "code",
   "execution_count": 36,
   "metadata": {},
   "outputs": [],
   "source": [
    "# -- --------------------------------------Ventana indicador 3 ---------------------------------- #\n",
    "\n",
    "v3 = ventana(F1 = \"2019-02-13T12:40:00Z\",F2 = \"2019-02-13T14:20:00Z\")\n",
    "v3_o = v3['Open'].astype(float)\n",
    "v3_c = v3['Close'].astype(float)\n",
    "v3_l = v3['Low'].astype(float)\n",
    "v3_h = v3['High'].astype(float)"
   ]
  },
  {
   "cell_type": "code",
   "execution_count": 37,
   "metadata": {},
   "outputs": [],
   "source": [
    "# -- --------------------------------------Ventana indicador 4 ---------------------------------- #\n",
    "\n",
    "v4 = ventana(F1 = \"2019-01-11T12:40:00Z\",F2 = \"2019-01-11T14:20:00Z\")\n",
    "v4_o = v4['Open'].astype(float)\n",
    "v4_c = v4['Close'].astype(float)\n",
    "v4_l = v4['Low'].astype(float)\n",
    "v4_h = v4['High'].astype(float)"
   ]
  },
  {
   "cell_type": "code",
   "execution_count": 38,
   "metadata": {},
   "outputs": [],
   "source": [
    "# -- --------------------------------------Ventana indicador 5 ---------------------------------- #\n",
    "\n",
    "v5 = ventana(F1 = \"2018-12-12T12:40:00Z\",F2 = \"2018-12-12T14:20:00Z\")\n",
    "v5_o = v5['Open'].astype(float)\n",
    "v5_c = v5['Close'].astype(float)\n",
    "v5_l = v5['Low'].astype(float)\n",
    "v5_h = v5['High'].astype(float)"
   ]
  },
  {
   "cell_type": "code",
   "execution_count": 39,
   "metadata": {},
   "outputs": [],
   "source": [
    "# -- --------------------------------------Ventana indicador 6 ---------------------------------- #\n",
    "\n",
    "v6 = ventana(F1 = \"2018-11-14T12:40:00Z\",F2 = \"2018-11-14T14:20:00Z\")\n",
    "v6_o = v6['Open'].astype(float)\n",
    "v6_c = v6['Close'].astype(float)\n",
    "v6_l = v6['Low'].astype(float)\n",
    "v6_h = v6['High'].astype(float)"
   ]
  },
  {
   "cell_type": "code",
   "execution_count": 40,
   "metadata": {},
   "outputs": [],
   "source": [
    "# -- --------------------------------------Ventana indicador 7 ---------------------------------- #\n",
    "\n",
    "ventana(F1 = \"2018-10-11T11:40:00Z\",F2 = \"2018-10-11T13:20:00Z\")\n",
    "v2_o = v2['Open'].astype(float)\n",
    "v2_c = v2['Close'].astype(float)\n",
    "v2_l = v2['Low'].astype(float)\n",
    "v2_h = v2['High'].astype(float)"
   ]
  },
  {
   "cell_type": "code",
   "execution_count": 41,
   "metadata": {},
   "outputs": [],
   "source": [
    "# -- --------------------------------------Ventana indicador 8 ---------------------------------- #\n",
    "\n",
    "ventana(F1 = \"2018-09-13T11:40:00Z\",F2 = \"2018-09-13T13:20:00Z\")\n",
    "v2_o = v2['Open'].astype(float)\n",
    "v2_c = v2['Close'].astype(float)\n",
    "v2_l = v2['Low'].astype(float)\n",
    "v2_h = v2['High'].astype(float)"
   ]
  },
  {
   "cell_type": "code",
   "execution_count": 42,
   "metadata": {},
   "outputs": [],
   "source": [
    "# -- --------------------------------------Ventana indicador 9 ---------------------------------- #\n",
    "\n",
    "ventana(F1 = \"2018-08-10T11:40:00Z\",F2 = \"2018-08-10T13:20:00Z\")\n",
    "v2_o = v2['Open'].astype(float)\n",
    "v2_c = v2['Close'].astype(float)\n",
    "v2_l = v2['Low'].astype(float)\n",
    "v2_h = v2['High'].astype(float)"
   ]
  },
  {
   "cell_type": "code",
   "execution_count": 43,
   "metadata": {},
   "outputs": [],
   "source": [
    "# -- --------------------------------------Ventana indicador 10 ---------------------------------- #\n",
    "\n",
    "ventana(F1 = \"2018-07-12T11:40:00Z\",F2 = \"2018-07-12T13:20:00Z\")\n",
    "v2_o = v2['Open'].astype(float)\n",
    "v2_c = v2['Close'].astype(float)\n",
    "v2_l = v2['Low'].astype(float)\n",
    "v2_h = v2['High'].astype(float)"
   ]
  },
  {
   "cell_type": "code",
   "execution_count": 44,
   "metadata": {},
   "outputs": [],
   "source": [
    "# -- --------------------------------------Ventana indicador 11 ---------------------------------- #\n",
    "\n",
    "ventana(F1 = \"2018-06-12T11:40:00Z\",F2 = \"2018-06-12T13:20:00Z\")\n",
    "v2_o = v2['Open'].astype(float)\n",
    "v2_c = v2['Close'].astype(float)\n",
    "v2_l = v2['Low'].astype(float)\n",
    "v2_h = v2['High'].astype(float)"
   ]
  },
  {
   "cell_type": "code",
   "execution_count": 45,
   "metadata": {},
   "outputs": [],
   "source": [
    "# -- --------------------------------------Ventana indicador 12 ---------------------------------- #\n",
    "\n",
    "ventana(F1 = \"2018-05-10T11:40:00Z\",F2 = \"2018-05-10T13:20:00Z\")\n",
    "v2_o = v2['Open'].astype(float)\n",
    "v2_c = v2['Close'].astype(float)\n",
    "v2_l = v2['Low'].astype(float)\n",
    "v2_h = v2['High'].astype(float)"
   ]
  },
  {
   "cell_type": "code",
   "execution_count": 46,
   "metadata": {},
   "outputs": [],
   "source": [
    "# -- --------------------------------------Ventana indicador 13 ---------------------------------- #\n",
    "\n",
    "ventana(F1 = \"2018-04-11T11:40:00Z\",F2 = \"2018-04-11T13:20:00Z\")\n",
    "v2_o = v2['Open'].astype(float)\n",
    "v2_c = v2['Close'].astype(float)\n",
    "v2_l = v2['Low'].astype(float)\n",
    "v2_h = v2['High'].astype(float)"
   ]
  },
  {
   "cell_type": "code",
   "execution_count": 47,
   "metadata": {},
   "outputs": [],
   "source": [
    "# -- --------------------------------------Ventana indicador 14 ---------------------------------- #\n",
    "\n",
    "ventana(F1 = \"2018-03-13T11:40:00Z\",F2 = \"2018-03-13T13:20:00Z\")\n",
    "v2_o = v2['Open'].astype(float)\n",
    "v2_c = v2['Close'].astype(float)\n",
    "v2_l = v2['Low'].astype(float)\n",
    "v2_h = v2['High'].astype(float)"
   ]
  },
  {
   "cell_type": "code",
   "execution_count": 48,
   "metadata": {},
   "outputs": [],
   "source": [
    "# -- --------------------------------------Ventana indicador 15 ---------------------------------- #\n",
    "\n",
    "ventana(F1 = \"2018-02-14T11:40:00Z\",F2 = \"2018-02-14T13:20:00Z\")\n",
    "v2_o = v2['Open'].astype(float)\n",
    "v2_c = v2['Close'].astype(float)\n",
    "v2_l = v2['Low'].astype(float)\n",
    "v2_h = v2['High'].astype(float)"
   ]
  },
  {
   "cell_type": "code",
   "execution_count": 49,
   "metadata": {},
   "outputs": [],
   "source": [
    "# -- --------------------------------------Ventana indicador 16 ---------------------------------- #\n",
    "\n",
    "ventana(F1 = \"2018-01-10T12:40:00Z\",F2 = \"2018-01-12T14:20:00Z\")\n",
    "v2_o = v2['Open'].astype(float)\n",
    "v2_c = v2['Close'].astype(float)\n",
    "v2_l = v2['Low'].astype(float)\n",
    "v2_h = v2['High'].astype(float)"
   ]
  },
  {
   "cell_type": "code",
   "execution_count": 50,
   "metadata": {},
   "outputs": [],
   "source": [
    "# -- --------------------------------------Ventana indicador 17 ---------------------------------- #\n",
    "\n",
    "ventana(F1 = \"2017-12-13T12:40:00Z\",F2 = \"2017-12-13T14:20:00Z\")\n",
    "v2_o = v2['Open'].astype(float)\n",
    "v2_c = v2['Close'].astype(float)\n",
    "v2_l = v2['Low'].astype(float)\n",
    "v2_h = v2['High'].astype(float)"
   ]
  },
  {
   "cell_type": "code",
   "execution_count": 51,
   "metadata": {},
   "outputs": [],
   "source": [
    "# -- --------------------------------------Ventana indicador 18 ---------------------------------- #\n",
    "\n",
    "ventana(F1 = \"2017-11-15T12:40:00Z\",F2 = \"2017-11-15T14:20:00Z\")\n",
    "v2_o = v2['Open'].astype(float)\n",
    "v2_c = v2['Close'].astype(float)\n",
    "v2_l = v2['Low'].astype(float)\n",
    "v2_h = v2['High'].astype(float)"
   ]
  },
  {
   "cell_type": "code",
   "execution_count": 52,
   "metadata": {},
   "outputs": [],
   "source": [
    "# -- --------------------------------------Ventana indicador 19 ---------------------------------- #\n",
    "\n",
    "ventana(F1 = \"2017-10-13T11:40:00Z\",F2 = \"2017-10-13T13:20:00Z\")\n",
    "v2_o = v2['Open'].astype(float)\n",
    "v2_c = v2['Close'].astype(float)\n",
    "v2_l = v2['Low'].astype(float)\n",
    "v2_h = v2['High'].astype(float)"
   ]
  },
  {
   "cell_type": "code",
   "execution_count": 53,
   "metadata": {},
   "outputs": [],
   "source": [
    "# -- --------------------------------------Ventana indicador 20 ---------------------------------- #\n",
    "\n",
    "ventana(F1 = \"2017-09-14T11:40:00Z\",F2 = \"2017-09-14T13:20:00Z\")\n",
    "v2_o = v2['Open'].astype(float)\n",
    "v2_c = v2['Close'].astype(float)\n",
    "v2_l = v2['Low'].astype(float)\n",
    "v2_h = v2['High'].astype(float)"
   ]
  },
  {
   "cell_type": "code",
   "execution_count": 54,
   "metadata": {},
   "outputs": [],
   "source": [
    "# -- --------------------------------------Ventana indicador 21 ---------------------------------- #\n",
    "\n",
    "ventana(F1 = \"2017-09-14T11:40:00Z\",F2 = \"2017-09-14T13:20:00Z\")\n",
    "v2_o = v2['Open'].astype(float)\n",
    "v2_c = v2['Close'].astype(float)\n",
    "v2_l = v2['Low'].astype(float)\n",
    "v2_h = v2['High'].astype(float)"
   ]
  },
  {
   "cell_type": "code",
   "execution_count": 55,
   "metadata": {},
   "outputs": [],
   "source": [
    "# -- --------------------------------------Ventana indicador 22 ---------------------------------- #\n",
    "\n",
    "ventana(F1 = \"2017-07-14T11:40:00Z\",F2 = \"2017-07-14T13:20:00Z\")\n",
    "v2_o = v2['Open'].astype(float)\n",
    "v2_c = v2['Close'].astype(float)\n",
    "v2_l = v2['Low'].astype(float)\n",
    "v2_h = v2['High'].astype(float)"
   ]
  },
  {
   "cell_type": "code",
   "execution_count": 56,
   "metadata": {},
   "outputs": [],
   "source": [
    "# -- --------------------------------------Ventana indicador 23 ---------------------------------- #\n",
    "\n",
    "ventana(F1 = \"2017-06-14T11:40:00Z\",F2 = \"2017-06-14T13:20:00Z\")\n",
    "v2_o = v2['Open'].astype(float)\n",
    "v2_c = v2['Close'].astype(float)\n",
    "v2_l = v2['Low'].astype(float)\n",
    "v2_h = v2['High'].astype(float)"
   ]
  },
  {
   "cell_type": "code",
   "execution_count": 57,
   "metadata": {},
   "outputs": [],
   "source": [
    "# -- --------------------------------------Ventana indicador 24 ---------------------------------- #\n",
    "\n",
    "ventana(F1 = \"2017-05-12T11:40:00Z\",F2 = \"2017-05-12T13:20:00Z\")\n",
    "v2_o = v2['Open'].astype(float)\n",
    "v2_c = v2['Close'].astype(float)\n",
    "v2_l = v2['Low'].astype(float)\n",
    "v2_h = v2['High'].astype(float)"
   ]
  },
  {
   "cell_type": "code",
   "execution_count": null,
   "metadata": {},
   "outputs": [],
   "source": [
    "# -- --------------------------------------Ventana indicador 25 ---------------------------------- #\n",
    "\n",
    "ventana(F1 = \"2017-04-14T11:40:00Z\",F2 = \"2017-04-14T13:20:00Z\")\n",
    "v2_o = v2['Open'].astype(float)\n",
    "v2_c = v2['Close'].astype(float)\n",
    "v2_l = v2['Low'].astype(float)\n",
    "v2_h = v2['High'].astype(float)"
   ]
  },
  {
   "cell_type": "code",
   "execution_count": null,
   "metadata": {},
   "outputs": [],
   "source": []
  },
  {
   "cell_type": "code",
   "execution_count": null,
   "metadata": {},
   "outputs": [],
   "source": []
  },
  {
   "cell_type": "code",
   "execution_count": null,
   "metadata": {},
   "outputs": [],
   "source": []
  },
  {
   "cell_type": "code",
   "execution_count": null,
   "metadata": {},
   "outputs": [],
   "source": []
  },
  {
   "cell_type": "code",
   "execution_count": null,
   "metadata": {},
   "outputs": [],
   "source": []
  },
  {
   "cell_type": "code",
   "execution_count": null,
   "metadata": {},
   "outputs": [],
   "source": []
  },
  {
   "cell_type": "code",
   "execution_count": null,
   "metadata": {},
   "outputs": [],
   "source": []
  },
  {
   "cell_type": "code",
   "execution_count": null,
   "metadata": {},
   "outputs": [],
   "source": []
  },
  {
   "cell_type": "code",
   "execution_count": null,
   "metadata": {},
   "outputs": [],
   "source": []
  },
  {
   "cell_type": "code",
   "execution_count": null,
   "metadata": {},
   "outputs": [],
   "source": []
  }
 ],
 "metadata": {
  "kernelspec": {
   "display_name": "Python 3",
   "language": "python",
   "name": "python3"
  },
  "language_info": {
   "codemirror_mode": {
    "name": "ipython",
    "version": 3
   },
   "file_extension": ".py",
   "mimetype": "text/x-python",
   "name": "python",
   "nbconvert_exporter": "python",
   "pygments_lexer": "ipython3",
   "version": "3.7.3"
  }
 },
 "nbformat": 4,
 "nbformat_minor": 2
}
